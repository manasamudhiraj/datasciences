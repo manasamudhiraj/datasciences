{
  "nbformat": 4,
  "nbformat_minor": 0,
  "metadata": {
    "colab": {
      "name": "Assessment-37-(09-07-2020)",
      "provenance": []
    },
    "kernelspec": {
      "name": "python3",
      "display_name": "Python 3"
    }
  },
  "cells": [
    {
      "cell_type": "code",
      "metadata": {
        "id": "8XgYFUAq2qw1",
        "colab_type": "code",
        "colab": {}
      },
      "source": [
        ""
      ],
      "execution_count": null,
      "outputs": []
    },
    {
      "cell_type": "markdown",
      "metadata": {
        "id": "OPlvK8o12uUF",
        "colab_type": "text"
      },
      "source": [
        "##CSE-221710313011-D.Manasa"
      ]
    },
    {
      "cell_type": "code",
      "metadata": {
        "id": "OYNgUHdf2yAP",
        "colab_type": "code",
        "colab": {}
      },
      "source": [
        "import tensorflow as tf\n",
        "import tensorflow.keras as keras\n",
        "import numpy as np\n",
        "import matplotlib.pyplot as plt\n",
        "%matplotlib inline"
      ],
      "execution_count": 1,
      "outputs": []
    },
    {
      "cell_type": "code",
      "metadata": {
        "id": "yjyIED3D3BMr",
        "colab_type": "code",
        "colab": {
          "base_uri": "https://localhost:8080/",
          "height": 34
        },
        "outputId": "23c30b6d-967e-44c5-bef6-704e29c155f6"
      },
      "source": [
        "from keras.datasets.mnist import load_data"
      ],
      "execution_count": 2,
      "outputs": [
        {
          "output_type": "stream",
          "text": [
            "Using TensorFlow backend.\n"
          ],
          "name": "stderr"
        }
      ]
    },
    {
      "cell_type": "code",
      "metadata": {
        "id": "eFvzCp323DCI",
        "colab_type": "code",
        "colab": {
          "base_uri": "https://localhost:8080/",
          "height": 85
        },
        "outputId": "03dab161-2b88-4a3c-f716-483ac951d7b2"
      },
      "source": [
        "(train_digits,train_labels),(test_digits,test_labels)=load_data()\n",
        "print(train_digits.shape)\n",
        "print(test_digits.shape)"
      ],
      "execution_count": 3,
      "outputs": [
        {
          "output_type": "stream",
          "text": [
            "Downloading data from https://s3.amazonaws.com/img-datasets/mnist.npz\n",
            "11493376/11490434 [==============================] - 1s 0us/step\n",
            "(60000, 28, 28)\n",
            "(10000, 28, 28)\n"
          ],
          "name": "stdout"
        }
      ]
    },
    {
      "cell_type": "code",
      "metadata": {
        "id": "KrKNIFnf3FYS",
        "colab_type": "code",
        "colab": {
          "base_uri": "https://localhost:8080/",
          "height": 221
        },
        "outputId": "4d112a5b-9072-4246-95e3-3502c940736d"
      },
      "source": [
        "import pandas as pd\n",
        "pd.Series(train_labels).value_counts"
      ],
      "execution_count": 4,
      "outputs": [
        {
          "output_type": "execute_result",
          "data": {
            "text/plain": [
              "<bound method IndexOpsMixin.value_counts of 0        5\n",
              "1        0\n",
              "2        4\n",
              "3        1\n",
              "4        9\n",
              "        ..\n",
              "59995    8\n",
              "59996    3\n",
              "59997    5\n",
              "59998    6\n",
              "59999    8\n",
              "Length: 60000, dtype: uint8>"
            ]
          },
          "metadata": {
            "tags": []
          },
          "execution_count": 4
        }
      ]
    },
    {
      "cell_type": "code",
      "metadata": {
        "id": "2BoFF9ir3JT7",
        "colab_type": "code",
        "colab": {
          "base_uri": "https://localhost:8080/",
          "height": 221
        },
        "outputId": "01e59408-e06f-49a1-b498-686fb977b3ce"
      },
      "source": [
        "pd.Series(test_labels).value_counts"
      ],
      "execution_count": 5,
      "outputs": [
        {
          "output_type": "execute_result",
          "data": {
            "text/plain": [
              "<bound method IndexOpsMixin.value_counts of 0       7\n",
              "1       2\n",
              "2       1\n",
              "3       0\n",
              "4       4\n",
              "       ..\n",
              "9995    2\n",
              "9996    3\n",
              "9997    4\n",
              "9998    5\n",
              "9999    6\n",
              "Length: 10000, dtype: uint8>"
            ]
          },
          "metadata": {
            "tags": []
          },
          "execution_count": 5
        }
      ]
    },
    {
      "cell_type": "code",
      "metadata": {
        "id": "i4xNg7SV3OS8",
        "colab_type": "code",
        "colab": {
          "base_uri": "https://localhost:8080/",
          "height": 282
        },
        "outputId": "525fead4-1b60-4414-84fe-6d718b530ef3"
      },
      "source": [
        "plt.imshow(train_digits[0])"
      ],
      "execution_count": 6,
      "outputs": [
        {
          "output_type": "execute_result",
          "data": {
            "text/plain": [
              "<matplotlib.image.AxesImage at 0x7f1c89571198>"
            ]
          },
          "metadata": {
            "tags": []
          },
          "execution_count": 6
        },
        {
          "output_type": "display_data",
          "data": {
            "image/png": "[encoded data removed]",
            "text/plain": [
              "<Figure size 432x288 with 1 Axes>"
            ]
          },
          "metadata": {
            "tags": [],
            "needs_background": "light"
          }
        }
      ]
    },
    {
      "cell_type": "code",
      "metadata": {
        "id": "BH3pzDjf3Qk_",
        "colab_type": "code",
        "colab": {
          "base_uri": "https://localhost:8080/",
          "height": 298
        },
        "outputId": "df900c72-2bd6-46ef-8495-fbf59fe40695"
      },
      "source": [
        "plt.title(\"Digit:\"+str(train_labels[0]))\n",
        "plt.imshow(train_digits[0],cmap=\"gray\")"
      ],
      "execution_count": 7,
      "outputs": [
        {
          "output_type": "execute_result",
          "data": {
            "text/plain": [
              "<matplotlib.image.AxesImage at 0x7f1c89028160>"
            ]
          },
          "metadata": {
            "tags": []
          },
          "execution_count": 7
        },
        {
          "output_type": "display_data",
          "data": {
            "image/png": "[encoded data removed]",
            "text/plain": [
              "<Figure size 432x288 with 1 Axes>"
            ]
          },
          "metadata": {
            "tags": [],
            "needs_background": "light"
          }
        }
      ]
    },
    {
      "cell_type": "code",
      "metadata": {
        "id": "ppk9rYmo3UvA",
        "colab_type": "code",
        "colab": {
          "base_uri": "https://localhost:8080/",
          "height": 265
        },
        "outputId": "b1a7a8c4-aa72-4374-f80b-fad833725f51"
      },
      "source": [
        "plt.hist(train_digits[0])\n",
        "plt.show()"
      ],
      "execution_count": 8,
      "outputs": [
        {
          "output_type": "display_data",
          "data": {
            "image/png": "[encoded data removed]",
            "text/plain": [
              "<Figure size 432x288 with 1 Axes>"
            ]
          },
          "metadata": {
            "tags": [],
            "needs_background": "light"
          }
        }
      ]
    },
    {
      "cell_type": "code",
      "metadata": {
        "id": "hDF796hu3YnY",
        "colab_type": "code",
        "colab": {
          "base_uri": "https://localhost:8080/",
          "height": 51
        },
        "outputId": "5a01cbac-f35c-43ee-d103-2da8f13e948b"
      },
      "source": [
        "samp=np.random.randint(train_digits.shape[0],size=16)\n",
        "samp"
      ],
      "execution_count": 9,
      "outputs": [
        {
          "output_type": "execute_result",
          "data": {
            "text/plain": [
              "array([10327, 57131,  7788, 19359, 23445, 54571,  6649, 40214, 43174,\n",
              "       37942, 17686, 28790, 50998, 39405, 28061, 48554])"
            ]
          },
          "metadata": {
            "tags": []
          },
          "execution_count": 9
        }
      ]
    },
    {
      "cell_type": "code",
      "metadata": {
        "id": "nuSfg1fK3a8j",
        "colab_type": "code",
        "colab": {
          "base_uri": "https://localhost:8080/",
          "height": 917
        },
        "outputId": "31bd96cc-a416-47c5-dd04-d476d9801b5e"
      },
      "source": [
        "plt.figure(figsize=(16,16))\n",
        "j=1\n",
        "for i in samp:\n",
        "  plt.subplot(4,4,j)\n",
        "  plt.imshow(train_digits[i])\n",
        "  plt.title(\"Digit:\"+str(train_labels[i]))\n",
        "  plt.axis(\"off\")\n",
        "  j=j+1"
      ],
      "execution_count": 10,
      "outputs": [
        {
          "output_type": "display_data",
          "data": {
            "image/png": "[encoded data removed]",
            "text/plain": [
              "<Figure size 1152x1152 with 16 Axes>"
            ]
          },
          "metadata": {
            "tags": [],
            "needs_background": "light"
          }
        }
      ]
    },
    {
      "cell_type": "code",
      "metadata": {
        "id": "pNOs_2iL3fTO",
        "colab_type": "code",
        "colab": {}
      },
      "source": [
        "train_digits_sc=train_digits/255.0\n",
        "test_digits_sc=test_digits/255.0"
      ],
      "execution_count": 11,
      "outputs": []
    },
    {
      "cell_type": "code",
      "metadata": {
        "id": "NYwTXxur3ja4",
        "colab_type": "code",
        "colab": {}
      },
      "source": [
        "from keras.utils import to_categorical"
      ],
      "execution_count": 12,
      "outputs": []
    },
    {
      "cell_type": "code",
      "metadata": {
        "id": "78SRVHMW3lbO",
        "colab_type": "code",
        "colab": {}
      },
      "source": [
        "train_labels_cat=to_categorical(train_labels)"
      ],
      "execution_count": 13,
      "outputs": []
    },
    {
      "cell_type": "code",
      "metadata": {
        "id": "Jpy4iH763ou3",
        "colab_type": "code",
        "colab": {}
      },
      "source": [
        "test_labels_cat=to_categorical(test_labels)"
      ],
      "execution_count": 14,
      "outputs": []
    },
    {
      "cell_type": "code",
      "metadata": {
        "id": "fY1dgH3D3sNt",
        "colab_type": "code",
        "colab": {
          "base_uri": "https://localhost:8080/",
          "height": 85
        },
        "outputId": "177813e5-48b3-4b90-e943-52d56d46cf0d"
      },
      "source": [
        "from sklearn.model_selection import train_test_split\n",
        "x_train,x_val,y_train,y_val=train_test_split(train_digits_sc,train_labels_cat,test_size=0.1,random_state=32)\n",
        "print(x_train.shape)\n",
        "print(x_val.shape)\n",
        "print(y_train.shape)\n",
        "print(y_val.shape)"
      ],
      "execution_count": 15,
      "outputs": [
        {
          "output_type": "stream",
          "text": [
            "(54000, 28, 28)\n",
            "(6000, 28, 28)\n",
            "(54000, 10)\n",
            "(6000, 10)\n"
          ],
          "name": "stdout"
        }
      ]
    },
    {
      "cell_type": "code",
      "metadata": {
        "id": "0mrSTHbk3vGk",
        "colab_type": "code",
        "colab": {
          "base_uri": "https://localhost:8080/",
          "height": 357
        },
        "outputId": "655a3605-7a93-480f-9a7d-85bde893915a"
      },
      "source": [
        "from keras.models import Sequential\n",
        "from keras.layers import Dense,Flatten\n",
        "\n",
        "model = Sequential()\n",
        "# first layer we need to mention the input shape\n",
        "\n",
        "model.add(Flatten(input_shape=(28,28)))\n",
        "## 784 pixel values as input to this Dense. 128 Neurons in the layers\n",
        "model.add(Dense(128,activation='relu'))# 784 * 128+128\n",
        "model.add(Dense(128,activation='relu'))# \n",
        "model.add(Dense(64,activation='relu'))\n",
        "model.add(Dense(256,activation='relu'))\n",
        "#Final layer\n",
        "model.add(Dense(10,activation='softmax'))\n",
        "model.summary()"
      ],
      "execution_count": 16,
      "outputs": [
        {
          "output_type": "stream",
          "text": [
            "Model: \"sequential_1\"\n",
            "_________________________________________________________________\n",
            "Layer (type)                 Output Shape              Param #   \n",
            "=================================================================\n",
            "flatten_1 (Flatten)          (None, 784)               0         \n",
            "_________________________________________________________________\n",
            "dense_1 (Dense)              (None, 128)               100480    \n",
            "_________________________________________________________________\n",
            "dense_2 (Dense)              (None, 128)               16512     \n",
            "_________________________________________________________________\n",
            "dense_3 (Dense)              (None, 64)                8256      \n",
            "_________________________________________________________________\n",
            "dense_4 (Dense)              (None, 256)               16640     \n",
            "_________________________________________________________________\n",
            "dense_5 (Dense)              (None, 10)                2570      \n",
            "=================================================================\n",
            "Total params: 144,458\n",
            "Trainable params: 144,458\n",
            "Non-trainable params: 0\n",
            "_________________________________________________________________\n"
          ],
          "name": "stdout"
        }
      ]
    },
    {
      "cell_type": "code",
      "metadata": {
        "id": "KZ4fY6VF30G5",
        "colab_type": "code",
        "colab": {}
      },
      "source": [
        "model.compile(optimizer='adam',loss=tf.keras.losses.CategoricalCrossentropy(),metrics=['accuracy'])"
      ],
      "execution_count": 17,
      "outputs": []
    },
    {
      "cell_type": "code",
      "metadata": {
        "id": "a_8wzrQ1341k",
        "colab_type": "code",
        "colab": {
          "base_uri": "https://localhost:8080/",
          "height": 204
        },
        "outputId": "875cea82-a018-48c6-e66a-99581eb2d2fd"
      },
      "source": [
        "history=model.fit(x=x_train,y=y_train,epochs=5,validation_data=(x_val,y_val),batch_size=32)"
      ],
      "execution_count": 18,
      "outputs": [
        {
          "output_type": "stream",
          "text": [
            "Train on 54000 samples, validate on 6000 samples\n",
            "Epoch 1/5\n",
            "54000/54000 [==============================] - 7s 129us/step - loss: 0.2481 - accuracy: 0.9243 - val_loss: 0.1279 - val_accuracy: 0.9638\n",
            "Epoch 2/5\n",
            "54000/54000 [==============================] - 7s 124us/step - loss: 0.1075 - accuracy: 0.9669 - val_loss: 0.1374 - val_accuracy: 0.9610\n",
            "Epoch 3/5\n",
            "54000/54000 [==============================] - 7s 121us/step - loss: 0.0792 - accuracy: 0.9756 - val_loss: 0.1142 - val_accuracy: 0.9675\n",
            "Epoch 4/5\n",
            "54000/54000 [==============================] - 7s 121us/step - loss: 0.0627 - accuracy: 0.9800 - val_loss: 0.0943 - val_accuracy: 0.9753\n",
            "Epoch 5/5\n",
            "54000/54000 [==============================] - 7s 122us/step - loss: 0.0518 - accuracy: 0.9836 - val_loss: 0.1052 - val_accuracy: 0.9733\n"
          ],
          "name": "stdout"
        }
      ]
    },
    {
      "cell_type": "code",
      "metadata": {
        "id": "xMf9AsH139M3",
        "colab_type": "code",
        "colab": {
          "base_uri": "https://localhost:8080/",
          "height": 51
        },
        "outputId": "cb5f7eb9-c8d4-4795-fb38-726f541a40b8"
      },
      "source": [
        "model.evaluate(test_digits_sc,test_labels_cat)"
      ],
      "execution_count": 19,
      "outputs": [
        {
          "output_type": "stream",
          "text": [
            "10000/10000 [==============================] - 0s 33us/step\n"
          ],
          "name": "stdout"
        },
        {
          "output_type": "execute_result",
          "data": {
            "text/plain": [
              "[0.10101587304935675, 0.9729999899864197]"
            ]
          },
          "metadata": {
            "tags": []
          },
          "execution_count": 19
        }
      ]
    },
    {
      "cell_type": "code",
      "metadata": {
        "id": "KtN4bKaY4AGc",
        "colab_type": "code",
        "colab": {
          "base_uri": "https://localhost:8080/",
          "height": 68
        },
        "outputId": "94eb0c20-f1ed-423e-eaf4-b215549412ad"
      },
      "source": [
        "print(test_digits_sc.shape)\n",
        "print(test_digits_sc[0].shape)\n",
        "print(np.expand_dims(test_digits_sc[0],axis=0).shape)"
      ],
      "execution_count": 20,
      "outputs": [
        {
          "output_type": "stream",
          "text": [
            "(10000, 28, 28)\n",
            "(28, 28)\n",
            "(1, 28, 28)\n"
          ],
          "name": "stdout"
        }
      ]
    },
    {
      "cell_type": "code",
      "metadata": {
        "id": "9kb0NyMk4E1d",
        "colab_type": "code",
        "colab": {
          "base_uri": "https://localhost:8080/",
          "height": 68
        },
        "outputId": "bbfc10e1-f546-4ec3-cf70-f37a5b9ab390"
      },
      "source": [
        "model.predict(np.expand_dims(test_digits_sc[0],axis=0))"
      ],
      "execution_count": 21,
      "outputs": [
        {
          "output_type": "execute_result",
          "data": {
            "text/plain": [
              "array([[5.0475098e-08, 1.2603958e-06, 2.3770543e-05, 2.7566175e-06,\n",
              "        9.7547581e-10, 1.9598824e-08, 5.3389004e-10, 9.9996829e-01,\n",
              "        7.4746805e-07, 3.1100160e-06]], dtype=float32)"
            ]
          },
          "metadata": {
            "tags": []
          },
          "execution_count": 21
        }
      ]
    },
    {
      "cell_type": "code",
      "metadata": {
        "id": "LS9VfEwH4KZb",
        "colab_type": "code",
        "colab": {
          "base_uri": "https://localhost:8080/",
          "height": 527
        },
        "outputId": "7f335213-2d26-45ea-ab82-eadbdc3b4390"
      },
      "source": [
        "model.predict(test_digits_sc[:10])"
      ],
      "execution_count": 22,
      "outputs": [
        {
          "output_type": "execute_result",
          "data": {
            "text/plain": [
              "array([[5.04751974e-08, 1.26039822e-06, 2.37705881e-05, 2.75662251e-06,\n",
              "        9.75477699e-10, 1.95988239e-08, 5.33890043e-10, 9.99968290e-01,\n",
              "        7.47469471e-07, 3.11002191e-06],\n",
              "       [2.27079206e-12, 3.41373180e-07, 9.99999642e-01, 3.44450299e-08,\n",
              "        1.39427402e-12, 4.93370733e-10, 2.00537614e-10, 4.81573537e-09,\n",
              "        1.37038403e-09, 2.93912894e-15],\n",
              "       [8.87435050e-08, 9.99983549e-01, 8.38392862e-06, 1.89406961e-08,\n",
              "        8.43422683e-08, 4.25904005e-08, 8.62877698e-07, 2.93645599e-06,\n",
              "        4.02266414e-06, 1.96106402e-08],\n",
              "       [9.99998450e-01, 7.72287095e-11, 4.08813690e-07, 1.25167148e-08,\n",
              "        2.23500564e-07, 2.92024737e-07, 2.26801191e-07, 1.86263520e-08,\n",
              "        2.06228421e-08, 3.91071666e-07],\n",
              "       [5.09271160e-07, 3.85827441e-08, 8.88865941e-07, 4.28465441e-09,\n",
              "        9.99975801e-01, 7.10842869e-08, 2.85785859e-07, 2.49598333e-08,\n",
              "        7.04113390e-08, 2.23049628e-05],\n",
              "       [1.96057517e-08, 9.99997497e-01, 2.68568215e-07, 4.29206559e-10,\n",
              "        2.35488451e-09, 1.70000652e-10, 1.05630633e-08, 1.86595469e-06,\n",
              "        2.48985970e-07, 1.20195465e-09],\n",
              "       [1.05418076e-05, 2.50406583e-06, 1.03033191e-04, 1.15109447e-06,\n",
              "        9.99486685e-01, 5.16395676e-06, 8.26319319e-06, 1.09802022e-05,\n",
              "        2.71052762e-04, 1.00650563e-04],\n",
              "       [5.49370043e-06, 6.83412281e-07, 5.14115527e-06, 1.48662381e-04,\n",
              "        9.06098139e-05, 9.46871114e-06, 2.63238675e-08, 1.17035146e-04,\n",
              "        4.74910894e-06, 9.99618053e-01],\n",
              "       [2.16811037e-04, 3.77637008e-07, 2.31133035e-05, 8.14737723e-06,\n",
              "        3.79260819e-05, 4.34085310e-01, 5.65194011e-01, 4.80005102e-09,\n",
              "        6.13161319e-05, 3.72999581e-04],\n",
              "       [3.88777615e-08, 9.77468844e-08, 3.39068919e-07, 2.65855056e-06,\n",
              "        6.01966050e-04, 5.55102808e-08, 2.85859336e-10, 2.47374046e-05,\n",
              "        1.09946841e-05, 9.99359190e-01]], dtype=float32)"
            ]
          },
          "metadata": {
            "tags": []
          },
          "execution_count": 22
        }
      ]
    },
    {
      "cell_type": "code",
      "metadata": {
        "id": "nAsGQnYU4NWi",
        "colab_type": "code",
        "colab": {
          "base_uri": "https://localhost:8080/",
          "height": 34
        },
        "outputId": "6b6f0a3f-5059-4558-881a-c7d5c1d28ee2"
      },
      "source": [
        "model.predict_classes(np.expand_dims(test_digits_sc[0],axis=0))"
      ],
      "execution_count": 23,
      "outputs": [
        {
          "output_type": "execute_result",
          "data": {
            "text/plain": [
              "array([7])"
            ]
          },
          "metadata": {
            "tags": []
          },
          "execution_count": 23
        }
      ]
    },
    {
      "cell_type": "code",
      "metadata": {
        "id": "qrN_dWXy4R6k",
        "colab_type": "code",
        "colab": {
          "base_uri": "https://localhost:8080/",
          "height": 68
        },
        "outputId": "f1b5d464-8ae7-476b-8e35-c7514a65f762"
      },
      "source": [
        "model.predict_proba(np.expand_dims(test_digits_sc[0],axis=0))"
      ],
      "execution_count": 24,
      "outputs": [
        {
          "output_type": "execute_result",
          "data": {
            "text/plain": [
              "array([[5.0475098e-08, 1.2603958e-06, 2.3770543e-05, 2.7566175e-06,\n",
              "        9.7547581e-10, 1.9598824e-08, 5.3389004e-10, 9.9996829e-01,\n",
              "        7.4746805e-07, 3.1100160e-06]], dtype=float32)"
            ]
          },
          "metadata": {
            "tags": []
          },
          "execution_count": 24
        }
      ]
    },
    {
      "cell_type": "code",
      "metadata": {
        "id": "ojLd97uz4VXO",
        "colab_type": "code",
        "colab": {
          "base_uri": "https://localhost:8080/",
          "height": 289
        },
        "outputId": "9b25bc46-0cfa-4e18-fedd-55ea848e5728"
      },
      "source": [
        "history.history"
      ],
      "execution_count": 25,
      "outputs": [
        {
          "output_type": "execute_result",
          "data": {
            "text/plain": [
              "{'accuracy': [0.92433333, 0.96685183, 0.97564816, 0.97996294, 0.9836111],\n",
              " 'loss': [0.24805080693201334,\n",
              "  0.10752224000122536,\n",
              "  0.07915735859592894,\n",
              "  0.06265251108650463,\n",
              "  0.05180423226424803],\n",
              " 'val_accuracy': [0.9638333320617676,\n",
              "  0.9610000252723694,\n",
              "  0.9674999713897705,\n",
              "  0.9753333330154419,\n",
              "  0.9733333587646484],\n",
              " 'val_loss': [0.1279459338610371,\n",
              "  0.1373704410791397,\n",
              "  0.11421892425914605,\n",
              "  0.09426993807731196,\n",
              "  0.10517284358277296]}"
            ]
          },
          "metadata": {
            "tags": []
          },
          "execution_count": 25
        }
      ]
    },
    {
      "cell_type": "code",
      "metadata": {
        "id": "runIg7ee4X_a",
        "colab_type": "code",
        "colab": {
          "base_uri": "https://localhost:8080/",
          "height": 282
        },
        "outputId": "d8c73cb4-f078-4480-e213-13df4c35e3a4"
      },
      "source": [
        "plt.plot(history.history['accuracy'])\n",
        "plt.plot(history.history['val_accuracy'])"
      ],
      "execution_count": 26,
      "outputs": [
        {
          "output_type": "execute_result",
          "data": {
            "text/plain": [
              "[<matplotlib.lines.Line2D at 0x7f1c7aac2c88>]"
            ]
          },
          "metadata": {
            "tags": []
          },
          "execution_count": 26
        },
        {
          "output_type": "display_data",
          "data": {
            "image/png": "[encoded data removed]",
            "text/plain": [
              "<Figure size 432x288 with 1 Axes>"
            ]
          },
          "metadata": {
            "tags": [],
            "needs_background": "light"
          }
        }
      ]
    },
    {
      "cell_type": "code",
      "metadata": {
        "id": "9-3_JB3H4czt",
        "colab_type": "code",
        "colab": {
          "base_uri": "https://localhost:8080/",
          "height": 357
        },
        "outputId": "5a003313-3987-4d3b-c5ac-ade6f4e65d96"
      },
      "source": [
        "model1 = Sequential()\n",
        "# first layer we need to mention the input shape\n",
        "\n",
        "model1.add(Flatten(input_shape=(28,28)))\n",
        "## 784 pixel values as input to this Dense. 128 Neurons in the layers\n",
        "model1.add(Dense(128,activation='relu'))# 784 * 128+128\n",
        "model1.add(Dense(256,activation='relu'))# \n",
        "model1.add(Dense(64,activation='relu'))\n",
        "model1.add(Dense(256,activation='relu'))\n",
        "#Final layer\n",
        "model1.add(Dense(10,activation='sigmoid'))\n",
        "model1.summary()"
      ],
      "execution_count": 27,
      "outputs": [
        {
          "output_type": "stream",
          "text": [
            "Model: \"sequential_2\"\n",
            "_________________________________________________________________\n",
            "Layer (type)                 Output Shape              Param #   \n",
            "=================================================================\n",
            "flatten_2 (Flatten)          (None, 784)               0         \n",
            "_________________________________________________________________\n",
            "dense_6 (Dense)              (None, 128)               100480    \n",
            "_________________________________________________________________\n",
            "dense_7 (Dense)              (None, 256)               33024     \n",
            "_________________________________________________________________\n",
            "dense_8 (Dense)              (None, 64)                16448     \n",
            "_________________________________________________________________\n",
            "dense_9 (Dense)              (None, 256)               16640     \n",
            "_________________________________________________________________\n",
            "dense_10 (Dense)             (None, 10)                2570      \n",
            "=================================================================\n",
            "Total params: 169,162\n",
            "Trainable params: 169,162\n",
            "Non-trainable params: 0\n",
            "_________________________________________________________________\n"
          ],
          "name": "stdout"
        }
      ]
    },
    {
      "cell_type": "code",
      "metadata": {
        "id": "zOZXvJCL4iYA",
        "colab_type": "code",
        "colab": {}
      },
      "source": [
        "model1.compile(optimizer='adam',loss=tf.keras.losses.CategoricalCrossentropy(),metrics=['accuracy'])"
      ],
      "execution_count": 28,
      "outputs": []
    },
    {
      "cell_type": "code",
      "metadata": {
        "id": "lShw5WQq4nKc",
        "colab_type": "code",
        "colab": {
          "base_uri": "https://localhost:8080/",
          "height": 204
        },
        "outputId": "22b089e2-fca0-47f1-d2e0-5aa45432cba6"
      },
      "source": [
        "history=model1.fit(x=x_train,y=y_train,epochs=5,validation_data=(x_val,y_val),batch_size=32)"
      ],
      "execution_count": 29,
      "outputs": [
        {
          "output_type": "stream",
          "text": [
            "Train on 54000 samples, validate on 6000 samples\n",
            "Epoch 1/5\n",
            "54000/54000 [==============================] - 7s 138us/step - loss: 0.2624 - accuracy: 0.9201 - val_loss: 0.1468 - val_accuracy: 0.9563\n",
            "Epoch 2/5\n",
            "54000/54000 [==============================] - 7s 127us/step - loss: 0.1127 - accuracy: 0.9663 - val_loss: 0.1043 - val_accuracy: 0.9695\n",
            "Epoch 3/5\n",
            "54000/54000 [==============================] - 7s 131us/step - loss: 0.0803 - accuracy: 0.9763 - val_loss: 0.1099 - val_accuracy: 0.9725\n",
            "Epoch 4/5\n",
            "54000/54000 [==============================] - 7s 127us/step - loss: 0.0626 - accuracy: 0.9809 - val_loss: 0.1173 - val_accuracy: 0.9692\n",
            "Epoch 5/5\n",
            "54000/54000 [==============================] - 7s 132us/step - loss: 0.0528 - accuracy: 0.9840 - val_loss: 0.1019 - val_accuracy: 0.9742\n"
          ],
          "name": "stdout"
        }
      ]
    },
    {
      "cell_type": "code",
      "metadata": {
        "id": "oBM__Ds64qcL",
        "colab_type": "code",
        "colab": {
          "base_uri": "https://localhost:8080/",
          "height": 51
        },
        "outputId": "0771dd6b-ea1c-40e0-8ad7-7f9997a3be7e"
      },
      "source": [
        "model1.evaluate(test_digits_sc,test_labels_cat)"
      ],
      "execution_count": 30,
      "outputs": [
        {
          "output_type": "stream",
          "text": [
            "10000/10000 [==============================] - 0s 32us/step\n"
          ],
          "name": "stdout"
        },
        {
          "output_type": "execute_result",
          "data": {
            "text/plain": [
              "[0.09051326593442355, 0.9746999740600586]"
            ]
          },
          "metadata": {
            "tags": []
          },
          "execution_count": 30
        }
      ]
    },
    {
      "cell_type": "code",
      "metadata": {
        "id": "ZFp6dyM34vwN",
        "colab_type": "code",
        "colab": {
          "base_uri": "https://localhost:8080/",
          "height": 68
        },
        "outputId": "2c268a04-22e6-475c-fcec-f779dd620d6f"
      },
      "source": [
        "print(test_digits_sc.shape)\n",
        "print(test_digits_sc[0].shape)\n",
        "print(np.expand_dims(test_digits_sc[0],axis=0).shape)"
      ],
      "execution_count": 31,
      "outputs": [
        {
          "output_type": "stream",
          "text": [
            "(10000, 28, 28)\n",
            "(28, 28)\n",
            "(1, 28, 28)\n"
          ],
          "name": "stdout"
        }
      ]
    },
    {
      "cell_type": "code",
      "metadata": {
        "id": "E0u_Vq2O40Et",
        "colab_type": "code",
        "colab": {
          "base_uri": "https://localhost:8080/",
          "height": 68
        },
        "outputId": "fb88adf9-83d1-499a-9ea1-e28a3bb15e65"
      },
      "source": [
        "model.predict(np.expand_dims(test_digits_sc[0],axis=0))"
      ],
      "execution_count": 32,
      "outputs": [
        {
          "output_type": "execute_result",
          "data": {
            "text/plain": [
              "array([[5.0475098e-08, 1.2603958e-06, 2.3770543e-05, 2.7566175e-06,\n",
              "        9.7547581e-10, 1.9598824e-08, 5.3389004e-10, 9.9996829e-01,\n",
              "        7.4746805e-07, 3.1100160e-06]], dtype=float32)"
            ]
          },
          "metadata": {
            "tags": []
          },
          "execution_count": 32
        }
      ]
    },
    {
      "cell_type": "code",
      "metadata": {
        "id": "C0QyUvta43So",
        "colab_type": "code",
        "colab": {
          "base_uri": "https://localhost:8080/",
          "height": 527
        },
        "outputId": "ba827902-9f4d-40c9-c9ea-ffcee3658686"
      },
      "source": [
        "model.predict(test_digits_sc[:10])"
      ],
      "execution_count": 33,
      "outputs": [
        {
          "output_type": "execute_result",
          "data": {
            "text/plain": [
              "array([[5.04751974e-08, 1.26039822e-06, 2.37705881e-05, 2.75662251e-06,\n",
              "        9.75477699e-10, 1.95988239e-08, 5.33890043e-10, 9.99968290e-01,\n",
              "        7.47469471e-07, 3.11002191e-06],\n",
              "       [2.27079206e-12, 3.41373180e-07, 9.99999642e-01, 3.44450299e-08,\n",
              "        1.39427402e-12, 4.93370733e-10, 2.00537614e-10, 4.81573537e-09,\n",
              "        1.37038403e-09, 2.93912894e-15],\n",
              "       [8.87435050e-08, 9.99983549e-01, 8.38392862e-06, 1.89406961e-08,\n",
              "        8.43422683e-08, 4.25904005e-08, 8.62877698e-07, 2.93645599e-06,\n",
              "        4.02266414e-06, 1.96106402e-08],\n",
              "       [9.99998450e-01, 7.72287095e-11, 4.08813690e-07, 1.25167148e-08,\n",
              "        2.23500564e-07, 2.92024737e-07, 2.26801191e-07, 1.86263520e-08,\n",
              "        2.06228421e-08, 3.91071666e-07],\n",
              "       [5.09271160e-07, 3.85827441e-08, 8.88865941e-07, 4.28465441e-09,\n",
              "        9.99975801e-01, 7.10842869e-08, 2.85785859e-07, 2.49598333e-08,\n",
              "        7.04113390e-08, 2.23049628e-05],\n",
              "       [1.96057517e-08, 9.99997497e-01, 2.68568215e-07, 4.29206559e-10,\n",
              "        2.35488451e-09, 1.70000652e-10, 1.05630633e-08, 1.86595469e-06,\n",
              "        2.48985970e-07, 1.20195465e-09],\n",
              "       [1.05418076e-05, 2.50406583e-06, 1.03033191e-04, 1.15109447e-06,\n",
              "        9.99486685e-01, 5.16395676e-06, 8.26319319e-06, 1.09802022e-05,\n",
              "        2.71052762e-04, 1.00650563e-04],\n",
              "       [5.49370043e-06, 6.83412281e-07, 5.14115527e-06, 1.48662381e-04,\n",
              "        9.06098139e-05, 9.46871114e-06, 2.63238675e-08, 1.17035146e-04,\n",
              "        4.74910894e-06, 9.99618053e-01],\n",
              "       [2.16811037e-04, 3.77637008e-07, 2.31133035e-05, 8.14737723e-06,\n",
              "        3.79260819e-05, 4.34085310e-01, 5.65194011e-01, 4.80005102e-09,\n",
              "        6.13161319e-05, 3.72999581e-04],\n",
              "       [3.88777615e-08, 9.77468844e-08, 3.39068919e-07, 2.65855056e-06,\n",
              "        6.01966050e-04, 5.55102808e-08, 2.85859336e-10, 2.47374046e-05,\n",
              "        1.09946841e-05, 9.99359190e-01]], dtype=float32)"
            ]
          },
          "metadata": {
            "tags": []
          },
          "execution_count": 33
        }
      ]
    },
    {
      "cell_type": "code",
      "metadata": {
        "id": "Z-lHfOSw47pA",
        "colab_type": "code",
        "colab": {
          "base_uri": "https://localhost:8080/",
          "height": 34
        },
        "outputId": "3d57b43e-235e-4b8c-f3c2-ddc301cea300"
      },
      "source": [
        "model.predict_classes(np.expand_dims(test_digits_sc[0],axis=0))"
      ],
      "execution_count": 34,
      "outputs": [
        {
          "output_type": "execute_result",
          "data": {
            "text/plain": [
              "array([7])"
            ]
          },
          "metadata": {
            "tags": []
          },
          "execution_count": 34
        }
      ]
    },
    {
      "cell_type": "code",
      "metadata": {
        "id": "BHAHPLhP4_0z",
        "colab_type": "code",
        "colab": {
          "base_uri": "https://localhost:8080/",
          "height": 68
        },
        "outputId": "801b8f37-37a0-46f8-c344-467e60ac58ed"
      },
      "source": [
        "model.predict_proba(np.expand_dims(test_digits_sc[0],axis=0))"
      ],
      "execution_count": 35,
      "outputs": [
        {
          "output_type": "execute_result",
          "data": {
            "text/plain": [
              "array([[5.0475098e-08, 1.2603958e-06, 2.3770543e-05, 2.7566175e-06,\n",
              "        9.7547581e-10, 1.9598824e-08, 5.3389004e-10, 9.9996829e-01,\n",
              "        7.4746805e-07, 3.1100160e-06]], dtype=float32)"
            ]
          },
          "metadata": {
            "tags": []
          },
          "execution_count": 35
        }
      ]
    },
    {
      "cell_type": "code",
      "metadata": {
        "id": "Pm32sNVc5CDo",
        "colab_type": "code",
        "colab": {
          "base_uri": "https://localhost:8080/",
          "height": 289
        },
        "outputId": "68b1943b-a71d-41b5-b0e4-7b77d2b50d08"
      },
      "source": [
        "history.history"
      ],
      "execution_count": 36,
      "outputs": [
        {
          "output_type": "execute_result",
          "data": {
            "text/plain": [
              "{'accuracy': [0.92005557, 0.9663148, 0.9763333, 0.98094445, 0.98403704],\n",
              " 'loss': [0.26241733064833617,\n",
              "  0.11269523692075853,\n",
              "  0.0802537467200999,\n",
              "  0.06259288280750452,\n",
              "  0.052840369794190066],\n",
              " 'val_accuracy': [0.956333339214325,\n",
              "  0.9695000052452087,\n",
              "  0.9725000262260437,\n",
              "  0.9691666960716248,\n",
              "  0.9741666913032532],\n",
              " 'val_loss': [0.14679601957897345,\n",
              "  0.10425256985674301,\n",
              "  0.10987109886482357,\n",
              "  0.11728032293481132,\n",
              "  0.10194425885503491]}"
            ]
          },
          "metadata": {
            "tags": []
          },
          "execution_count": 36
        }
      ]
    },
    {
      "cell_type": "code",
      "metadata": {
        "id": "OXmtOh8x5EzW",
        "colab_type": "code",
        "colab": {
          "base_uri": "https://localhost:8080/",
          "height": 282
        },
        "outputId": "0ecf1bc6-36c6-4e25-b3d7-53741d4383a1"
      },
      "source": [
        "plt.plot(history.history['accuracy'])\n",
        "plt.plot(history.history['val_accuracy'])"
      ],
      "execution_count": 37,
      "outputs": [
        {
          "output_type": "execute_result",
          "data": {
            "text/plain": [
              "[<matplotlib.lines.Line2D at 0x7f1c79c77550>]"
            ]
          },
          "metadata": {
            "tags": []
          },
          "execution_count": 37
        },
        {
          "output_type": "display_data",
          "data": {
            "image/png": "[encoded data removed]",
            "text/plain": [
              "<Figure size 432x288 with 1 Axes>"
            ]
          },
          "metadata": {
            "tags": [],
            "needs_background": "light"
          }
        }
      ]
    },
    {
      "cell_type": "code",
      "metadata": {
        "id": "AQKnhs9c5K8-",
        "colab_type": "code",
        "colab": {}
      },
      "source": [
        ""
      ],
      "execution_count": null,
      "outputs": []
    }
  ]
}