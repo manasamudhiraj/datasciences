{
  "nbformat": 4,
  "nbformat_minor": 0,
  "metadata": {
    "colab": {
      "name": "Assessment-5-(01-06-2020)",
      "provenance": []
    },
    "kernelspec": {
      "name": "python3",
      "display_name": "Python 3"
    }
  },
  "cells": [
    {
      "cell_type": "code",
      "metadata": {
        "id": "uQtrAkAJ_VjZ",
        "colab_type": "code",
        "colab": {}
      },
      "source": [
        ""
      ],
      "execution_count": 0,
      "outputs": []
    },
    {
      "cell_type": "markdown",
      "metadata": {
        "id": "QklgoHnU_lrn",
        "colab_type": "text"
      },
      "source": [
        "##CSE-221710313011-D.Manasa"
      ]
    },
    {
      "cell_type": "code",
      "metadata": {
        "id": "3P6bNh4U_rLQ",
        "colab_type": "code",
        "colab": {}
      },
      "source": [
        ""
      ],
      "execution_count": 0,
      "outputs": []
    },
    {
      "cell_type": "code",
      "metadata": {
        "id": "2Q6LyfWe_sin",
        "colab_type": "code",
        "colab": {
          "base_uri": "https://localhost:8080/",
          "height": 187
        },
        "outputId": "1f037d98-7f1d-4167-9ce4-35d314ab57b6"
      },
      "source": [
        "l1=[\"attractive\",\"bald\",\"beautiful\",\"chubby\",\"clean\",\"dazzling\",\"drab\",\"elegant\",\"fancy\",\"fit\"]\n",
        "l2=[\"area\",\"book\",\"business\",\"case\",\"child\",\"company\",\"country\",\"day\",\"eye\",\"fact\"]\n",
        "l3=[\"!\",\"@\",\"#\",\"$\",\"%\",\"*\"]\n",
        "import random\n",
        "while True:\n",
        "    x=str(random.choice(l1))\n",
        "    y=str(random.choice(l2))\n",
        "    z=str(random.randint(0,100))\n",
        "    r=str(random.choice(l3))\n",
        "    print(str(x+y+z+r))\n",
        "    pwd=input(\"do you want another password \")\n",
        "    if pwd==\"no\":\n",
        "        break\n",
        "    else:\n",
        "        continue"
      ],
      "execution_count": 1,
      "outputs": [
        {
          "output_type": "stream",
          "text": [
            "beautifulbook80%\n",
            "do you want another password yes\n",
            "baldeye35@\n",
            "do you want another password yes\n",
            "beautifulcountry20%\n",
            "do you want another password yes\n",
            "dazzlingbusiness61$\n",
            "do you want another password yes\n",
            "elegantchild65#\n",
            "do you want another password no\n"
          ],
          "name": "stdout"
        }
      ]
    },
    {
      "cell_type": "code",
      "metadata": {
        "id": "84xbGOFL_6ca",
        "colab_type": "code",
        "colab": {}
      },
      "source": [
        ""
      ],
      "execution_count": 0,
      "outputs": []
    }
  ]
}