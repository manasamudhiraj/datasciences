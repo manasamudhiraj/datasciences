{
  "nbformat": 4,
  "nbformat_minor": 0,
  "metadata": {
    "colab": {
      "name": "Assessment-11-(8-06-2020)",
      "provenance": []
    },
    "kernelspec": {
      "name": "python3",
      "display_name": "Python 3"
    }
  },
  "cells": [
    {
      "cell_type": "markdown",
      "metadata": {
        "id": "CCYLrz-qxNNv",
        "colab_type": "text"
      },
      "source": [
        "CSE-221710313011-D.Manasa"
      ]
    },
    {
      "cell_type": "code",
      "metadata": {
        "id": "rC5uAuLpxUN0",
        "colab_type": "code",
        "colab": {}
      },
      "source": [
        "import pandas as pd\n",
        "import numpy as np"
      ],
      "execution_count": 0,
      "outputs": []
    },
    {
      "cell_type": "markdown",
      "metadata": {
        "id": "alO38Iw80bPm",
        "colab_type": "text"
      },
      "source": [
        "##Question 1:\n",
        "Experiment pivot_table() function on given DataFrame\n"
      ]
    },
    {
      "cell_type": "code",
      "metadata": {
        "id": "lO5roqFk0dW_",
        "colab_type": "code",
        "colab": {
          "base_uri": "https://localhost:8080/",
          "height": 328
        },
        "outputId": "5ace6593-a741-44f0-dc93-5ce6da6bf2cb"
      },
      "source": [
        "df = pd.DataFrame({\"A\": [\"foo\", \"foo\", \"foo\", \"foo\", \"foo\", \"bar\", \"bar\", \"bar\", \"bar\"],\n",
        "                  \t       \"B\": [\"one\", \"one\", \"one\", \"two\", \"two\", \"one\", \"one\", \"two\", \"two\"],\n",
        "                   \t        \"C\": [\"small\", \"large\", \"large\", \"small\",\"small\", \"large\", \"small\", \"small\",\"large\"],\n",
        "                               \"D\": [1, 2, 2, 3, 3, 4, 5, 6, 7],\n",
        "                               \"E\": [2, 4, 5, 5, 6, 6, 8, 9, 9]})\n",
        "df"
      ],
      "execution_count": 2,
      "outputs": [
        {
          "output_type": "execute_result",
          "data": {
            "text/html": [
              "<div>\n",
              "<style scoped>\n",
              "    .dataframe tbody tr th:only-of-type {\n",
              "        vertical-align: middle;\n",
              "    }\n",
              "\n",
              "    .dataframe tbody tr th {\n",
              "        vertical-align: top;\n",
              "    }\n",
              "\n",
              "    .dataframe thead th {\n",
              "        text-align: right;\n",
              "    }\n",
              "</style>\n",
              "<table border=\"1\" class=\"dataframe\">\n",
              "  <thead>\n",
              "    <tr style=\"text-align: right;\">\n",
              "      <th></th>\n",
              "      <th>A</th>\n",
              "      <th>B</th>\n",
              "      <th>C</th>\n",
              "      <th>D</th>\n",
              "      <th>E</th>\n",
              "    </tr>\n",
              "  </thead>\n",
              "  <tbody>\n",
              "    <tr>\n",
              "      <th>0</th>\n",
              "      <td>foo</td>\n",
              "      <td>one</td>\n",
              "      <td>small</td>\n",
              "      <td>1</td>\n",
              "      <td>2</td>\n",
              "    </tr>\n",
              "    <tr>\n",
              "      <th>1</th>\n",
              "      <td>foo</td>\n",
              "      <td>one</td>\n",
              "      <td>large</td>\n",
              "      <td>2</td>\n",
              "      <td>4</td>\n",
              "    </tr>\n",
              "    <tr>\n",
              "      <th>2</th>\n",
              "      <td>foo</td>\n",
              "      <td>one</td>\n",
              "      <td>large</td>\n",
              "      <td>2</td>\n",
              "      <td>5</td>\n",
              "    </tr>\n",
              "    <tr>\n",
              "      <th>3</th>\n",
              "      <td>foo</td>\n",
              "      <td>two</td>\n",
              "      <td>small</td>\n",
              "      <td>3</td>\n",
              "      <td>5</td>\n",
              "    </tr>\n",
              "    <tr>\n",
              "      <th>4</th>\n",
              "      <td>foo</td>\n",
              "      <td>two</td>\n",
              "      <td>small</td>\n",
              "      <td>3</td>\n",
              "      <td>6</td>\n",
              "    </tr>\n",
              "    <tr>\n",
              "      <th>5</th>\n",
              "      <td>bar</td>\n",
              "      <td>one</td>\n",
              "      <td>large</td>\n",
              "      <td>4</td>\n",
              "      <td>6</td>\n",
              "    </tr>\n",
              "    <tr>\n",
              "      <th>6</th>\n",
              "      <td>bar</td>\n",
              "      <td>one</td>\n",
              "      <td>small</td>\n",
              "      <td>5</td>\n",
              "      <td>8</td>\n",
              "    </tr>\n",
              "    <tr>\n",
              "      <th>7</th>\n",
              "      <td>bar</td>\n",
              "      <td>two</td>\n",
              "      <td>small</td>\n",
              "      <td>6</td>\n",
              "      <td>9</td>\n",
              "    </tr>\n",
              "    <tr>\n",
              "      <th>8</th>\n",
              "      <td>bar</td>\n",
              "      <td>two</td>\n",
              "      <td>large</td>\n",
              "      <td>7</td>\n",
              "      <td>9</td>\n",
              "    </tr>\n",
              "  </tbody>\n",
              "</table>\n",
              "</div>"
            ],
            "text/plain": [
              "     A    B      C  D  E\n",
              "0  foo  one  small  1  2\n",
              "1  foo  one  large  2  4\n",
              "2  foo  one  large  2  5\n",
              "3  foo  two  small  3  5\n",
              "4  foo  two  small  3  6\n",
              "5  bar  one  large  4  6\n",
              "6  bar  one  small  5  8\n",
              "7  bar  two  small  6  9\n",
              "8  bar  two  large  7  9"
            ]
          },
          "metadata": {
            "tags": []
          },
          "execution_count": 2
        }
      ]
    },
    {
      "cell_type": "markdown",
      "metadata": {
        "id": "3x0ks8Jo0twz",
        "colab_type": "text"
      },
      "source": [
        "This first example aggregates values by taking the sum."
      ]
    },
    {
      "cell_type": "code",
      "metadata": {
        "id": "k2dIXToo0ubh",
        "colab_type": "code",
        "colab": {
          "base_uri": "https://localhost:8080/",
          "height": 204
        },
        "outputId": "55161c90-c5f7-4486-8053-d58ca296f417"
      },
      "source": [
        "table = pd.pivot_table(df, values='D', index=['A', 'B'],\n",
        "                    columns=['C'], aggfunc=np.sum)\n",
        "table"
      ],
      "execution_count": 3,
      "outputs": [
        {
          "output_type": "execute_result",
          "data": {
            "text/html": [
              "<div>\n",
              "<style scoped>\n",
              "    .dataframe tbody tr th:only-of-type {\n",
              "        vertical-align: middle;\n",
              "    }\n",
              "\n",
              "    .dataframe tbody tr th {\n",
              "        vertical-align: top;\n",
              "    }\n",
              "\n",
              "    .dataframe thead th {\n",
              "        text-align: right;\n",
              "    }\n",
              "</style>\n",
              "<table border=\"1\" class=\"dataframe\">\n",
              "  <thead>\n",
              "    <tr style=\"text-align: right;\">\n",
              "      <th></th>\n",
              "      <th>C</th>\n",
              "      <th>large</th>\n",
              "      <th>small</th>\n",
              "    </tr>\n",
              "    <tr>\n",
              "      <th>A</th>\n",
              "      <th>B</th>\n",
              "      <th></th>\n",
              "      <th></th>\n",
              "    </tr>\n",
              "  </thead>\n",
              "  <tbody>\n",
              "    <tr>\n",
              "      <th rowspan=\"2\" valign=\"top\">bar</th>\n",
              "      <th>one</th>\n",
              "      <td>4.0</td>\n",
              "      <td>5.0</td>\n",
              "    </tr>\n",
              "    <tr>\n",
              "      <th>two</th>\n",
              "      <td>7.0</td>\n",
              "      <td>6.0</td>\n",
              "    </tr>\n",
              "    <tr>\n",
              "      <th rowspan=\"2\" valign=\"top\">foo</th>\n",
              "      <th>one</th>\n",
              "      <td>4.0</td>\n",
              "      <td>1.0</td>\n",
              "    </tr>\n",
              "    <tr>\n",
              "      <th>two</th>\n",
              "      <td>NaN</td>\n",
              "      <td>6.0</td>\n",
              "    </tr>\n",
              "  </tbody>\n",
              "</table>\n",
              "</div>"
            ],
            "text/plain": [
              "C        large  small\n",
              "A   B                \n",
              "bar one    4.0    5.0\n",
              "    two    7.0    6.0\n",
              "foo one    4.0    1.0\n",
              "    two    NaN    6.0"
            ]
          },
          "metadata": {
            "tags": []
          },
          "execution_count": 3
        }
      ]
    },
    {
      "cell_type": "code",
      "metadata": {
        "id": "ofuFAL-_0xxS",
        "colab_type": "code",
        "colab": {
          "base_uri": "https://localhost:8080/",
          "height": 204
        },
        "outputId": "f560f83a-ffaf-493c-93b1-55b004f2d2eb"
      },
      "source": [
        "# fill value parameter\n",
        "table = pd.pivot_table(df, values='D', index=['A', 'B'],\n",
        "                    columns=['C'], aggfunc=np.sum, fill_value=0)\n",
        "table"
      ],
      "execution_count": 4,
      "outputs": [
        {
          "output_type": "execute_result",
          "data": {
            "text/html": [
              "<div>\n",
              "<style scoped>\n",
              "    .dataframe tbody tr th:only-of-type {\n",
              "        vertical-align: middle;\n",
              "    }\n",
              "\n",
              "    .dataframe tbody tr th {\n",
              "        vertical-align: top;\n",
              "    }\n",
              "\n",
              "    .dataframe thead th {\n",
              "        text-align: right;\n",
              "    }\n",
              "</style>\n",
              "<table border=\"1\" class=\"dataframe\">\n",
              "  <thead>\n",
              "    <tr style=\"text-align: right;\">\n",
              "      <th></th>\n",
              "      <th>C</th>\n",
              "      <th>large</th>\n",
              "      <th>small</th>\n",
              "    </tr>\n",
              "    <tr>\n",
              "      <th>A</th>\n",
              "      <th>B</th>\n",
              "      <th></th>\n",
              "      <th></th>\n",
              "    </tr>\n",
              "  </thead>\n",
              "  <tbody>\n",
              "    <tr>\n",
              "      <th rowspan=\"2\" valign=\"top\">bar</th>\n",
              "      <th>one</th>\n",
              "      <td>4</td>\n",
              "      <td>5</td>\n",
              "    </tr>\n",
              "    <tr>\n",
              "      <th>two</th>\n",
              "      <td>7</td>\n",
              "      <td>6</td>\n",
              "    </tr>\n",
              "    <tr>\n",
              "      <th rowspan=\"2\" valign=\"top\">foo</th>\n",
              "      <th>one</th>\n",
              "      <td>4</td>\n",
              "      <td>1</td>\n",
              "    </tr>\n",
              "    <tr>\n",
              "      <th>two</th>\n",
              "      <td>0</td>\n",
              "      <td>6</td>\n",
              "    </tr>\n",
              "  </tbody>\n",
              "</table>\n",
              "</div>"
            ],
            "text/plain": [
              "C        large  small\n",
              "A   B                \n",
              "bar one      4      5\n",
              "    two      7      6\n",
              "foo one      4      1\n",
              "    two      0      6"
            ]
          },
          "metadata": {
            "tags": []
          },
          "execution_count": 4
        }
      ]
    },
    {
      "cell_type": "code",
      "metadata": {
        "id": "0zghp3PX02vq",
        "colab_type": "code",
        "colab": {
          "base_uri": "https://localhost:8080/",
          "height": 204
        },
        "outputId": "e7855c29-9b88-4759-f740-bfc4aa0562e3"
      },
      "source": [
        "#aggregate functions\n",
        "table = pd.pivot_table(df, values=['D', 'E'], index=['A', 'C'],\n",
        "                    aggfunc={'D': np.mean,\n",
        "                             'E': np.mean})\n",
        "table"
      ],
      "execution_count": 5,
      "outputs": [
        {
          "output_type": "execute_result",
          "data": {
            "text/html": [
              "<div>\n",
              "<style scoped>\n",
              "    .dataframe tbody tr th:only-of-type {\n",
              "        vertical-align: middle;\n",
              "    }\n",
              "\n",
              "    .dataframe tbody tr th {\n",
              "        vertical-align: top;\n",
              "    }\n",
              "\n",
              "    .dataframe thead th {\n",
              "        text-align: right;\n",
              "    }\n",
              "</style>\n",
              "<table border=\"1\" class=\"dataframe\">\n",
              "  <thead>\n",
              "    <tr style=\"text-align: right;\">\n",
              "      <th></th>\n",
              "      <th></th>\n",
              "      <th>D</th>\n",
              "      <th>E</th>\n",
              "    </tr>\n",
              "    <tr>\n",
              "      <th>A</th>\n",
              "      <th>C</th>\n",
              "      <th></th>\n",
              "      <th></th>\n",
              "    </tr>\n",
              "  </thead>\n",
              "  <tbody>\n",
              "    <tr>\n",
              "      <th rowspan=\"2\" valign=\"top\">bar</th>\n",
              "      <th>large</th>\n",
              "      <td>5.500000</td>\n",
              "      <td>7.500000</td>\n",
              "    </tr>\n",
              "    <tr>\n",
              "      <th>small</th>\n",
              "      <td>5.500000</td>\n",
              "      <td>8.500000</td>\n",
              "    </tr>\n",
              "    <tr>\n",
              "      <th rowspan=\"2\" valign=\"top\">foo</th>\n",
              "      <th>large</th>\n",
              "      <td>2.000000</td>\n",
              "      <td>4.500000</td>\n",
              "    </tr>\n",
              "    <tr>\n",
              "      <th>small</th>\n",
              "      <td>2.333333</td>\n",
              "      <td>4.333333</td>\n",
              "    </tr>\n",
              "  </tbody>\n",
              "</table>\n",
              "</div>"
            ],
            "text/plain": [
              "                  D         E\n",
              "A   C                        \n",
              "bar large  5.500000  7.500000\n",
              "    small  5.500000  8.500000\n",
              "foo large  2.000000  4.500000\n",
              "    small  2.333333  4.333333"
            ]
          },
          "metadata": {
            "tags": []
          },
          "execution_count": 5
        }
      ]
    },
    {
      "cell_type": "markdown",
      "metadata": {
        "id": "SXwCf5SU2FfG",
        "colab_type": "text"
      },
      "source": [
        "##Question 2:"
      ]
    },
    {
      "cell_type": "code",
      "metadata": {
        "id": "vg2hpxpO08CP",
        "colab_type": "code",
        "colab": {
          "base_uri": "https://localhost:8080/",
          "height": 173
        },
        "outputId": "ab880150-7e31-434c-8e1a-2f48a4340b1c"
      },
      "source": [
        "# How to store a pandas DataFrame as csv file\n",
        "import pandas as pd  \n",
        "import numpy as np\n",
        "nme = [\"bhavna\", \"raj\", \"rani\", \"ravi\"] \n",
        "deg = [\"MBA\", \"Btech\", \"M.Tech\", \"MBA\"] \n",
        "scr = [90, 40, 80, 98] \n",
        "dict = {'name': nme, 'degree': deg, 'score': scr}       \n",
        "df = pd.DataFrame(dict)\n",
        "df.to_csv('file1.csv') \n",
        "df1=pd.read_csv(\"file1.csv\")\n",
        "df1"
      ],
      "execution_count": 6,
      "outputs": [
        {
          "output_type": "execute_result",
          "data": {
            "text/html": [
              "<div>\n",
              "<style scoped>\n",
              "    .dataframe tbody tr th:only-of-type {\n",
              "        vertical-align: middle;\n",
              "    }\n",
              "\n",
              "    .dataframe tbody tr th {\n",
              "        vertical-align: top;\n",
              "    }\n",
              "\n",
              "    .dataframe thead th {\n",
              "        text-align: right;\n",
              "    }\n",
              "</style>\n",
              "<table border=\"1\" class=\"dataframe\">\n",
              "  <thead>\n",
              "    <tr style=\"text-align: right;\">\n",
              "      <th></th>\n",
              "      <th>Unnamed: 0</th>\n",
              "      <th>name</th>\n",
              "      <th>degree</th>\n",
              "      <th>score</th>\n",
              "    </tr>\n",
              "  </thead>\n",
              "  <tbody>\n",
              "    <tr>\n",
              "      <th>0</th>\n",
              "      <td>0</td>\n",
              "      <td>bhavna</td>\n",
              "      <td>MBA</td>\n",
              "      <td>90</td>\n",
              "    </tr>\n",
              "    <tr>\n",
              "      <th>1</th>\n",
              "      <td>1</td>\n",
              "      <td>raj</td>\n",
              "      <td>Btech</td>\n",
              "      <td>40</td>\n",
              "    </tr>\n",
              "    <tr>\n",
              "      <th>2</th>\n",
              "      <td>2</td>\n",
              "      <td>rani</td>\n",
              "      <td>M.Tech</td>\n",
              "      <td>80</td>\n",
              "    </tr>\n",
              "    <tr>\n",
              "      <th>3</th>\n",
              "      <td>3</td>\n",
              "      <td>ravi</td>\n",
              "      <td>MBA</td>\n",
              "      <td>98</td>\n",
              "    </tr>\n",
              "  </tbody>\n",
              "</table>\n",
              "</div>"
            ],
            "text/plain": [
              "   Unnamed: 0    name  degree  score\n",
              "0           0  bhavna     MBA     90\n",
              "1           1     raj   Btech     40\n",
              "2           2    rani  M.Tech     80\n",
              "3           3    ravi     MBA     98"
            ]
          },
          "metadata": {
            "tags": []
          },
          "execution_count": 6
        }
      ]
    },
    {
      "cell_type": "markdown",
      "metadata": {
        "id": "EWoxoQjH1GJD",
        "colab_type": "text"
      },
      "source": [
        "##Question 3:\n",
        "1. For IPL_2018 and IPL_2017 DataFrame finds the sum of both DataFrames and store the result in the DataFrame with the name Total.\n",
        "2. Creating a new column to Total DataFrame - 'Win Percentage' and values of that column will be matches won/matches played.\n",
        "3. Sort the teams with the most number of wins.If the number of wins of two teams are the same, sort by the win percentage.\n",
        "\n"
      ]
    },
    {
      "cell_type": "code",
      "metadata": {
        "id": "IuUOxCLW1HAv",
        "colab_type": "code",
        "colab": {
          "base_uri": "https://localhost:8080/",
          "height": 328
        },
        "outputId": "f8286fea-b42f-4077-b1aa-5836ab6b51a8"
      },
      "source": [
        "IPL_2018 = pd.DataFrame({'IPL Team': ['CSK', 'SRH', 'KKR', 'RR', 'MI', 'RCB', 'KXIP', 'DD'],\n",
        "                         'Played': [16, 17, 16, 15, 14, 14, 14, 14],\n",
        "                         'Won': [11, 10, 9, 7, 6, 6, 6, 5]}\n",
        "                       )\n",
        "# Set the 'IPL Team' column as the index to perform arithmetic operations on the other rows using the team as reference\n",
        "IPL_2018.set_index('IPL Team', inplace = True)\n",
        "IPL_2018\n",
        "\n",
        "\n"
      ],
      "execution_count": 7,
      "outputs": [
        {
          "output_type": "execute_result",
          "data": {
            "text/html": [
              "<div>\n",
              "<style scoped>\n",
              "    .dataframe tbody tr th:only-of-type {\n",
              "        vertical-align: middle;\n",
              "    }\n",
              "\n",
              "    .dataframe tbody tr th {\n",
              "        vertical-align: top;\n",
              "    }\n",
              "\n",
              "    .dataframe thead th {\n",
              "        text-align: right;\n",
              "    }\n",
              "</style>\n",
              "<table border=\"1\" class=\"dataframe\">\n",
              "  <thead>\n",
              "    <tr style=\"text-align: right;\">\n",
              "      <th></th>\n",
              "      <th>Played</th>\n",
              "      <th>Won</th>\n",
              "    </tr>\n",
              "    <tr>\n",
              "      <th>IPL Team</th>\n",
              "      <th></th>\n",
              "      <th></th>\n",
              "    </tr>\n",
              "  </thead>\n",
              "  <tbody>\n",
              "    <tr>\n",
              "      <th>CSK</th>\n",
              "      <td>16</td>\n",
              "      <td>11</td>\n",
              "    </tr>\n",
              "    <tr>\n",
              "      <th>SRH</th>\n",
              "      <td>17</td>\n",
              "      <td>10</td>\n",
              "    </tr>\n",
              "    <tr>\n",
              "      <th>KKR</th>\n",
              "      <td>16</td>\n",
              "      <td>9</td>\n",
              "    </tr>\n",
              "    <tr>\n",
              "      <th>RR</th>\n",
              "      <td>15</td>\n",
              "      <td>7</td>\n",
              "    </tr>\n",
              "    <tr>\n",
              "      <th>MI</th>\n",
              "      <td>14</td>\n",
              "      <td>6</td>\n",
              "    </tr>\n",
              "    <tr>\n",
              "      <th>RCB</th>\n",
              "      <td>14</td>\n",
              "      <td>6</td>\n",
              "    </tr>\n",
              "    <tr>\n",
              "      <th>KXIP</th>\n",
              "      <td>14</td>\n",
              "      <td>6</td>\n",
              "    </tr>\n",
              "    <tr>\n",
              "      <th>DD</th>\n",
              "      <td>14</td>\n",
              "      <td>5</td>\n",
              "    </tr>\n",
              "  </tbody>\n",
              "</table>\n",
              "</div>"
            ],
            "text/plain": [
              "          Played  Won\n",
              "IPL Team             \n",
              "CSK           16   11\n",
              "SRH           17   10\n",
              "KKR           16    9\n",
              "RR            15    7\n",
              "MI            14    6\n",
              "RCB           14    6\n",
              "KXIP          14    6\n",
              "DD            14    5"
            ]
          },
          "metadata": {
            "tags": []
          },
          "execution_count": 7
        }
      ]
    },
    {
      "cell_type": "code",
      "metadata": {
        "id": "pPTbPS5N1Nti",
        "colab_type": "code",
        "colab": {
          "base_uri": "https://localhost:8080/",
          "height": 328
        },
        "outputId": "11428ddd-61f7-4ba1-e335-6cda2235f90d"
      },
      "source": [
        "IPL_2017 = pd.DataFrame({'IPL Team': ['MI', 'RPS', 'KKR', 'SRH', 'KXIP', 'DD', 'GL', 'RCB'],\n",
        "                         'Played': [17, 16, 16, 15, 14, 14, 14, 14],\n",
        "                         'Won': [12, 10, 9, 8, 7, 6, 4, 3]}\n",
        "                       )\n",
        "IPL_2017.set_index('IPL Team', inplace = True)\n",
        "IPL_2017\n"
      ],
      "execution_count": 8,
      "outputs": [
        {
          "output_type": "execute_result",
          "data": {
            "text/html": [
              "<div>\n",
              "<style scoped>\n",
              "    .dataframe tbody tr th:only-of-type {\n",
              "        vertical-align: middle;\n",
              "    }\n",
              "\n",
              "    .dataframe tbody tr th {\n",
              "        vertical-align: top;\n",
              "    }\n",
              "\n",
              "    .dataframe thead th {\n",
              "        text-align: right;\n",
              "    }\n",
              "</style>\n",
              "<table border=\"1\" class=\"dataframe\">\n",
              "  <thead>\n",
              "    <tr style=\"text-align: right;\">\n",
              "      <th></th>\n",
              "      <th>Played</th>\n",
              "      <th>Won</th>\n",
              "    </tr>\n",
              "    <tr>\n",
              "      <th>IPL Team</th>\n",
              "      <th></th>\n",
              "      <th></th>\n",
              "    </tr>\n",
              "  </thead>\n",
              "  <tbody>\n",
              "    <tr>\n",
              "      <th>MI</th>\n",
              "      <td>17</td>\n",
              "      <td>12</td>\n",
              "    </tr>\n",
              "    <tr>\n",
              "      <th>RPS</th>\n",
              "      <td>16</td>\n",
              "      <td>10</td>\n",
              "    </tr>\n",
              "    <tr>\n",
              "      <th>KKR</th>\n",
              "      <td>16</td>\n",
              "      <td>9</td>\n",
              "    </tr>\n",
              "    <tr>\n",
              "      <th>SRH</th>\n",
              "      <td>15</td>\n",
              "      <td>8</td>\n",
              "    </tr>\n",
              "    <tr>\n",
              "      <th>KXIP</th>\n",
              "      <td>14</td>\n",
              "      <td>7</td>\n",
              "    </tr>\n",
              "    <tr>\n",
              "      <th>DD</th>\n",
              "      <td>14</td>\n",
              "      <td>6</td>\n",
              "    </tr>\n",
              "    <tr>\n",
              "      <th>GL</th>\n",
              "      <td>14</td>\n",
              "      <td>4</td>\n",
              "    </tr>\n",
              "    <tr>\n",
              "      <th>RCB</th>\n",
              "      <td>14</td>\n",
              "      <td>3</td>\n",
              "    </tr>\n",
              "  </tbody>\n",
              "</table>\n",
              "</div>"
            ],
            "text/plain": [
              "          Played  Won\n",
              "IPL Team             \n",
              "MI            17   12\n",
              "RPS           16   10\n",
              "KKR           16    9\n",
              "SRH           15    8\n",
              "KXIP          14    7\n",
              "DD            14    6\n",
              "GL            14    4\n",
              "RCB           14    3"
            ]
          },
          "metadata": {
            "tags": []
          },
          "execution_count": 8
        }
      ]
    },
    {
      "cell_type": "code",
      "metadata": {
        "id": "rdgz6x1l1SXd",
        "colab_type": "code",
        "colab": {
          "base_uri": "https://localhost:8080/",
          "height": 390
        },
        "outputId": "701ad8e6-a9a6-4547-8e1a-5be689f0f4d1"
      },
      "source": [
        "total=IPL_2017.add(IPL_2018,fill_value=0)\n",
        "total"
      ],
      "execution_count": 9,
      "outputs": [
        {
          "output_type": "execute_result",
          "data": {
            "text/html": [
              "<div>\n",
              "<style scoped>\n",
              "    .dataframe tbody tr th:only-of-type {\n",
              "        vertical-align: middle;\n",
              "    }\n",
              "\n",
              "    .dataframe tbody tr th {\n",
              "        vertical-align: top;\n",
              "    }\n",
              "\n",
              "    .dataframe thead th {\n",
              "        text-align: right;\n",
              "    }\n",
              "</style>\n",
              "<table border=\"1\" class=\"dataframe\">\n",
              "  <thead>\n",
              "    <tr style=\"text-align: right;\">\n",
              "      <th></th>\n",
              "      <th>Played</th>\n",
              "      <th>Won</th>\n",
              "    </tr>\n",
              "    <tr>\n",
              "      <th>IPL Team</th>\n",
              "      <th></th>\n",
              "      <th></th>\n",
              "    </tr>\n",
              "  </thead>\n",
              "  <tbody>\n",
              "    <tr>\n",
              "      <th>CSK</th>\n",
              "      <td>16.0</td>\n",
              "      <td>11.0</td>\n",
              "    </tr>\n",
              "    <tr>\n",
              "      <th>DD</th>\n",
              "      <td>28.0</td>\n",
              "      <td>11.0</td>\n",
              "    </tr>\n",
              "    <tr>\n",
              "      <th>GL</th>\n",
              "      <td>14.0</td>\n",
              "      <td>4.0</td>\n",
              "    </tr>\n",
              "    <tr>\n",
              "      <th>KKR</th>\n",
              "      <td>32.0</td>\n",
              "      <td>18.0</td>\n",
              "    </tr>\n",
              "    <tr>\n",
              "      <th>KXIP</th>\n",
              "      <td>28.0</td>\n",
              "      <td>13.0</td>\n",
              "    </tr>\n",
              "    <tr>\n",
              "      <th>MI</th>\n",
              "      <td>31.0</td>\n",
              "      <td>18.0</td>\n",
              "    </tr>\n",
              "    <tr>\n",
              "      <th>RCB</th>\n",
              "      <td>28.0</td>\n",
              "      <td>9.0</td>\n",
              "    </tr>\n",
              "    <tr>\n",
              "      <th>RPS</th>\n",
              "      <td>16.0</td>\n",
              "      <td>10.0</td>\n",
              "    </tr>\n",
              "    <tr>\n",
              "      <th>RR</th>\n",
              "      <td>15.0</td>\n",
              "      <td>7.0</td>\n",
              "    </tr>\n",
              "    <tr>\n",
              "      <th>SRH</th>\n",
              "      <td>32.0</td>\n",
              "      <td>18.0</td>\n",
              "    </tr>\n",
              "  </tbody>\n",
              "</table>\n",
              "</div>"
            ],
            "text/plain": [
              "          Played   Won\n",
              "IPL Team              \n",
              "CSK         16.0  11.0\n",
              "DD          28.0  11.0\n",
              "GL          14.0   4.0\n",
              "KKR         32.0  18.0\n",
              "KXIP        28.0  13.0\n",
              "MI          31.0  18.0\n",
              "RCB         28.0   9.0\n",
              "RPS         16.0  10.0\n",
              "RR          15.0   7.0\n",
              "SRH         32.0  18.0"
            ]
          },
          "metadata": {
            "tags": []
          },
          "execution_count": 9
        }
      ]
    },
    {
      "cell_type": "code",
      "metadata": {
        "id": "0q2vdP1Q1YTI",
        "colab_type": "code",
        "colab": {
          "base_uri": "https://localhost:8080/",
          "height": 390
        },
        "outputId": "5417207d-83d6-4ca8-eeff-f6ca9f3de43d"
      },
      "source": [
        "total['win_percentage']=total.apply(lambda row:row.Played,axis=1)\n",
        "total"
      ],
      "execution_count": 10,
      "outputs": [
        {
          "output_type": "execute_result",
          "data": {
            "text/html": [
              "<div>\n",
              "<style scoped>\n",
              "    .dataframe tbody tr th:only-of-type {\n",
              "        vertical-align: middle;\n",
              "    }\n",
              "\n",
              "    .dataframe tbody tr th {\n",
              "        vertical-align: top;\n",
              "    }\n",
              "\n",
              "    .dataframe thead th {\n",
              "        text-align: right;\n",
              "    }\n",
              "</style>\n",
              "<table border=\"1\" class=\"dataframe\">\n",
              "  <thead>\n",
              "    <tr style=\"text-align: right;\">\n",
              "      <th></th>\n",
              "      <th>Played</th>\n",
              "      <th>Won</th>\n",
              "      <th>win_percentage</th>\n",
              "    </tr>\n",
              "    <tr>\n",
              "      <th>IPL Team</th>\n",
              "      <th></th>\n",
              "      <th></th>\n",
              "      <th></th>\n",
              "    </tr>\n",
              "  </thead>\n",
              "  <tbody>\n",
              "    <tr>\n",
              "      <th>CSK</th>\n",
              "      <td>16.0</td>\n",
              "      <td>11.0</td>\n",
              "      <td>16.0</td>\n",
              "    </tr>\n",
              "    <tr>\n",
              "      <th>DD</th>\n",
              "      <td>28.0</td>\n",
              "      <td>11.0</td>\n",
              "      <td>28.0</td>\n",
              "    </tr>\n",
              "    <tr>\n",
              "      <th>GL</th>\n",
              "      <td>14.0</td>\n",
              "      <td>4.0</td>\n",
              "      <td>14.0</td>\n",
              "    </tr>\n",
              "    <tr>\n",
              "      <th>KKR</th>\n",
              "      <td>32.0</td>\n",
              "      <td>18.0</td>\n",
              "      <td>32.0</td>\n",
              "    </tr>\n",
              "    <tr>\n",
              "      <th>KXIP</th>\n",
              "      <td>28.0</td>\n",
              "      <td>13.0</td>\n",
              "      <td>28.0</td>\n",
              "    </tr>\n",
              "    <tr>\n",
              "      <th>MI</th>\n",
              "      <td>31.0</td>\n",
              "      <td>18.0</td>\n",
              "      <td>31.0</td>\n",
              "    </tr>\n",
              "    <tr>\n",
              "      <th>RCB</th>\n",
              "      <td>28.0</td>\n",
              "      <td>9.0</td>\n",
              "      <td>28.0</td>\n",
              "    </tr>\n",
              "    <tr>\n",
              "      <th>RPS</th>\n",
              "      <td>16.0</td>\n",
              "      <td>10.0</td>\n",
              "      <td>16.0</td>\n",
              "    </tr>\n",
              "    <tr>\n",
              "      <th>RR</th>\n",
              "      <td>15.0</td>\n",
              "      <td>7.0</td>\n",
              "      <td>15.0</td>\n",
              "    </tr>\n",
              "    <tr>\n",
              "      <th>SRH</th>\n",
              "      <td>32.0</td>\n",
              "      <td>18.0</td>\n",
              "      <td>32.0</td>\n",
              "    </tr>\n",
              "  </tbody>\n",
              "</table>\n",
              "</div>"
            ],
            "text/plain": [
              "          Played   Won  win_percentage\n",
              "IPL Team                              \n",
              "CSK         16.0  11.0            16.0\n",
              "DD          28.0  11.0            28.0\n",
              "GL          14.0   4.0            14.0\n",
              "KKR         32.0  18.0            32.0\n",
              "KXIP        28.0  13.0            28.0\n",
              "MI          31.0  18.0            31.0\n",
              "RCB         28.0   9.0            28.0\n",
              "RPS         16.0  10.0            16.0\n",
              "RR          15.0   7.0            15.0\n",
              "SRH         32.0  18.0            32.0"
            ]
          },
          "metadata": {
            "tags": []
          },
          "execution_count": 10
        }
      ]
    },
    {
      "cell_type": "code",
      "metadata": {
        "id": "yFF3WOE31dLP",
        "colab_type": "code",
        "colab": {
          "base_uri": "https://localhost:8080/",
          "height": 390
        },
        "outputId": "484a498e-6480-4a52-96c0-19dc0713aecb"
      },
      "source": [
        "total=total.sort_values(by=['Won','win_percentage'])\n",
        "total"
      ],
      "execution_count": 11,
      "outputs": [
        {
          "output_type": "execute_result",
          "data": {
            "text/html": [
              "<div>\n",
              "<style scoped>\n",
              "    .dataframe tbody tr th:only-of-type {\n",
              "        vertical-align: middle;\n",
              "    }\n",
              "\n",
              "    .dataframe tbody tr th {\n",
              "        vertical-align: top;\n",
              "    }\n",
              "\n",
              "    .dataframe thead th {\n",
              "        text-align: right;\n",
              "    }\n",
              "</style>\n",
              "<table border=\"1\" class=\"dataframe\">\n",
              "  <thead>\n",
              "    <tr style=\"text-align: right;\">\n",
              "      <th></th>\n",
              "      <th>Played</th>\n",
              "      <th>Won</th>\n",
              "      <th>win_percentage</th>\n",
              "    </tr>\n",
              "    <tr>\n",
              "      <th>IPL Team</th>\n",
              "      <th></th>\n",
              "      <th></th>\n",
              "      <th></th>\n",
              "    </tr>\n",
              "  </thead>\n",
              "  <tbody>\n",
              "    <tr>\n",
              "      <th>GL</th>\n",
              "      <td>14.0</td>\n",
              "      <td>4.0</td>\n",
              "      <td>14.0</td>\n",
              "    </tr>\n",
              "    <tr>\n",
              "      <th>RR</th>\n",
              "      <td>15.0</td>\n",
              "      <td>7.0</td>\n",
              "      <td>15.0</td>\n",
              "    </tr>\n",
              "    <tr>\n",
              "      <th>RCB</th>\n",
              "      <td>28.0</td>\n",
              "      <td>9.0</td>\n",
              "      <td>28.0</td>\n",
              "    </tr>\n",
              "    <tr>\n",
              "      <th>RPS</th>\n",
              "      <td>16.0</td>\n",
              "      <td>10.0</td>\n",
              "      <td>16.0</td>\n",
              "    </tr>\n",
              "    <tr>\n",
              "      <th>CSK</th>\n",
              "      <td>16.0</td>\n",
              "      <td>11.0</td>\n",
              "      <td>16.0</td>\n",
              "    </tr>\n",
              "    <tr>\n",
              "      <th>DD</th>\n",
              "      <td>28.0</td>\n",
              "      <td>11.0</td>\n",
              "      <td>28.0</td>\n",
              "    </tr>\n",
              "    <tr>\n",
              "      <th>KXIP</th>\n",
              "      <td>28.0</td>\n",
              "      <td>13.0</td>\n",
              "      <td>28.0</td>\n",
              "    </tr>\n",
              "    <tr>\n",
              "      <th>MI</th>\n",
              "      <td>31.0</td>\n",
              "      <td>18.0</td>\n",
              "      <td>31.0</td>\n",
              "    </tr>\n",
              "    <tr>\n",
              "      <th>KKR</th>\n",
              "      <td>32.0</td>\n",
              "      <td>18.0</td>\n",
              "      <td>32.0</td>\n",
              "    </tr>\n",
              "    <tr>\n",
              "      <th>SRH</th>\n",
              "      <td>32.0</td>\n",
              "      <td>18.0</td>\n",
              "      <td>32.0</td>\n",
              "    </tr>\n",
              "  </tbody>\n",
              "</table>\n",
              "</div>"
            ],
            "text/plain": [
              "          Played   Won  win_percentage\n",
              "IPL Team                              \n",
              "GL          14.0   4.0            14.0\n",
              "RR          15.0   7.0            15.0\n",
              "RCB         28.0   9.0            28.0\n",
              "RPS         16.0  10.0            16.0\n",
              "CSK         16.0  11.0            16.0\n",
              "DD          28.0  11.0            28.0\n",
              "KXIP        28.0  13.0            28.0\n",
              "MI          31.0  18.0            31.0\n",
              "KKR         32.0  18.0            32.0\n",
              "SRH         32.0  18.0            32.0"
            ]
          },
          "metadata": {
            "tags": []
          },
          "execution_count": 11
        }
      ]
    },
    {
      "cell_type": "code",
      "metadata": {
        "id": "lp6KlQbx1ht0",
        "colab_type": "code",
        "colab": {}
      },
      "source": [
        ""
      ],
      "execution_count": 0,
      "outputs": []
    }
  ]
}