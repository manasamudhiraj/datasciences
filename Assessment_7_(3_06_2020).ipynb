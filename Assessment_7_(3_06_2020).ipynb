{
  "nbformat": 4,
  "nbformat_minor": 0,
  "metadata": {
    "colab": {
      "name": "Assessment-7-(3-06-2020)",
      "provenance": []
    },
    "kernelspec": {
      "name": "python3",
      "display_name": "Python 3"
    }
  },
  "cells": [
    {
      "cell_type": "code",
      "metadata": {
        "id": "bTYZ6s10vS0i",
        "colab_type": "code",
        "colab": {}
      },
      "source": [
        ""
      ],
      "execution_count": 0,
      "outputs": []
    },
    {
      "cell_type": "markdown",
      "metadata": {
        "id": "Mry_Ee9oviqA",
        "colab_type": "text"
      },
      "source": [
        "##CSE-221710313011-D.Manasa"
      ]
    },
    {
      "cell_type": "code",
      "metadata": {
        "id": "XTXnRiWHvoSm",
        "colab_type": "code",
        "colab": {}
      },
      "source": [
        ""
      ],
      "execution_count": 0,
      "outputs": []
    },
    {
      "cell_type": "code",
      "metadata": {
        "id": "saHZ5aYzv0_b",
        "colab_type": "code",
        "colab": {
          "base_uri": "https://localhost:8080/",
          "height": 34
        },
        "outputId": "fa1d9877-ab92-422e-8a9b-3a64e87e6411"
      },
      "source": [
        "# Copy the contents of a text file into another, printing the reversed version of each input line\n",
        "\n",
        "\n",
        "f = open(\"file1.txt\", \"w\")\n",
        "f.write(\"Data Science With Python,Advanced Programming,AI and ML,Full Stack Web Development\")\n",
        "f.close()\n",
        "\n",
        "f = open(\"file1.txt\",\"r\")\n",
        "data = f.read()\n",
        "print(data)\n",
        "f.close()\n",
        "\n",
        "f = open(\"file2.txt\",\"w\")\n",
        "f.write(data[::-1])\n",
        "f.close()"
      ],
      "execution_count": 2,
      "outputs": [
        {
          "output_type": "stream",
          "text": [
            "Data Science With Python,Advanced Programming,AI and ML,Full Stack Web Development\n"
          ],
          "name": "stdout"
        }
      ]
    },
    {
      "cell_type": "code",
      "metadata": {
        "id": "R-sdKXBOv_41",
        "colab_type": "code",
        "colab": {
          "base_uri": "https://localhost:8080/",
          "height": 136
        },
        "outputId": "7cbd18e7-e7e6-4502-e31a-5d5cd4e653ed"
      },
      "source": [
        "#  Print the contents of a file line by line putting a line number for each line.\n",
        "\n",
        "\n",
        "L = [\"Data Science\\n\", \"Advanced Programming\\n\", \"AI and ML\\n\",\"Full Stack Web Development\\n\",\"Python Programming\\n\",\"Summer Internship\\n\"]\n",
        "\n",
        "f1 = open(\"myfile.txt\", \"w\") \n",
        "f1.writelines(L) \n",
        "f1.close()\n",
        "\n",
        "f1 = open(\"myfile.txt\", \"r\") \n",
        "count = 0\n",
        "\n",
        "print(\"Contents of file in order:\") \n",
        "for line in f1: \n",
        "    count += 1\n",
        "    print(\"{}. {}\".format(count, line.strip()))\n",
        "    \n",
        "f1.close()"
      ],
      "execution_count": 3,
      "outputs": [
        {
          "output_type": "stream",
          "text": [
            "Contents of file in order:\n",
            "1. Data Science\n",
            "2. Advanced Programming\n",
            "3. AI and ML\n",
            "4. Full Stack Web Development\n",
            "5. Python Programming\n",
            "6. Summer Internship\n"
          ],
          "name": "stdout"
        }
      ]
    },
    {
      "cell_type": "code",
      "metadata": {
        "id": "QoGz202awYYS",
        "colab_type": "code",
        "colab": {
          "base_uri": "https://localhost:8080/",
          "height": 34
        },
        "outputId": "9d67712a-cf77-4450-9d99-9c0d897c1516"
      },
      "source": [
        "#[deDuplicate] Avoiding Duplicates\n",
        "\n",
        "\n",
        "def Duplicates(listOfElems):\n",
        "    if len(list1) == len(set(list1)):\n",
        "        return False\n",
        "    else:\n",
        "        return True\n",
        "list1=[1,2,3,4,2]    \n",
        "result=Duplicates(list1)\n",
        "print(result)"
      ],
      "execution_count": 4,
      "outputs": [
        {
          "output_type": "stream",
          "text": [
            "True\n"
          ],
          "name": "stdout"
        }
      ]
    },
    {
      "cell_type": "code",
      "metadata": {
        "id": "MS3koTUvwoxa",
        "colab_type": "code",
        "colab": {
          "base_uri": "https://localhost:8080/",
          "height": 102
        },
        "outputId": "247389de-4b5b-406b-ed2d-e6c8d81a7292"
      },
      "source": [
        "#[fractions.py] \n",
        "\n",
        "from fractions import Fraction as frac\n",
        "print('Add: ' + str(frac('5/4') + frac('9/8')))\n",
        "print('Subtract: ' + str(frac('15/20') - frac('2/8')))\n",
        "print('Multiply: ' + str(frac('2/3') * frac('5/7')))\n",
        "print('Divide: ' + str(frac('80/125') / frac('12/45')))\n",
        "print('Power: ' + str(frac('5/6') ** 3))\n"
      ],
      "execution_count": 5,
      "outputs": [
        {
          "output_type": "stream",
          "text": [
            "Add: 19/8\n",
            "Subtract: 1/2\n",
            "Multiply: 10/21\n",
            "Divide: 12/5\n",
            "Power: 125/216\n"
          ],
          "name": "stdout"
        }
      ]
    },
    {
      "cell_type": "code",
      "metadata": {
        "id": "Oo5-E9Abw52-",
        "colab_type": "code",
        "colab": {
          "base_uri": "https://localhost:8080/",
          "height": 34
        },
        "outputId": "7dd39532-a960-4bf0-c2c7-82ecfdd1dd44"
      },
      "source": [
        "#[Permutations] \n",
        "\n",
        "\n",
        "L1=[1,2,1]\n",
        "L2=[2,1,1]\n",
        "def Permutation(list1,list2):\n",
        "    if len(list1)!= len(list2):\n",
        "         return False;\n",
        "    for i in range(0, len(list1)):\n",
        "           if list1.count(list1[i]) != list2.count(list1[i]):\n",
        "                 return False\n",
        "\n",
        "def islist_permutation(list1,list2):\n",
        "      if (Permutation(list1,list2) == False):\n",
        "        return False \n",
        "      else:\n",
        "        return True\n",
        "\n",
        "print(islist_permutation(L1,L2))"
      ],
      "execution_count": 6,
      "outputs": [
        {
          "output_type": "stream",
          "text": [
            "True\n"
          ],
          "name": "stdout"
        }
      ]
    },
    {
      "cell_type": "code",
      "metadata": {
        "id": "3B0BazE8xHQY",
        "colab_type": "code",
        "colab": {}
      },
      "source": [
        ""
      ],
      "execution_count": 0,
      "outputs": []
    }
  ]
}