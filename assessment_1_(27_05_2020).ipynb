{
  "nbformat": 4,
  "nbformat_minor": 0,
  "metadata": {
    "colab": {
      "name": "assessment -1-(27-05-2020)",
      "provenance": []
    },
    "kernelspec": {
      "name": "python3",
      "display_name": "Python 3"
    }
  },
  "cells": [
    {
      "cell_type": "markdown",
      "metadata": {
        "id": "JO1XGihWTNaA",
        "colab_type": "text"
      },
      "source": [
        "##CSE - 221710313011 - D.Manasa"
      ]
    },
    {
      "cell_type": "code",
      "metadata": {
        "id": "5NOElubYBFuc",
        "colab_type": "code",
        "outputId": "c4376ef6-3c4b-4336-f623-93c78dac343c",
        "colab": {
          "base_uri": "https://localhost:8080/",
          "height": 204
        }
      },
      "source": [
        "#multiplcation table\n",
        "k=int(input(\"enter k value\"))\n",
        "i=1\n",
        "table=1\n",
        "while i<=10 :\n",
        "  table=k*i\n",
        "  print(k,\"*\",i,\"=\",table)\n",
        "  i=i+1\n",
        "  "
      ],
      "execution_count": 0,
      "outputs": [
        {
          "output_type": "stream",
          "text": [
            "enter k value5\n",
            "5 * 1 = 5\n",
            "5 * 2 = 10\n",
            "5 * 3 = 15\n",
            "5 * 4 = 20\n",
            "5 * 5 = 25\n",
            "5 * 6 = 30\n",
            "5 * 7 = 35\n",
            "5 * 8 = 40\n",
            "5 * 9 = 45\n",
            "5 * 10 = 50\n"
          ],
          "name": "stdout"
        }
      ]
    },
    {
      "cell_type": "code",
      "metadata": {
        "id": "OCGjz-ZzBqEy",
        "colab_type": "code",
        "outputId": "1ec3bc25-6d82-477d-a4c7-a8dc01640817",
        "colab": {
          "base_uri": "https://localhost:8080/",
          "height": 51
        }
      },
      "source": [
        "#convert decimal to binary\n",
        "i=1\n",
        "s=0\n",
        "n=int(input(\"Enter decimal: \"))\n",
        "while n>0:\n",
        "    rem=int(n%2)\n",
        "    s=s+(i*rem)\n",
        "    n=int(n/2)\n",
        "    i=i*10\n",
        "print (\"The binary form of the given number is \",s,'.')\n"
      ],
      "execution_count": 0,
      "outputs": [
        {
          "output_type": "stream",
          "text": [
            "Enter decimal: 18\n",
            "The binary form of the given number is  10010 .\n"
          ],
          "name": "stdout"
        }
      ]
    },
    {
      "cell_type": "code",
      "metadata": {
        "id": "zwrkEY2rCByD",
        "colab_type": "code",
        "outputId": "546a3000-bde1-4de7-8f3f-ea943fce06cf",
        "colab": {
          "base_uri": "https://localhost:8080/",
          "height": 85
        }
      },
      "source": [
        "#roots of quadratic\n",
        "import math\n",
        "a = int(input(\"enter a coefficient\"))\n",
        "b = int(input(\"enter b coefficient\"))\n",
        "c = int(input(\"enter c coefficient\"))\n",
        "d = b * b - 4 * a * c\n",
        "if(d > 0):\n",
        "  root1 = (-b + math.sqrt(d)) / (2 * a)\n",
        "  root2 = (-b - math.sqrt(d)) / (2 * a)\n",
        "  print( \"the roots are\",root1, root2)\n",
        "elif(d==0):\n",
        "  root1 = root2 = -b / (2 * a)\n",
        "  print(\"roots are\",root1)\n",
        "else:\n",
        "  realPart = -b / (2 * a)\n",
        "  imagPart = math.sqrt(-d) / (2 * a)\n",
        "  print(\"roots are\",realPart,imagPart)"
      ],
      "execution_count": 0,
      "outputs": [
        {
          "output_type": "stream",
          "text": [
            "enter a coefficient2\n",
            "enter b coefficient4\n",
            "enter c coefficient6\n",
            "roots are -1.0 1.4142135623730951\n"
          ],
          "name": "stdout"
        }
      ]
    },
    {
      "cell_type": "code",
      "metadata": {
        "id": "qKjhFYaCCChy",
        "colab_type": "code",
        "colab": {}
      },
      "source": [
        ""
      ],
      "execution_count": 0,
      "outputs": []
    },
    {
      "cell_type": "code",
      "metadata": {
        "id": "0I2VLiXUM8mC",
        "colab_type": "code",
        "outputId": "f7095ccc-6d45-47f8-dbb8-f9399cdfeeda",
        "colab": {
          "base_uri": "https://localhost:8080/",
          "height": 102
        }
      },
      "source": [
        "#fibonocci series\n",
        "n=int(input(\"enter no.of terms\"))\n",
        "i=1\n",
        "t1=0\n",
        "t2=1\n",
        "while(i<n):\n",
        "  print(t1)\n",
        "  next=t1+t2\n",
        "  t1=t2\n",
        "  t2=next\n",
        "  i=i+1"
      ],
      "execution_count": 0,
      "outputs": [
        {
          "output_type": "stream",
          "text": [
            "enter no.of terms5\n",
            "0\n",
            "1\n",
            "1\n",
            "2\n"
          ],
          "name": "stdout"
        }
      ]
    },
    {
      "cell_type": "code",
      "metadata": {
        "id": "81t56ixtM9iL",
        "colab_type": "code",
        "colab": {}
      },
      "source": [
        ""
      ],
      "execution_count": 0,
      "outputs": []
    },
    {
      "cell_type": "code",
      "metadata": {
        "id": "yucAr_I3NIe_",
        "colab_type": "code",
        "outputId": "316735b3-a4e4-4f5a-a3e1-63eb70091725",
        "colab": {
          "base_uri": "https://localhost:8080/",
          "height": 119
        }
      },
      "source": [
        "rows = int(input(\"Enter number of rows \"))\n",
        "for i in range(0, rows):\n",
        "    for j in range(0, i + 1):\n",
        "        print(\"*\", end=' ')\n",
        "\n",
        "    print(\"\\r\")"
      ],
      "execution_count": 0,
      "outputs": [
        {
          "output_type": "stream",
          "text": [
            "Enter number of rows 5\n",
            "* \n",
            "* * \n",
            "* * * \n",
            "* * * * \n",
            "* * * * * \n"
          ],
          "name": "stdout"
        }
      ]
    },
    {
      "cell_type": "code",
      "metadata": {
        "id": "osKjFbiiNO6f",
        "colab_type": "code",
        "colab": {}
      },
      "source": [
        ""
      ],
      "execution_count": 0,
      "outputs": []
    },
    {
      "cell_type": "code",
      "metadata": {
        "id": "vZYMDQtLNUL1",
        "colab_type": "code",
        "outputId": "8b0a9b34-eb3c-4408-8e9d-be6383bf9e3d",
        "colab": {
          "base_uri": "https://localhost:8080/",
          "height": 170
        }
      },
      "source": [
        "rows = int(input(\"Enter number of rows \"))\n",
        "for i in range(0, rows):\n",
        "    for j in range(0, i + 1):\n",
        "        print(\"*\", end=' ')\n",
        "\n",
        "    print(\"\\r\")"
      ],
      "execution_count": 0,
      "outputs": [
        {
          "output_type": "stream",
          "text": [
            "Enter number of rows 8\n",
            "* \n",
            "* * \n",
            "* * * \n",
            "* * * * \n",
            "* * * * * \n",
            "* * * * * * \n",
            "* * * * * * * \n",
            "* * * * * * * * \n"
          ],
          "name": "stdout"
        }
      ]
    },
    {
      "cell_type": "code",
      "metadata": {
        "id": "BDNCTeRXNWV9",
        "colab_type": "code",
        "colab": {}
      },
      "source": [
        ""
      ],
      "execution_count": 0,
      "outputs": []
    }
  ]
}