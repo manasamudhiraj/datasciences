{
  "nbformat": 4,
  "nbformat_minor": 0,
  "metadata": {
    "colab": {
      "name": "Assessment-15-(12-06-2020)",
      "provenance": []
    },
    "kernelspec": {
      "name": "python3",
      "display_name": "Python 3"
    }
  },
  "cells": [
    {
      "cell_type": "markdown",
      "metadata": {
        "id": "dOqSttq8aa5v",
        "colab_type": "text"
      },
      "source": [
        "##CSE-221710313011-D.Manasa"
      ]
    },
    {
      "cell_type": "markdown",
      "metadata": {
        "id": "aKwrETPEabWh",
        "colab_type": "text"
      },
      "source": [
        "##Q-1: https://www.codechef.com/problems/RECNDSTR"
      ]
    },
    {
      "cell_type": "markdown",
      "metadata": {
        "id": "p7TKbcNDajaR",
        "colab_type": "text"
      },
      "source": [
        "##Chef has a string S consisting of lowercase English characters. Chef defined functions left shift L(X) and right shift R(X) as follows.\n",
        "L(X) is defined as shifting all characters of string X one step towards left and moving the first character to the end.\n",
        "R(X) is defined as shifting all characters of string X one step towards the right and moving the last character to the beginning.\n",
        "For example, L(\"abcd\") = \"bcda\" and R(\"abcd\") = \"dabc\"\n",
        "Chef wants to find out whether there exists a string V of the same length as S such that both L(V)=S and R(V)=S holds."
      ]
    },
    {
      "cell_type": "code",
      "metadata": {
        "id": "owZA10WZa0ft",
        "colab_type": "code",
        "colab": {
          "base_uri": "https://localhost:8080/",
          "height": 170
        },
        "outputId": "9df6650a-c4b1-42f7-a7b2-01cbc6a39434"
      },
      "source": [
        "# SOLUTION-1:\n",
        "def L(x):\n",
        "    return x[1:]+x[0]\n",
        "def R(x):\n",
        "    return x[-1]+x[0:-1]\n",
        "n=int(input())\n",
        "list1 = [input() for i in range(n)]\n",
        "for x in list1:\n",
        "    if L(x) == R(x):\n",
        "        print(\"YES\")\n",
        "    else:\n",
        "        print(\"NO\")"
      ],
      "execution_count": 1,
      "outputs": [
        {
          "output_type": "stream",
          "text": [
            "4\n",
            "aa\n",
            "ab\n",
            "abc\n",
            "aaaa\n",
            "YES\n",
            "YES\n",
            "NO\n",
            "YES\n"
          ],
          "name": "stdout"
        }
      ]
    },
    {
      "cell_type": "markdown",
      "metadata": {
        "id": "eUuA2eG1a_42",
        "colab_type": "text"
      },
      "source": [
        "##Q-2: https://www.hackerrank.com/challenges/beautiful-days-at-the-movies/problem"
      ]
    },
    {
      "cell_type": "markdown",
      "metadata": {
        "id": "OhANwFAabA1h",
        "colab_type": "text"
      },
      "source": [
        "##Lily likes to play games with integers. She has created a new game where she determines the difference between a number and its reverse. For instance, given the number 12 , its reverse is 21 . Their difference is 9 . The number 120 reversed is 210, and their difference is 99.  \n",
        "She decides to apply her game to decision making. She will look at a numbered range of days and will only go to a movie on a beautiful day.  \n",
        "Given a range of numbered days, [i...j] and a number K, determine the number of days in the range that are beautiful. Beautiful numbers are defined as numbers where |i-reverse(i)| is evenly divisible by K. If a day's value is a beautiful number, it is a beautiful day. Print the number of beautiful days in the range."
      ]
    },
    {
      "cell_type": "code",
      "metadata": {
        "id": "U7J4dIWPbdob",
        "colab_type": "code",
        "colab": {
          "base_uri": "https://localhost:8080/",
          "height": 51
        },
        "outputId": "6ca8b0e5-00c8-4d07-9dc1-a99d9a88ed03"
      },
      "source": [
        "#SOLUTION-2:\n",
        "i,j,k=map(int,input().split())\n",
        "c=0\n",
        "for n in range(i,j+1):\n",
        "    if((n-int(str(n)[::-1]))%2==0):\n",
        "        c+=1\n",
        "print(c)"
      ],
      "execution_count": 3,
      "outputs": [
        {
          "output_type": "stream",
          "text": [
            "20 23 6\n",
            "2\n"
          ],
          "name": "stdout"
        }
      ]
    },
    {
      "cell_type": "markdown",
      "metadata": {
        "id": "1MFKVw7scPPa",
        "colab_type": "text"
      },
      "source": [
        "##Q-3: https://www.hackerrank.com/challenges/birthday-cake-candles/problem"
      ]
    },
    {
      "cell_type": "markdown",
      "metadata": {
        "id": "gTbR5smicteb",
        "colab_type": "text"
      },
      "source": [
        "##You are in charge of the cake for your niece's birthday and have decided the cake will have one candle for each year of her total age. When she blows out the candles, she’ll only be able to blow out the tallest ones. Your task is to find out how many candles she can successfully blow out.\n",
        "##For example, if your niece is turning 4 years old, and the cake will have 4 candles of height 4 ,4 ,1 ,3 , she will be able to blow out 2 candles successfully, since the tallest candles are of height 4 and there are 2 such candles."
      ]
    },
    {
      "cell_type": "code",
      "metadata": {
        "id": "OSpkGoiFcu1d",
        "colab_type": "code",
        "colab": {
          "base_uri": "https://localhost:8080/",
          "height": 68
        },
        "outputId": "929c08b3-36af-4ac4-a4b8-ab465c3abe16"
      },
      "source": [
        "#SOLUTION-3:\n",
        "N=int(input())\n",
        "V=list(map(int,input().split()))\n",
        "print(V.count(max(V)))"
      ],
      "execution_count": 5,
      "outputs": [
        {
          "output_type": "stream",
          "text": [
            "4\n",
            "3 2 1 3\n",
            "2\n"
          ],
          "name": "stdout"
        }
      ]
    },
    {
      "cell_type": "markdown",
      "metadata": {
        "id": "C_qyjiF1ddEM",
        "colab_type": "text"
      },
      "source": [
        "##Q-4(infy TQ): Consider a non-empty array inarr containing non-zero positive single digit integers separated by “,” (comma).Print a string based on the below logic:  \n",
        "* From all possible unique three digit number combinations with the elements of inarr  \n",
        "* Identify the maximum number maxnum among the three digit combinations formed.  \n",
        "* Print the maxnum followed by the total number of unique digit combinations formed,separating them with a “,” (comma) ### Assumption: inarr will contain at least 3 elements #### Note : An element present at a particular index should not be considered more than once while forming a combination."
      ]
    },
    {
      "cell_type": "code",
      "metadata": {
        "id": "mJde6Vczd3Q-",
        "colab_type": "code",
        "colab": {
          "base_uri": "https://localhost:8080/",
          "height": 51
        },
        "outputId": "de569c2c-7fde-4ed5-952b-31b7594ed7d9"
      },
      "source": [
        "#solution-4:\n",
        "import itertools as it\n",
        "a=list(map(str,input().split(',')))\n",
        "p = it.permutations(a, 3)\n",
        "x = list(set(p))               \n",
        "l = []\n",
        "for i in x:                          \n",
        "    p = ''.join(i)                   \n",
        "    l.append(int(p))\n",
        "l.sort()\n",
        "print(str(l[-1])+','+str(len(l)))"
      ],
      "execution_count": 6,
      "outputs": [
        {
          "output_type": "stream",
          "text": [
            "1,2,1\n",
            "211,3\n"
          ],
          "name": "stdout"
        }
      ]
    },
    {
      "cell_type": "markdown",
      "metadata": {
        "id": "jI-RfjlreF2w",
        "colab_type": "text"
      },
      "source": [
        "##Q-5(infy TQ): For a given positive number num,identify the palindrome formed by performing the following operations\n",
        "*Add num and its reverse \n",
        "*Check whether the sum is palindrome or not.If not,add the sum and its reverse and repeat the process until a palindrome is obtained. #### Input format :  \n",
        "*Read num from the standard input stream #### Output format:  \n",
        "*print the palindrome calculated to the standard output stream  "
      ]
    },
    {
      "cell_type": "code",
      "metadata": {
        "id": "cUbtkqUDeqIw",
        "colab_type": "code",
        "colab": {
          "base_uri": "https://localhost:8080/",
          "height": 51
        },
        "outputId": "3df22382-97c4-4e22-bc6d-3e7274ecc5b5"
      },
      "source": [
        "#SOLUTION-5:\n",
        "## CODE-1:\n",
        "def rev_number(n):\n",
        "  s = 0\n",
        "  while True:\n",
        "    k = str(n)\n",
        "    if k == k[::-1]:\n",
        "      break\n",
        "    else:\n",
        "      m = int(k[::-1])\n",
        "      n += m\n",
        "      s += 1\n",
        "  return n \n",
        "\n",
        "print(rev_number(124))\n",
        "print(rev_number(195))"
      ],
      "execution_count": 7,
      "outputs": [
        {
          "output_type": "stream",
          "text": [
            "545\n",
            "9339\n"
          ],
          "name": "stdout"
        }
      ]
    },
    {
      "cell_type": "code",
      "metadata": {
        "id": "Jt8o18-4eq3H",
        "colab_type": "code",
        "colab": {
          "base_uri": "https://localhost:8080/",
          "height": 51
        },
        "outputId": "bd4f13ff-efd7-4d5f-dc29-983b14b6f32a"
      },
      "source": [
        "#SOLUTION-5:\n",
        "## CODE-2:\n",
        "n=int(input())\n",
        "while(True):\n",
        "    n=str(n)\n",
        "    if(n ==n[::-1]):\n",
        "        print(n)\n",
        "        break\n",
        "    else:\n",
        "        n=int(n)+int(n[::-1])"
      ],
      "execution_count": 8,
      "outputs": [
        {
          "output_type": "stream",
          "text": [
            "195\n",
            "9339\n"
          ],
          "name": "stdout"
        }
      ]
    },
    {
      "cell_type": "markdown",
      "metadata": {
        "id": "9-N50OupfA5H",
        "colab_type": "text"
      },
      "source": [
        "##Q-6: https://www.codechef.com/problems/SLAEL"
      ]
    },
    {
      "cell_type": "markdown",
      "metadata": {
        "id": "8xxw6tG-fHZ-",
        "colab_type": "text"
      },
      "source": [
        "##Find the length of the longest contiguous segment in an array, in which if a given element K is inserted, K becomes the second largest element of that subarray."
      ]
    },
    {
      "cell_type": "code",
      "metadata": {
        "id": "92fmTC7XfSyV",
        "colab_type": "code",
        "colab": {
          "base_uri": "https://localhost:8080/",
          "height": 204
        },
        "outputId": "7c8c8f7c-2b3f-4a59-e604-aa0b5e2d35b7"
      },
      "source": [
        "## solution-6:\n",
        "t=int(input())\n",
        "while(t>0):\n",
        "    n,k=map(int,input().split())\n",
        "    a=list(map(int,input().split()))\n",
        "    gre=0\n",
        "    l=0\n",
        "    pos=-1\n",
        "    long=0\n",
        "    for i in range(n):\n",
        "        if a[i]>k and gre!=0 and a[i]!=gre:\n",
        "            gre = a[i]\n",
        "            if long<l:\n",
        "                long=l\n",
        "            l = i - pos\n",
        "            pos=i\n",
        "            continue\n",
        "        elif a[i]>k:\n",
        "            gre = a[i]\n",
        "            pos=i\n",
        "        l+=1\n",
        "    if long<l:\n",
        "        long=l\n",
        "    t-=1\n",
        "    print(\"output:\\n\",long,\"\\n\")"
      ],
      "execution_count": 9,
      "outputs": [
        {
          "output_type": "stream",
          "text": [
            "2\n",
            "5 3\n",
            "2 4 2 4 2\n",
            "output:\n",
            " 5 \n",
            "\n",
            "8 5\n",
            "9 3 5 7 8 11 17 2\n",
            "output:\n",
            " 3 \n",
            "\n"
          ],
          "name": "stdout"
        }
      ]
    },
    {
      "cell_type": "markdown",
      "metadata": {
        "id": "Cv7bD9NggJ3v",
        "colab_type": "text"
      },
      "source": [
        "##Q-7: For digits:\n",
        "1.find the reverse of the number and add it to the original number  \n",
        "2.if that sum is not palindrome,again add its reverse to that sum  \n",
        "3.Find the palindrome numbers for each number in the string by repeating the above step  \n",
        "4.Find the maximum palindrome number among all and its original number And return the alphabetic code of that palindrome number as output  "
      ]
    },
    {
      "cell_type": "code",
      "metadata": {
        "id": "uhN1MGPagZHg",
        "colab_type": "code",
        "colab": {
          "base_uri": "https://localhost:8080/",
          "height": 51
        },
        "outputId": "cb793246-46e5-48c9-bc96-ccae091f64d2"
      },
      "source": [
        "#SOLUTION-7:\n",
        "s = input()\n",
        "list1 = s.split(\",\")\n",
        "list2 = [i.split(\":\")[1] for i in list1]\n",
        "list3 = []\n",
        "for num in list2:\n",
        "    n = int(num)\n",
        "    rev = num[::-1]\n",
        "    while str(n) != rev:\n",
        "        n += int(rev)\n",
        "        rev = str(n)[::-1]\n",
        "    list3.append(n)\n",
        "list1[list3.index(max(list3))].split(\":\")[0]"
      ],
      "execution_count": 10,
      "outputs": [
        {
          "output_type": "stream",
          "text": [
            "xyz:750,abc:265,qwerty:195\n"
          ],
          "name": "stdout"
        },
        {
          "output_type": "execute_result",
          "data": {
            "text/plain": [
              "'abc'"
            ]
          },
          "metadata": {
            "tags": []
          },
          "execution_count": 10
        }
      ]
    },
    {
      "cell_type": "markdown",
      "metadata": {
        "id": "7LQMM4Q3gune",
        "colab_type": "text"
      },
      "source": [
        "##Q-8: The groups_per_user function receives a dictionary.which contains group names with the list of users.Users can belong to multiple groups.Return a dictionary with the users as keys and a list of their groups as values."
      ]
    },
    {
      "cell_type": "code",
      "metadata": {
        "id": "eJJZFZP-g16j",
        "colab_type": "code",
        "colab": {
          "base_uri": "https://localhost:8080/",
          "height": 34
        },
        "outputId": "73ca05dc-efe6-4055-9aa8-b025922a9e27"
      },
      "source": [
        "##solution-8:\n",
        "def groups_per_user(group_dictionary):\n",
        "    user_groups = {}\n",
        "    groups = []\n",
        "    # Go through group_dictionary\n",
        "    for group,users in group_dictionary.items():\n",
        "        # Now go through the users in the group\n",
        "        for user in users:\n",
        "        # Now add the group to the the list of\n",
        "          # groups for this user, creating the entry\n",
        "          # in the dictionary if necessary\n",
        "          groups.append(group)\n",
        "          user_groups[user] = group\n",
        "\n",
        "    return(user_groups)\n",
        "\n",
        "print(groups_per_user({\"local\": [\"admin\", \"userA\"],\n",
        "        \"public\":  [\"admin\", \"userB\"],\n",
        "        \"administrator\": [\"admin\"] }))"
      ],
      "execution_count": 11,
      "outputs": [
        {
          "output_type": "stream",
          "text": [
            "{'admin': 'administrator', 'userA': 'local', 'userB': 'public'}\n"
          ],
          "name": "stdout"
        }
      ]
    },
    {
      "cell_type": "markdown",
      "metadata": {
        "id": "_uHJQu_AhTG_",
        "colab_type": "text"
      },
      "source": [
        "##Q-9: Input : london 40000 12,chicago 60000 20,munich 50000 15,paris 70000 5\n",
        "Output : paris munich"
      ]
    },
    {
      "cell_type": "code",
      "metadata": {
        "id": "ITaEd6aOhUoL",
        "colab_type": "code",
        "colab": {
          "base_uri": "https://localhost:8080/",
          "height": 68
        },
        "outputId": "a6bb0883-ab0e-4a3f-93a2-0100f3d13f1d"
      },
      "source": [
        "#SOLUTION-9:\n",
        "s=input()\n",
        "s1=s.split(',')\n",
        "print(s1)\n",
        "a={}\n",
        "b={}\n",
        "al=[]\n",
        "bl=[]\n",
        "for i in s1:\n",
        "    a1=list(i.split())\n",
        "    a[a1[0]]=int(a1[1])\n",
        "    b[a1[0]]=int(a1[2])\n",
        "a1 = sorted(a.items(), key=lambda x: x[1],reverse=True)\n",
        "b1 = sorted(b.items(), key=lambda x: x[1])\n",
        "for i in a1:\n",
        "    al.append(i[0])\n",
        "for i in b1:\n",
        "    bl.append(i[0])\n",
        "for i in range(0,len(a1)):\n",
        "    if(al[i]==bl[i]):\n",
        "        print(al[i],end=\" \")"
      ],
      "execution_count": 12,
      "outputs": [
        {
          "output_type": "stream",
          "text": [
            "london 40000 12,chicago 60000 20,munich 50000 15,paris 70000 5\n",
            "['london 40000 12', 'chicago 60000 20', 'munich 50000 15', 'paris 70000 5']\n",
            "paris munich "
          ],
          "name": "stdout"
        }
      ]
    },
    {
      "cell_type": "markdown",
      "metadata": {
        "id": "bx6Rr4Kmhv1T",
        "colab_type": "text"
      },
      "source": [
        "##Q-10: Jug Filling Problem\n",
        "Problem statement: “Given two empty jugs with 3 and 5 liter capacities and a full jug with 8 liters, find a sequence of pours leaving four liters in the two largest jugs.”"
      ]
    },
    {
      "cell_type": "code",
      "metadata": {
        "id": "NpA8EHDXhxFC",
        "colab_type": "code",
        "colab": {
          "base_uri": "https://localhost:8080/",
          "height": 238
        },
        "outputId": "d7cfbb8e-0d1f-461c-eb35-b3c9083679db"
      },
      "source": [
        "#SOLUTION-10:\n",
        "# 3 water jugs capacity -> (x,y,z) where x>y>z\n",
        "# initial state (12,0,0)\n",
        "# final state (6,6,0)\n",
        "\n",
        "capacity = (8,5,3)\n",
        "# Maximum capacities of 3 jugs -> x,y,z\n",
        "x = capacity[0]\n",
        "y = capacity[1]\n",
        "z = capacity[2]\n",
        "\n",
        "# to mark visited states\n",
        "memory = {}\n",
        "\n",
        "# store solution path\n",
        "ans = []\n",
        "\n",
        "def get_all_states(state):\n",
        "  # Let the 3 jugs be called a,b,c\n",
        "  a = state[0]\n",
        "  b = state[1]\n",
        "  c = state[2]\n",
        "\n",
        "  if(a==4 and b==4):\n",
        "      ans.append(state)\n",
        "      return True\n",
        "\n",
        "  # if current state is already visited earlier\n",
        "  if((a,b,c) in memory):\n",
        "      return False\n",
        "\n",
        "  memory[(a,b,c)] = 1\n",
        "\n",
        "  #empty jug a\n",
        "  if(a>0):\n",
        "      #empty a into b\n",
        "      if(a+b<=y):\n",
        "        if( get_all_states((0,a+b,c)) ):\n",
        "              ans.append(state)\n",
        "              return True\n",
        "      else:\n",
        "          if( get_all_states((a-(y-b), y, c)) ):\n",
        "              ans.append(state)\n",
        "              return True\n",
        "      #empty a into c\n",
        "      if(a+c<=z):\n",
        "          if( get_all_states((0,b,a+c)) ):\n",
        "              ans.append(state)\n",
        "              return True\n",
        "      else:\n",
        "          if( get_all_states((a-(z-c), b, z)) ):\n",
        "              ans.append(state)\n",
        "              return True\n",
        "\n",
        "  #empty jug b\n",
        "  if(b>0):\n",
        "      #empty b into a\n",
        "      if(a+b<=x):\n",
        "          if( get_all_states((a+b, 0, c)) ):\n",
        "              ans.append(state)\n",
        "              return True\n",
        "      else:\n",
        "          if( get_all_states((x, b-(x-a), c)) ):\n",
        "              ans.append(state)\n",
        "              return True\n",
        "      #empty b into c\n",
        "      if(b+c<=z):\n",
        "          if( get_all_states((a, 0, b+c)) ):\n",
        "              ans.append(state)\n",
        "              return True\n",
        "      else: \n",
        "          if( get_all_states((x, b-(x-a), c)) ):\n",
        "              ans.append(state)\n",
        "              return True\n",
        "      #empty b into c\n",
        "      if(b+c<=z):\n",
        "          if( get_all_states((a, 0, b+c)) ):\n",
        "              ans.append(state)\n",
        "              return True\n",
        "      else:\n",
        "          if( get_all_states((a, b-(z-c), z)) ):\n",
        "              ans.append(state)\n",
        "              return True\n",
        "\n",
        "  #empty jug c\n",
        "  if(c>0):\n",
        "      #empty c into a\n",
        "      if(a+c<=x):\n",
        "          if( get_all_states((a+c, b, 0)) ):\n",
        "              ans.append(state)\n",
        "              return True\n",
        "      else:\n",
        "          if( get_all_states((x, b, c-(x-a))) ):\n",
        "              ans.append(state)\n",
        "              return True\n",
        "      #empty c into b\n",
        "      if(b+c<=y):\n",
        "          if( get_all_states((a, b+c, 0)) ):\n",
        "              ans.append(state)\n",
        "              return True\n",
        "      else:\n",
        "          if( get_all_states((a, y, c-(y-b))) ):\n",
        "              ans.append(state)\n",
        "              return True\n",
        "\n",
        "  return False\n",
        "\n",
        "initial_state = (8,0,0)\n",
        "print(\"Starting work...\\n\")\n",
        "get_all_states(initial_state)\n",
        "ans.reverse()\n",
        "for i in ans:\n",
        "  print(i)"
      ],
      "execution_count": 15,
      "outputs": [
        {
          "output_type": "stream",
          "text": [
            "Starting work...\n",
            "\n",
            "(8, 0, 0)\n",
            "(3, 5, 0)\n",
            "(0, 5, 3)\n",
            "(5, 0, 3)\n",
            "(5, 3, 0)\n",
            "(2, 3, 3)\n",
            "(2, 5, 1)\n",
            "(7, 0, 1)\n",
            "(7, 1, 0)\n",
            "(4, 1, 3)\n",
            "(4, 4, 0)\n"
          ],
          "name": "stdout"
        }
      ]
    },
    {
      "cell_type": "markdown",
      "metadata": {
        "id": "N2yG5jLljRul",
        "colab_type": "text"
      },
      "source": [
        "##Q-11: Input:\n",
        "user_id = [1,1,2,3,3,4,4,4,5,5]  \n",
        "ancestry=[\"England\",\"Ireland\",\"France\",\"Germany\",\"Poland\",\"England\",\"France\",\"Germany\",\"France\",\"Germany\"]  \n",
        "If my required countries are France and Germany\n",
        "required = ['France', 'Germany']"
      ]
    },
    {
      "cell_type": "code",
      "metadata": {
        "id": "CCUQlxNfjhJ2",
        "colab_type": "code",
        "colab": {
          "base_uri": "https://localhost:8080/",
          "height": 51
        },
        "outputId": "749b3e83-7f7b-4aa2-e036-253354c4cb24"
      },
      "source": [
        "#SOLUTION-11:\n",
        "user_id=[1,1,2,3,3,4,4,4,5,5]\n",
        "user=list(set(user_id))\n",
        "ancestry=[\"England\",\"Ireland\",\"France\",\"Germany\",\"Poland\",\"England\",\"France\",\"Germany\",\"France\",\"Germany\"]\n",
        "r={}\n",
        "for i in range(0,len(user_id)):\n",
        "    if(user_id[i] not in r.keys()):\n",
        "        r[user_id[i]]=[]\n",
        "        r[user_id[i]].append(ancestry[i])\n",
        "    else:\n",
        "        r[user_id[i]].append(ancestry[i])\n",
        "required = ['France', 'Germany']\n",
        "for i in range(0,len(user)):\n",
        "    if(set(required).issubset(set(r[user[i]]))):\n",
        "        print(user[i])"
      ],
      "execution_count": 16,
      "outputs": [
        {
          "output_type": "stream",
          "text": [
            "4\n",
            "5\n"
          ],
          "name": "stdout"
        }
      ]
    },
    {
      "cell_type": "code",
      "metadata": {
        "id": "rnVElMQHjiVk",
        "colab_type": "code",
        "colab": {}
      },
      "source": [
        ""
      ],
      "execution_count": 0,
      "outputs": []
    }
  ]
}