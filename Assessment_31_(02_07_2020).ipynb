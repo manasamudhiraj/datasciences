{
  "nbformat": 4,
  "nbformat_minor": 0,
  "metadata": {
    "colab": {
      "name": "Assessment-31-(02-07-2020)",
      "provenance": []
    },
    "kernelspec": {
      "name": "python3",
      "display_name": "Python 3"
    }
  },
  "cells": [
    {
      "cell_type": "markdown",
      "metadata": {
        "id": "-9YvFGxorZgW",
        "colab_type": "text"
      },
      "source": [
        "##CSE-221710313011-D.Manasa"
      ]
    },
    {
      "cell_type": "code",
      "metadata": {
        "id": "01AP7gLnrd1w",
        "colab_type": "code",
        "colab": {}
      },
      "source": [
        "import numpy as np\n",
        "import pandas as pd\n",
        "import string"
      ],
      "execution_count": 1,
      "outputs": []
    },
    {
      "cell_type": "code",
      "metadata": {
        "id": "F6RTtDpLrl6B",
        "colab_type": "code",
        "colab": {}
      },
      "source": [
        "corpus = [\n",
        "   'This is the first document.',\n",
        "     'This document is the second document.',\n",
        "      'And this is the third(#)  one.',\n",
        "     'Is this the first document?',\n",
        "     \"The quick brown fox jumped over the lazy dog.\",\n",
        "     \"John is a good boy!!!. John watches basketball\",\n",
        "     \" We are going to the party:-)\",\n",
        "     \" It is very cold(today)\",]"
      ],
      "execution_count": 2,
      "outputs": []
    },
    {
      "cell_type": "code",
      "metadata": {
        "id": "LLQ-prD1rrnE",
        "colab_type": "code",
        "colab": {}
      },
      "source": [
        "words=dict()\n",
        "corpus_nopun=[]\n",
        "for line in corpus:\n",
        "    s=''\n",
        "    for i in line:\n",
        "        if i not in string.punctuation:\n",
        "            s+=i\n",
        "    corpus_nopun.append(s)\n",
        "    word=s.lower().split()\n",
        "    for w in word:\n",
        "        words[w]=words.get(w,0)+1"
      ],
      "execution_count": 3,
      "outputs": []
    },
    {
      "cell_type": "code",
      "metadata": {
        "id": "SWL_eYX5ru1v",
        "colab_type": "code",
        "colab": {
          "base_uri": "https://localhost:8080/",
          "height": 153
        },
        "outputId": "2ee19ce4-5e5b-4f0d-d605-b7ec8c73a22f"
      },
      "source": [
        "corpus_nopun"
      ],
      "execution_count": 4,
      "outputs": [
        {
          "output_type": "execute_result",
          "data": {
            "text/plain": [
              "['This is the first document',\n",
              " 'This document is the second document',\n",
              " 'And this is the third  one',\n",
              " 'Is this the first document',\n",
              " 'The quick brown fox jumped over the lazy dog',\n",
              " 'John is a good boy John watches basketball',\n",
              " ' We are going to the party',\n",
              " ' It is very coldtoday']"
            ]
          },
          "metadata": {
            "tags": []
          },
          "execution_count": 4
        }
      ]
    },
    {
      "cell_type": "code",
      "metadata": {
        "id": "uxPaAeP-ryWs",
        "colab_type": "code",
        "colab": {
          "base_uri": "https://localhost:8080/",
          "height": 527
        },
        "outputId": "b512ce89-1287-492e-a8dd-c05eea944a4e"
      },
      "source": [
        "words"
      ],
      "execution_count": 5,
      "outputs": [
        {
          "output_type": "execute_result",
          "data": {
            "text/plain": [
              "{'a': 1,\n",
              " 'and': 1,\n",
              " 'are': 1,\n",
              " 'basketball': 1,\n",
              " 'boy': 1,\n",
              " 'brown': 1,\n",
              " 'coldtoday': 1,\n",
              " 'document': 4,\n",
              " 'dog': 1,\n",
              " 'first': 2,\n",
              " 'fox': 1,\n",
              " 'going': 1,\n",
              " 'good': 1,\n",
              " 'is': 6,\n",
              " 'it': 1,\n",
              " 'john': 2,\n",
              " 'jumped': 1,\n",
              " 'lazy': 1,\n",
              " 'one': 1,\n",
              " 'over': 1,\n",
              " 'party': 1,\n",
              " 'quick': 1,\n",
              " 'second': 1,\n",
              " 'the': 7,\n",
              " 'third': 1,\n",
              " 'this': 4,\n",
              " 'to': 1,\n",
              " 'very': 1,\n",
              " 'watches': 1,\n",
              " 'we': 1}"
            ]
          },
          "metadata": {
            "tags": []
          },
          "execution_count": 5
        }
      ]
    },
    {
      "cell_type": "code",
      "metadata": {
        "id": "6fh3fFzXr5SE",
        "colab_type": "code",
        "colab": {}
      },
      "source": [
        "co1=list(words.keys())\n",
        "co2=list(words.values())\n",
        "corpus_df=pd.DataFrame(np.array([co1,co2])).transpose()\n",
        "corpus_df.rename(columns={0:\"words\",1:\"count\"},inplace=True)"
      ],
      "execution_count": 6,
      "outputs": []
    },
    {
      "cell_type": "code",
      "metadata": {
        "id": "QFoXh8h0r7YQ",
        "colab_type": "code",
        "colab": {
          "base_uri": "https://localhost:8080/",
          "height": 979
        },
        "outputId": "e667e1dd-279c-4ffe-a661-9ae422c13430"
      },
      "source": [
        "corpus_df"
      ],
      "execution_count": 7,
      "outputs": [
        {
          "output_type": "execute_result",
          "data": {
            "text/html": [
              "<div>\n",
              "<style scoped>\n",
              "    .dataframe tbody tr th:only-of-type {\n",
              "        vertical-align: middle;\n",
              "    }\n",
              "\n",
              "    .dataframe tbody tr th {\n",
              "        vertical-align: top;\n",
              "    }\n",
              "\n",
              "    .dataframe thead th {\n",
              "        text-align: right;\n",
              "    }\n",
              "</style>\n",
              "<table border=\"1\" class=\"dataframe\">\n",
              "  <thead>\n",
              "    <tr style=\"text-align: right;\">\n",
              "      <th></th>\n",
              "      <th>words</th>\n",
              "      <th>count</th>\n",
              "    </tr>\n",
              "  </thead>\n",
              "  <tbody>\n",
              "    <tr>\n",
              "      <th>0</th>\n",
              "      <td>this</td>\n",
              "      <td>4</td>\n",
              "    </tr>\n",
              "    <tr>\n",
              "      <th>1</th>\n",
              "      <td>is</td>\n",
              "      <td>6</td>\n",
              "    </tr>\n",
              "    <tr>\n",
              "      <th>2</th>\n",
              "      <td>the</td>\n",
              "      <td>7</td>\n",
              "    </tr>\n",
              "    <tr>\n",
              "      <th>3</th>\n",
              "      <td>first</td>\n",
              "      <td>2</td>\n",
              "    </tr>\n",
              "    <tr>\n",
              "      <th>4</th>\n",
              "      <td>document</td>\n",
              "      <td>4</td>\n",
              "    </tr>\n",
              "    <tr>\n",
              "      <th>5</th>\n",
              "      <td>second</td>\n",
              "      <td>1</td>\n",
              "    </tr>\n",
              "    <tr>\n",
              "      <th>6</th>\n",
              "      <td>and</td>\n",
              "      <td>1</td>\n",
              "    </tr>\n",
              "    <tr>\n",
              "      <th>7</th>\n",
              "      <td>third</td>\n",
              "      <td>1</td>\n",
              "    </tr>\n",
              "    <tr>\n",
              "      <th>8</th>\n",
              "      <td>one</td>\n",
              "      <td>1</td>\n",
              "    </tr>\n",
              "    <tr>\n",
              "      <th>9</th>\n",
              "      <td>quick</td>\n",
              "      <td>1</td>\n",
              "    </tr>\n",
              "    <tr>\n",
              "      <th>10</th>\n",
              "      <td>brown</td>\n",
              "      <td>1</td>\n",
              "    </tr>\n",
              "    <tr>\n",
              "      <th>11</th>\n",
              "      <td>fox</td>\n",
              "      <td>1</td>\n",
              "    </tr>\n",
              "    <tr>\n",
              "      <th>12</th>\n",
              "      <td>jumped</td>\n",
              "      <td>1</td>\n",
              "    </tr>\n",
              "    <tr>\n",
              "      <th>13</th>\n",
              "      <td>over</td>\n",
              "      <td>1</td>\n",
              "    </tr>\n",
              "    <tr>\n",
              "      <th>14</th>\n",
              "      <td>lazy</td>\n",
              "      <td>1</td>\n",
              "    </tr>\n",
              "    <tr>\n",
              "      <th>15</th>\n",
              "      <td>dog</td>\n",
              "      <td>1</td>\n",
              "    </tr>\n",
              "    <tr>\n",
              "      <th>16</th>\n",
              "      <td>john</td>\n",
              "      <td>2</td>\n",
              "    </tr>\n",
              "    <tr>\n",
              "      <th>17</th>\n",
              "      <td>a</td>\n",
              "      <td>1</td>\n",
              "    </tr>\n",
              "    <tr>\n",
              "      <th>18</th>\n",
              "      <td>good</td>\n",
              "      <td>1</td>\n",
              "    </tr>\n",
              "    <tr>\n",
              "      <th>19</th>\n",
              "      <td>boy</td>\n",
              "      <td>1</td>\n",
              "    </tr>\n",
              "    <tr>\n",
              "      <th>20</th>\n",
              "      <td>watches</td>\n",
              "      <td>1</td>\n",
              "    </tr>\n",
              "    <tr>\n",
              "      <th>21</th>\n",
              "      <td>basketball</td>\n",
              "      <td>1</td>\n",
              "    </tr>\n",
              "    <tr>\n",
              "      <th>22</th>\n",
              "      <td>we</td>\n",
              "      <td>1</td>\n",
              "    </tr>\n",
              "    <tr>\n",
              "      <th>23</th>\n",
              "      <td>are</td>\n",
              "      <td>1</td>\n",
              "    </tr>\n",
              "    <tr>\n",
              "      <th>24</th>\n",
              "      <td>going</td>\n",
              "      <td>1</td>\n",
              "    </tr>\n",
              "    <tr>\n",
              "      <th>25</th>\n",
              "      <td>to</td>\n",
              "      <td>1</td>\n",
              "    </tr>\n",
              "    <tr>\n",
              "      <th>26</th>\n",
              "      <td>party</td>\n",
              "      <td>1</td>\n",
              "    </tr>\n",
              "    <tr>\n",
              "      <th>27</th>\n",
              "      <td>it</td>\n",
              "      <td>1</td>\n",
              "    </tr>\n",
              "    <tr>\n",
              "      <th>28</th>\n",
              "      <td>very</td>\n",
              "      <td>1</td>\n",
              "    </tr>\n",
              "    <tr>\n",
              "      <th>29</th>\n",
              "      <td>coldtoday</td>\n",
              "      <td>1</td>\n",
              "    </tr>\n",
              "  </tbody>\n",
              "</table>\n",
              "</div>"
            ],
            "text/plain": [
              "         words count\n",
              "0         this     4\n",
              "1           is     6\n",
              "2          the     7\n",
              "3        first     2\n",
              "4     document     4\n",
              "5       second     1\n",
              "6          and     1\n",
              "7        third     1\n",
              "8          one     1\n",
              "9        quick     1\n",
              "10       brown     1\n",
              "11         fox     1\n",
              "12      jumped     1\n",
              "13        over     1\n",
              "14        lazy     1\n",
              "15         dog     1\n",
              "16        john     2\n",
              "17           a     1\n",
              "18        good     1\n",
              "19         boy     1\n",
              "20     watches     1\n",
              "21  basketball     1\n",
              "22          we     1\n",
              "23         are     1\n",
              "24       going     1\n",
              "25          to     1\n",
              "26       party     1\n",
              "27          it     1\n",
              "28        very     1\n",
              "29   coldtoday     1"
            ]
          },
          "metadata": {
            "tags": []
          },
          "execution_count": 7
        }
      ]
    },
    {
      "cell_type": "code",
      "metadata": {
        "id": "UqKR439-r9pf",
        "colab_type": "code",
        "colab": {
          "base_uri": "https://localhost:8080/",
          "height": 34
        },
        "outputId": "2f22fb1b-23d1-4410-cf5c-d962ce5016c6"
      },
      "source": [
        "corpus_df.shape"
      ],
      "execution_count": 8,
      "outputs": [
        {
          "output_type": "execute_result",
          "data": {
            "text/plain": [
              "(30, 2)"
            ]
          },
          "metadata": {
            "tags": []
          },
          "execution_count": 8
        }
      ]
    },
    {
      "cell_type": "code",
      "metadata": {
        "id": "y8BwyTVhsDoD",
        "colab_type": "code",
        "colab": {}
      },
      "source": [
        ""
      ],
      "execution_count": null,
      "outputs": []
    }
  ]
}