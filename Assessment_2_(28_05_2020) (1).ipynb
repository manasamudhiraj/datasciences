{
  "nbformat": 4,
  "nbformat_minor": 0,
  "metadata": {
    "colab": {
      "name": "Assessment-2-(28-05-2020)",
      "provenance": []
    },
    "kernelspec": {
      "name": "python3",
      "display_name": "Python 3"
    }
  },
  "cells": [
    {
      "cell_type": "markdown",
      "metadata": {
        "id": "xFwXqCHDMgo7",
        "colab_type": "text"
      },
      "source": [
        ""
      ]
    },
    {
      "cell_type": "code",
      "metadata": {
        "id": "D0TRoh3UMnxG",
        "colab_type": "code",
        "colab": {}
      },
      "source": [
        ""
      ],
      "execution_count": 0,
      "outputs": []
    },
    {
      "cell_type": "markdown",
      "metadata": {
        "id": "oa3lR2xkM9wN",
        "colab_type": "text"
      },
      "source": [
        "##CSE - 221710313011 - D.Manasa"
      ]
    },
    {
      "cell_type": "code",
      "metadata": {
        "id": "gaMqTVBdMuao",
        "colab_type": "code",
        "outputId": "058fa1d5-e75c-49ec-9fb2-0985f7ad0ef1",
        "colab": {
          "base_uri": "https://localhost:8080/",
          "height": 85
        }
      },
      "source": [
        "#median of three numbers\n",
        "a = int(input(\"Input first number: \"))\n",
        "b = int(input(\"Input second number: \"))\n",
        "c = int(input(\"Input third number: \"))\n",
        "if a > b:\n",
        "    if a < c:\n",
        "        median = a\n",
        "    elif b > c:\n",
        "        median = b\n",
        "    else:\n",
        "        median = c\n",
        "else:\n",
        "    if a > c:\n",
        "        median = a\n",
        "    elif b < c:\n",
        "        median = b\n",
        "    else:\n",
        "        median = c\n",
        "\n",
        "print(\"The median is\", median)\n"
      ],
      "execution_count": 0,
      "outputs": [
        {
          "output_type": "stream",
          "text": [
            "Input first number: 12\n",
            "Input second number: 42\n",
            "Input third number: 32\n",
            "The median is 32\n"
          ],
          "name": "stdout"
        }
      ]
    },
    {
      "cell_type": "code",
      "metadata": {
        "id": "EUMn39XuMt9Q",
        "colab_type": "code",
        "outputId": "66ba71a7-2bba-48df-a7df-f4e0dba717bd",
        "colab": {
          "base_uri": "https://localhost:8080/",
          "height": 85
        }
      },
      "source": [
        "#count of vowels ,consonants and special characters\n",
        "string = input(\"Please Enter Your Own String : \")\n",
        "string = string.lower()\n",
        "vowels = consonants = digits = special_chars = 0\n",
        "for i in string:\n",
        "    if( i>='a' and i<='z' ):\n",
        "        if( i=='a' or i=='e' or i=='i'or i=='o'or i=='u' ):\n",
        "            vowels += 1\n",
        "        else:\n",
        "                consonants += 1\n",
        "    elif( i.isdigit() ):\n",
        "            digits += 1\n",
        "    else:\n",
        "            special_chars += 1\n",
        "print( \"Vowels: \", vowels)    \n",
        "print( \"Consonants: \", consonants)\n",
        "print( \"Special Characters: \", special_chars)"
      ],
      "execution_count": 0,
      "outputs": [
        {
          "output_type": "stream",
          "text": [
            "Please Enter Your Own String : manasamudhiraj2000\n",
            "Vowels:  6\n",
            "Consonants:  8\n",
            "Special Characters:  0\n"
          ],
          "name": "stdout"
        }
      ]
    },
    {
      "cell_type": "code",
      "metadata": {
        "id": "2skKHd6fNHBS",
        "colab_type": "code",
        "outputId": "1075932c-8183-41e2-eb8b-52b3c0236891",
        "colab": {
          "base_uri": "https://localhost:8080/",
          "height": 884
        }
      },
      "source": [
        "for fizzbuzz in range(51):\n",
        "    if fizzbuzz % 3 == 0 and fizzbuzz % 5 == 0:\n",
        "        print(\"fizzbuzz\")\n",
        "        continue\n",
        "    elif fizzbuzz % 3 == 0:\n",
        "        print(\"fizz\")\n",
        "        continue\n",
        "    elif fizzbuzz % 5 == 0:\n",
        "        print(\"buzz\")\n",
        "        continue\n",
        "    print(fizzbuzz)\n",
        "\t"
      ],
      "execution_count": 0,
      "outputs": [
        {
          "output_type": "stream",
          "text": [
            "fizzbuzz\n",
            "1\n",
            "2\n",
            "fizz\n",
            "4\n",
            "buzz\n",
            "fizz\n",
            "7\n",
            "8\n",
            "fizz\n",
            "buzz\n",
            "11\n",
            "fizz\n",
            "13\n",
            "14\n",
            "fizzbuzz\n",
            "16\n",
            "17\n",
            "fizz\n",
            "19\n",
            "buzz\n",
            "fizz\n",
            "22\n",
            "23\n",
            "fizz\n",
            "buzz\n",
            "26\n",
            "fizz\n",
            "28\n",
            "29\n",
            "fizzbuzz\n",
            "31\n",
            "32\n",
            "fizz\n",
            "34\n",
            "buzz\n",
            "fizz\n",
            "37\n",
            "38\n",
            "fizz\n",
            "buzz\n",
            "41\n",
            "fizz\n",
            "43\n",
            "44\n",
            "fizzbuzz\n",
            "46\n",
            "47\n",
            "fizz\n",
            "49\n",
            "buzz\n"
          ],
          "name": "stdout"
        }
      ]
    },
    {
      "cell_type": "code",
      "metadata": {
        "id": "OqHs42IgNTVu",
        "colab_type": "code",
        "outputId": "6f82d8bd-fd5e-49cf-8af7-b5c66a1805e3",
        "colab": {
          "base_uri": "https://localhost:8080/",
          "height": 51
        }
      },
      "source": [
        "score = input(\"Enter Score: \")\n",
        "s =  float(score)\n",
        "x = 'Error'\n",
        "if s >= 0.9:\n",
        "\tx = 'A'\n",
        "elif s >=0.8:\n",
        "\tx='B'\n",
        "elif s >=0.7:\n",
        "\tx='C'\n",
        "elif s >= 0.6:\n",
        "\tx='D'\n",
        "elif s < .6:\n",
        "\tx ='F'\n",
        "else:\n",
        "\tx =\"Out of Range\"\n",
        "print (x)\n"
      ],
      "execution_count": 0,
      "outputs": [
        {
          "output_type": "stream",
          "text": [
            "Enter Score: 0.6\n",
            "D\n"
          ],
          "name": "stdout"
        }
      ]
    },
    {
      "cell_type": "code",
      "metadata": {
        "id": "pXUqbi3tNkZK",
        "colab_type": "code",
        "outputId": "7eca880e-8635-445e-cc8f-ff83c0e0e392",
        "colab": {
          "base_uri": "https://localhost:8080/",
          "height": 51
        }
      },
      "source": [
        "#parenthesis\n",
        "str=input(\"enter the string\")\n",
        "c1=0\n",
        "c2=0\n",
        "for i in range(0,len(str)):\n",
        "  if(str[i]=='('):\n",
        "    c1=c1+1\n",
        "  else:\n",
        "    c2=c2+1\n",
        "if(c1==c2):\n",
        "  print(c1)"
      ],
      "execution_count": 0,
      "outputs": [
        {
          "output_type": "stream",
          "text": [
            "enter the string()()((()))\n",
            "5\n"
          ],
          "name": "stdout"
        }
      ]
    },
    {
      "cell_type": "code",
      "metadata": {
        "id": "s22G0p0EOEM_",
        "colab_type": "code",
        "outputId": "3310a4b1-61a9-4a8e-b5e1-ea72cf07640f",
        "colab": {
          "base_uri": "https://localhost:8080/",
          "height": 51
        }
      },
      "source": [
        "#sum of digits in a string\n",
        "inputstr = input(\"Enter your string: \")\n",
        "sum_total = 0\n",
        "for x in inputstr:\n",
        "    if x.isdigit():\n",
        "        sum_total += int(x)\n",
        "\n",
        "\n",
        "print(\"Total:- \", sum_total)"
      ],
      "execution_count": 0,
      "outputs": [
        {
          "output_type": "stream",
          "text": [
            "Enter your string: sweety2300\n",
            "Total:-  5\n"
          ],
          "name": "stdout"
        }
      ]
    },
    {
      "cell_type": "code",
      "metadata": {
        "id": "ggvDzm0MOf6Y",
        "colab_type": "code",
        "outputId": "ae793618-88e4-46b2-fe7a-5300fa78b10f",
        "colab": {
          "base_uri": "https://localhost:8080/",
          "height": 51
        }
      },
      "source": [
        "#palindome count in given range\n",
        "maximum = int(input(\" Please Enter the Maximum Value : \"))\n",
        "count=0\n",
        "for num in range(1, maximum + 1):\n",
        "    temp = num\n",
        "    reverse = 0\n",
        "    \n",
        "    while(temp > 0):\n",
        "        Reminder = temp % 10\n",
        "        reverse = (reverse * 10) + Reminder\n",
        "        temp = temp //10\n",
        "\n",
        "    if(num == reverse):\n",
        "        count=count+1\n",
        "print(count)"
      ],
      "execution_count": 0,
      "outputs": [
        {
          "output_type": "stream",
          "text": [
            " Please Enter the Maximum Value : 10\n",
            "9\n"
          ],
          "name": "stdout"
        }
      ]
    },
    {
      "cell_type": "code",
      "metadata": {
        "id": "9Z2d5H3XNlSy",
        "colab_type": "code",
        "outputId": "998ad014-f4c8-413b-c072-a5e2b35b584d",
        "colab": {
          "base_uri": "https://localhost:8080/",
          "height": 51
        }
      },
      "source": [
        "str=input(\"enter string\")\n",
        "count=str.count(\"aa\")\n",
        "print(count)"
      ],
      "execution_count": 5,
      "outputs": [
        {
          "output_type": "stream",
          "text": [
            "enter stringmaanaasaa\n",
            "3\n"
          ],
          "name": "stdout"
        }
      ]
    },
    {
      "cell_type": "code",
      "metadata": {
        "id": "L_Y-AVAANwjJ",
        "colab_type": "code",
        "outputId": "49a290ba-30a3-40dc-848b-1014f054e53f",
        "colab": {
          "base_uri": "https://localhost:8080/",
          "height": 34
        }
      },
      "source": [
        "def replaceCharacterType(str): \n",
        "    vowel = False\n",
        "    consonant = False\n",
        "    for i in range(0, len(str)):           \n",
        "        ch = str[i]    \n",
        "        if ( (ch >= 'a' and ch <= 'z') or \n",
        "             (ch >= 'A' and ch <= 'Z') ):  \n",
        "            if(isVowel(ch)):\n",
        "                vowel = True\n",
        "            else:\n",
        "                consonant = True\n",
        "            if (vowel == True): \n",
        "                print(chr(ord(ch) + 1), end =\" \")\n",
        "                vowel = False\n",
        "            else: \n",
        "                i=1\n",
        "                while True:\n",
        "                    tmp = chr(ord(ch)+i)\n",
        "                    if (isVowel(tmp)):\n",
        "                        print(tmp, end =\" \")\n",
        "                        break\n",
        "                    else:\n",
        "                        i +=1\n",
        "\n",
        "def isVowel(ch):\n",
        "    ch = ch.lower()   \n",
        "    if (ch == 'a' or ch == 'e' or ch == 'i' \n",
        "            or ch == 'o' or ch == 'u'):\n",
        "                return True\n",
        "    else:\n",
        "        return False\n",
        "str = \"orange\"\n",
        "replaceCharacterType(str)\n"
      ],
      "execution_count": 0,
      "outputs": [
        {
          "output_type": "stream",
          "text": [
            "p u b o i f "
          ],
          "name": "stdout"
        }
      ]
    },
    {
      "cell_type": "code",
      "metadata": {
        "id": "JnPx_-S5OCKn",
        "colab_type": "code",
        "colab": {}
      },
      "source": [
        ""
      ],
      "execution_count": 0,
      "outputs": []
    },
    {
      "cell_type": "code",
      "metadata": {
        "id": "QzeZ-RUp9Nhg",
        "colab_type": "code",
        "colab": {}
      },
      "source": [
        ""
      ],
      "execution_count": 0,
      "outputs": []
    },
    {
      "cell_type": "code",
      "metadata": {
        "id": "POlVQEKDC4kd",
        "colab_type": "code",
        "colab": {}
      },
      "source": [
        ""
      ],
      "execution_count": 0,
      "outputs": []
    }
  ]
}