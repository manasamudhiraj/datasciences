{
  "nbformat": 4,
  "nbformat_minor": 0,
  "metadata": {
    "colab": {
      "name": "Assessment-3-(29-05-2020)",
      "provenance": []
    },
    "kernelspec": {
      "name": "python3",
      "display_name": "Python 3"
    }
  },
  "cells": [
    {
      "cell_type": "markdown",
      "metadata": {
        "id": "RRVj6kzdPm4b",
        "colab_type": "text"
      },
      "source": [
        "##CSE - 221710313011 - D.Manasa"
      ]
    },
    {
      "cell_type": "code",
      "metadata": {
        "id": "UU4TPTmONoYY",
        "colab_type": "code",
        "colab": {
          "base_uri": "https://localhost:8080/",
          "height": 51
        },
        "outputId": "b1e04b5f-95c9-40cd-992b-750b3835a315"
      },
      "source": [
        "# factorial using recursion\n",
        "def recur_factorial(n):\n",
        "   if n == 1:\n",
        "       return n\n",
        "   else:\n",
        "       return n*recur_factorial(n-1)\n",
        "\n",
        "num=int(input(\"enter number\"))\n",
        "if num < 0:\n",
        "   print(\"Sorry, factorial does not exist for negative numbers\")\n",
        "elif num == 0:\n",
        "   print(\"The factorial of 0 is 1\")\n",
        "else:\n",
        "   print(\"The factorial of\", num, \"is\", recur_factorial(num))"
      ],
      "execution_count": 1,
      "outputs": [
        {
          "output_type": "stream",
          "text": [
            "enter number5\n",
            "The factorial of 5 is 120\n"
          ],
          "name": "stdout"
        }
      ]
    },
    {
      "cell_type": "code",
      "metadata": {
        "id": "CnV80b7UN4bk",
        "colab_type": "code",
        "colab": {
          "base_uri": "https://localhost:8080/",
          "height": 119
        },
        "outputId": "df632e39-4167-4067-d739-e3be4504e0d2"
      },
      "source": [
        "# fibonocci series using recursion\n",
        "def recur_fibo(n):\n",
        "   if n <= 1:\n",
        "       return n\n",
        "   else:\n",
        "       return(recur_fibo(n-1) + recur_fibo(n-2))\n",
        "\n",
        "nterms = int(input(\"enter no.of terms\"))\n",
        "if nterms <= 0:\n",
        "   print(\"Plese enter a positive integer\")\n",
        "else:\n",
        "   pass\n",
        "   for i in range(nterms):\n",
        "       print(recur_fibo(i))"
      ],
      "execution_count": 2,
      "outputs": [
        {
          "output_type": "stream",
          "text": [
            "enter no.of terms5\n",
            "0\n",
            "1\n",
            "1\n",
            "2\n",
            "3\n"
          ],
          "name": "stdout"
        }
      ]
    },
    {
      "cell_type": "code",
      "metadata": {
        "id": "fR8Np4MIOBWz",
        "colab_type": "code",
        "colab": {
          "base_uri": "https://localhost:8080/",
          "height": 34
        },
        "outputId": "7f995e87-bcc9-4c5f-fe86-f7a9eacddf99"
      },
      "source": [
        "#even numbers in a list\n",
        "list1 = [10, 21, 4, 45, 66, 93] \n",
        "num = 0\n",
        "while(num < len(list1)): \n",
        "    if num % 2 == 0: \n",
        "       print(list1[num], end = \" \") \n",
        "    num += 1\n",
        "     "
      ],
      "execution_count": 3,
      "outputs": [
        {
          "output_type": "stream",
          "text": [
            "10 4 66 "
          ],
          "name": "stdout"
        }
      ]
    },
    {
      "cell_type": "code",
      "metadata": {
        "id": "NiWStEH4OPsB",
        "colab_type": "code",
        "colab": {
          "base_uri": "https://localhost:8080/",
          "height": 34
        },
        "outputId": "ec4a49a3-419b-4e5f-c929-d5d5a3b00821"
      },
      "source": [
        "# sum of elements in a list\n",
        "total = 0\n",
        "ele = 0\n",
        "list1 = [11, 5, 17, 18, 23]  \n",
        "while(ele < len(list1)): \n",
        "    total = total + list1[ele] \n",
        "    ele += 1\n",
        "print(\"Sum of all elements in given list: \", total) "
      ],
      "execution_count": 4,
      "outputs": [
        {
          "output_type": "stream",
          "text": [
            "Sum of all elements in given list:  74\n"
          ],
          "name": "stdout"
        }
      ]
    },
    {
      "cell_type": "code",
      "metadata": {
        "id": "wsYVsH5XOW0A",
        "colab_type": "code",
        "colab": {
          "base_uri": "https://localhost:8080/",
          "height": 51
        },
        "outputId": "de62ac1e-21f9-41bf-a1e4-bc7a58a3d3b7"
      },
      "source": [
        "#palindrome\n",
        "def reverse(str1):\n",
        "    if(len(str1) == 0):\n",
        "        return str1\n",
        "    else:\n",
        "        return reverse(str1[1 : ]) + str1[0]\n",
        "    \n",
        "string = input(\"Please enter your own String : \")\n",
        "str1 = reverse(string)\n",
        "if(string == str1):\n",
        "   print(\"This is a Palindrome String\")\n",
        "else:\n",
        "   print(\"This is Not a Palindrome String\")"
      ],
      "execution_count": 5,
      "outputs": [
        {
          "output_type": "stream",
          "text": [
            "Please enter your own String : madam\n",
            "This is a Palindrome String\n"
          ],
          "name": "stdout"
        }
      ]
    },
    {
      "cell_type": "code",
      "metadata": {
        "id": "oRSURLVHOgKk",
        "colab_type": "code",
        "colab": {
          "base_uri": "https://localhost:8080/",
          "height": 51
        },
        "outputId": "4534b573-fb98-4a2e-c5ea-c7f95663548c"
      },
      "source": [
        "#min element and index of a number in a list\n",
        "list1=[12,45,67,2,68,87,14,100]\n",
        "print(\"the minimum element is\",min(list1))\n",
        "print(\"the position is at\",list1.index(min(list1)))"
      ],
      "execution_count": 6,
      "outputs": [
        {
          "output_type": "stream",
          "text": [
            "the minimum element is 2\n",
            "the position is at 3\n"
          ],
          "name": "stdout"
        }
      ]
    },
    {
      "cell_type": "code",
      "metadata": {
        "id": "EwEOmDfBOtA3",
        "colab_type": "code",
        "colab": {
          "base_uri": "https://localhost:8080/",
          "height": 102
        },
        "outputId": "3ba59789-2ebf-41e8-e6ff-dd79ee5fcb12"
      },
      "source": [
        "# printing all numbers except 3,6\n",
        "for i in range(1,11):\n",
        "  if i%5==0 or i%3==0:\n",
        "    continue\n",
        "  else:\n",
        "    print(i)"
      ],
      "execution_count": 7,
      "outputs": [
        {
          "output_type": "stream",
          "text": [
            "1\n",
            "2\n",
            "4\n",
            "7\n",
            "8\n"
          ],
          "name": "stdout"
        }
      ]
    },
    {
      "cell_type": "code",
      "metadata": {
        "id": "owGH9adbO2xO",
        "colab_type": "code",
        "colab": {
          "base_uri": "https://localhost:8080/",
          "height": 51
        },
        "outputId": "616e7e9a-cdd3-4775-bd07-956bdcc06541"
      },
      "source": [
        "# prime number\n",
        "num = int(input(\"Enter a number: \"))\n",
        "if num > 1:\n",
        "   for i in range(2,num):\n",
        "       if (num % i) == 0:\n",
        "           print(num,\"is not a prime number\")\n",
        "           break\n",
        "   else:\n",
        "       print(num,\"is a prime number\")\n",
        "else:\n",
        "   print(num,\"is not a prime number\")"
      ],
      "execution_count": 9,
      "outputs": [
        {
          "output_type": "stream",
          "text": [
            "Enter a number: 11\n",
            "11 is a prime number\n"
          ],
          "name": "stdout"
        }
      ]
    },
    {
      "cell_type": "code",
      "metadata": {
        "id": "0BPRljHzOz-v",
        "colab_type": "code",
        "colab": {
          "base_uri": "https://localhost:8080/",
          "height": 51
        },
        "outputId": "d545a61f-e89c-4608-a988-7be88e5620ba"
      },
      "source": [
        "#even and odd count in list\n",
        "ec=0\n",
        "oc=0\n",
        "ele=0\n",
        "list1=[12,67,86,24,98,78,23,67,100,123,456,89]\n",
        "while(ele<len(list1)):\n",
        "  if list1[ele]%2==0:\n",
        "    ec=ec+1\n",
        "  else:\n",
        "     oc=oc+1\n",
        "  ele=ele+1\n",
        "print(\"the count of even numbers in list is\",ec)\n",
        "print(\"the count of odd numbers in odd list is\",oc)"
      ],
      "execution_count": 8,
      "outputs": [
        {
          "output_type": "stream",
          "text": [
            "the count of even numbers in list is 7\n",
            "the count of odd numbers in odd list is 5\n"
          ],
          "name": "stdout"
        }
      ]
    },
    {
      "cell_type": "code",
      "metadata": {
        "id": "f4axKnh3PN1n",
        "colab_type": "code",
        "colab": {
          "base_uri": "https://localhost:8080/",
          "height": 51
        },
        "outputId": "533e29bf-13c4-4d63-8cb1-604639ab3dd1"
      },
      "source": [
        "#adam number\n",
        "def isAdam(num):\n",
        "    n = num\n",
        "    rev = 0\n",
        "    while n != 0:\n",
        "        rev = rev * 10 + n % 10\n",
        "        n = n // 10\n",
        "    sn = num ** 2\n",
        "    sr = rev ** 2\n",
        "    n = sr\n",
        "    rev = 0\n",
        "    while n != 0:\n",
        "        rev = rev * 10 + n % 10\n",
        "        n = n // 10\n",
        "    return sn == rev\n",
        "\n",
        "num = int(input(\"Enter the number: \"))\n",
        "if isAdam(num):\n",
        "    print(str(num) + \" is an Adam Number.\")\n",
        "else:\n",
        "    print(str(num) + \" is NOT an Adam Number.\")"
      ],
      "execution_count": 11,
      "outputs": [
        {
          "output_type": "stream",
          "text": [
            "Enter the number: 23\n",
            "23 is NOT an Adam Number.\n"
          ],
          "name": "stdout"
        }
      ]
    },
    {
      "cell_type": "code",
      "metadata": {
        "id": "02zzYabePOui",
        "colab_type": "code",
        "colab": {}
      },
      "source": [
        ""
      ],
      "execution_count": 0,
      "outputs": []
    }
  ]
}