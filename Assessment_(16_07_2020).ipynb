{
  "nbformat": 4,
  "nbformat_minor": 0,
  "metadata": {
    "colab": {
      "name": "Assessment-(16-JULY-2020)",
      "provenance": []
    },
    "kernelspec": {
      "name": "python3",
      "display_name": "Python 3"
    }
  },
  "cells": [
    {
      "cell_type": "code",
      "metadata": {
        "id": "z-5vIRRgBigm",
        "colab_type": "code",
        "colab": {}
      },
      "source": [
        ""
      ],
      "execution_count": null,
      "outputs": []
    },
    {
      "cell_type": "markdown",
      "metadata": {
        "id": "cPaJprUUFoSt",
        "colab_type": "text"
      },
      "source": [
        "##CSE-221710313011-D.Manasa"
      ]
    },
    {
      "cell_type": "code",
      "metadata": {
        "id": "liP0i-0vGnH_",
        "colab_type": "code",
        "colab": {}
      },
      "source": [
        "import pandas as pd\n",
        "data = pd.read_csv(\"/content/drive/My Drive/Summer Internship/all_stocks_5yr.csv\")"
      ],
      "execution_count": 1,
      "outputs": []
    },
    {
      "cell_type": "code",
      "metadata": {
        "id": "bIt22w6hG63W",
        "colab_type": "code",
        "colab": {
          "base_uri": "https://localhost:8080/",
          "height": 34
        },
        "outputId": "0eef9386-2d0a-4b1d-b344-70e59aeb5260"
      },
      "source": [
        "data.shape"
      ],
      "execution_count": 2,
      "outputs": [
        {
          "output_type": "execute_result",
          "data": {
            "text/plain": [
              "(619040, 7)"
            ]
          },
          "metadata": {
            "tags": []
          },
          "execution_count": 2
        }
      ]
    },
    {
      "cell_type": "code",
      "metadata": {
        "id": "6LuALVWRHGxf",
        "colab_type": "code",
        "colab": {
          "base_uri": "https://localhost:8080/",
          "height": 204
        },
        "outputId": "bb07f57b-4d3c-4d00-c7b2-9cd556e0cac5"
      },
      "source": [
        "# Top Five rows\n",
        "data.head()"
      ],
      "execution_count": 4,
      "outputs": [
        {
          "output_type": "execute_result",
          "data": {
            "text/html": [
              "<div>\n",
              "<style scoped>\n",
              "    .dataframe tbody tr th:only-of-type {\n",
              "        vertical-align: middle;\n",
              "    }\n",
              "\n",
              "    .dataframe tbody tr th {\n",
              "        vertical-align: top;\n",
              "    }\n",
              "\n",
              "    .dataframe thead th {\n",
              "        text-align: right;\n",
              "    }\n",
              "</style>\n",
              "<table border=\"1\" class=\"dataframe\">\n",
              "  <thead>\n",
              "    <tr style=\"text-align: right;\">\n",
              "      <th></th>\n",
              "      <th>date</th>\n",
              "      <th>open</th>\n",
              "      <th>high</th>\n",
              "      <th>low</th>\n",
              "      <th>close</th>\n",
              "      <th>volume</th>\n",
              "      <th>Name</th>\n",
              "    </tr>\n",
              "  </thead>\n",
              "  <tbody>\n",
              "    <tr>\n",
              "      <th>0</th>\n",
              "      <td>2013-02-08</td>\n",
              "      <td>15.07</td>\n",
              "      <td>15.12</td>\n",
              "      <td>14.63</td>\n",
              "      <td>14.75</td>\n",
              "      <td>8407500</td>\n",
              "      <td>AAL</td>\n",
              "    </tr>\n",
              "    <tr>\n",
              "      <th>1</th>\n",
              "      <td>2013-02-11</td>\n",
              "      <td>14.89</td>\n",
              "      <td>15.01</td>\n",
              "      <td>14.26</td>\n",
              "      <td>14.46</td>\n",
              "      <td>8882000</td>\n",
              "      <td>AAL</td>\n",
              "    </tr>\n",
              "    <tr>\n",
              "      <th>2</th>\n",
              "      <td>2013-02-12</td>\n",
              "      <td>14.45</td>\n",
              "      <td>14.51</td>\n",
              "      <td>14.10</td>\n",
              "      <td>14.27</td>\n",
              "      <td>8126000</td>\n",
              "      <td>AAL</td>\n",
              "    </tr>\n",
              "    <tr>\n",
              "      <th>3</th>\n",
              "      <td>2013-02-13</td>\n",
              "      <td>14.30</td>\n",
              "      <td>14.94</td>\n",
              "      <td>14.25</td>\n",
              "      <td>14.66</td>\n",
              "      <td>10259500</td>\n",
              "      <td>AAL</td>\n",
              "    </tr>\n",
              "    <tr>\n",
              "      <th>4</th>\n",
              "      <td>2013-02-14</td>\n",
              "      <td>14.94</td>\n",
              "      <td>14.96</td>\n",
              "      <td>13.16</td>\n",
              "      <td>13.99</td>\n",
              "      <td>31879900</td>\n",
              "      <td>AAL</td>\n",
              "    </tr>\n",
              "  </tbody>\n",
              "</table>\n",
              "</div>"
            ],
            "text/plain": [
              "         date   open   high    low  close    volume Name\n",
              "0  2013-02-08  15.07  15.12  14.63  14.75   8407500  AAL\n",
              "1  2013-02-11  14.89  15.01  14.26  14.46   8882000  AAL\n",
              "2  2013-02-12  14.45  14.51  14.10  14.27   8126000  AAL\n",
              "3  2013-02-13  14.30  14.94  14.25  14.66  10259500  AAL\n",
              "4  2013-02-14  14.94  14.96  13.16  13.99  31879900  AAL"
            ]
          },
          "metadata": {
            "tags": []
          },
          "execution_count": 4
        }
      ]
    },
    {
      "cell_type": "code",
      "metadata": {
        "id": "0bPnyfTkHLhp",
        "colab_type": "code",
        "colab": {
          "base_uri": "https://localhost:8080/",
          "height": 34
        },
        "outputId": "660f877d-3d5e-47b4-87f8-343a91647528"
      },
      "source": [
        "data.columns"
      ],
      "execution_count": 5,
      "outputs": [
        {
          "output_type": "execute_result",
          "data": {
            "text/plain": [
              "Index(['date', 'open', 'high', 'low', 'close', 'volume', 'Name'], dtype='object')"
            ]
          },
          "metadata": {
            "tags": []
          },
          "execution_count": 5
        }
      ]
    },
    {
      "cell_type": "code",
      "metadata": {
        "id": "F61paV9dHPzs",
        "colab_type": "code",
        "colab": {
          "base_uri": "https://localhost:8080/",
          "height": 221
        },
        "outputId": "f8a5b3ac-0f4a-4463-d983-3bb1249f4dfe"
      },
      "source": [
        "data['Name'].value_counts()"
      ],
      "execution_count": 6,
      "outputs": [
        {
          "output_type": "execute_result",
          "data": {
            "text/plain": [
              "SYY     1259\n",
              "SNI     1259\n",
              "FLIR    1259\n",
              "WBA     1259\n",
              "XL      1259\n",
              "        ... \n",
              "DXC      215\n",
              "BHGE     152\n",
              "BHF      143\n",
              "DWDP     109\n",
              "APTV      44\n",
              "Name: Name, Length: 505, dtype: int64"
            ]
          },
          "metadata": {
            "tags": []
          },
          "execution_count": 6
        }
      ]
    },
    {
      "cell_type": "code",
      "metadata": {
        "id": "iSD_Xh9-HQS4",
        "colab_type": "code",
        "colab": {
          "base_uri": "https://localhost:8080/",
          "height": 34
        },
        "outputId": "abdcd25e-5a4a-485d-f092-55a1af853813"
      },
      "source": [
        "### How many company's data we have here?\n",
        "data.Name.nunique()"
      ],
      "execution_count": 7,
      "outputs": [
        {
          "output_type": "execute_result",
          "data": {
            "text/plain": [
              "505"
            ]
          },
          "metadata": {
            "tags": []
          },
          "execution_count": 7
        }
      ]
    },
    {
      "cell_type": "code",
      "metadata": {
        "id": "xzD2NSLfHUqr",
        "colab_type": "code",
        "colab": {
          "base_uri": "https://localhost:8080/",
          "height": 34
        },
        "outputId": "7fb61d5c-1a3f-4aae-cd72-6f1e23e9f410"
      },
      "source": [
        "## Selecting the data AAL\n",
        "df = data[data['Name']=='AAP']\n",
        "df.shape"
      ],
      "execution_count": 8,
      "outputs": [
        {
          "output_type": "execute_result",
          "data": {
            "text/plain": [
              "(1259, 7)"
            ]
          },
          "metadata": {
            "tags": []
          },
          "execution_count": 8
        }
      ]
    },
    {
      "cell_type": "code",
      "metadata": {
        "id": "YcaBwr_sHW_H",
        "colab_type": "code",
        "colab": {
          "base_uri": "https://localhost:8080/",
          "height": 34
        },
        "outputId": "15ec30d0-85ee-4af5-d58d-8f1cf5345d2d"
      },
      "source": [
        "df.columns"
      ],
      "execution_count": 9,
      "outputs": [
        {
          "output_type": "execute_result",
          "data": {
            "text/plain": [
              "Index(['date', 'open', 'high', 'low', 'close', 'volume', 'Name'], dtype='object')"
            ]
          },
          "metadata": {
            "tags": []
          },
          "execution_count": 9
        }
      ]
    },
    {
      "cell_type": "code",
      "metadata": {
        "id": "OpiM2nHPHbAX",
        "colab_type": "code",
        "colab": {
          "base_uri": "https://localhost:8080/",
          "height": 419
        },
        "outputId": "a2d8c58c-edd9-47ed-adc2-de38eb83f607"
      },
      "source": [
        "#select the columns data and close price\n",
        "df = df[['date','close']]\n",
        "df"
      ],
      "execution_count": 10,
      "outputs": [
        {
          "output_type": "execute_result",
          "data": {
            "text/html": [
              "<div>\n",
              "<style scoped>\n",
              "    .dataframe tbody tr th:only-of-type {\n",
              "        vertical-align: middle;\n",
              "    }\n",
              "\n",
              "    .dataframe tbody tr th {\n",
              "        vertical-align: top;\n",
              "    }\n",
              "\n",
              "    .dataframe thead th {\n",
              "        text-align: right;\n",
              "    }\n",
              "</style>\n",
              "<table border=\"1\" class=\"dataframe\">\n",
              "  <thead>\n",
              "    <tr style=\"text-align: right;\">\n",
              "      <th></th>\n",
              "      <th>date</th>\n",
              "      <th>close</th>\n",
              "    </tr>\n",
              "  </thead>\n",
              "  <tbody>\n",
              "    <tr>\n",
              "      <th>2518</th>\n",
              "      <td>2013-02-08</td>\n",
              "      <td>78.90</td>\n",
              "    </tr>\n",
              "    <tr>\n",
              "      <th>2519</th>\n",
              "      <td>2013-02-11</td>\n",
              "      <td>78.39</td>\n",
              "    </tr>\n",
              "    <tr>\n",
              "      <th>2520</th>\n",
              "      <td>2013-02-12</td>\n",
              "      <td>78.60</td>\n",
              "    </tr>\n",
              "    <tr>\n",
              "      <th>2521</th>\n",
              "      <td>2013-02-13</td>\n",
              "      <td>78.97</td>\n",
              "    </tr>\n",
              "    <tr>\n",
              "      <th>2522</th>\n",
              "      <td>2013-02-14</td>\n",
              "      <td>78.84</td>\n",
              "    </tr>\n",
              "    <tr>\n",
              "      <th>...</th>\n",
              "      <td>...</td>\n",
              "      <td>...</td>\n",
              "    </tr>\n",
              "    <tr>\n",
              "      <th>3772</th>\n",
              "      <td>2018-02-01</td>\n",
              "      <td>117.29</td>\n",
              "    </tr>\n",
              "    <tr>\n",
              "      <th>3773</th>\n",
              "      <td>2018-02-02</td>\n",
              "      <td>113.93</td>\n",
              "    </tr>\n",
              "    <tr>\n",
              "      <th>3774</th>\n",
              "      <td>2018-02-05</td>\n",
              "      <td>109.86</td>\n",
              "    </tr>\n",
              "    <tr>\n",
              "      <th>3775</th>\n",
              "      <td>2018-02-06</td>\n",
              "      <td>112.20</td>\n",
              "    </tr>\n",
              "    <tr>\n",
              "      <th>3776</th>\n",
              "      <td>2018-02-07</td>\n",
              "      <td>109.93</td>\n",
              "    </tr>\n",
              "  </tbody>\n",
              "</table>\n",
              "<p>1259 rows × 2 columns</p>\n",
              "</div>"
            ],
            "text/plain": [
              "            date   close\n",
              "2518  2013-02-08   78.90\n",
              "2519  2013-02-11   78.39\n",
              "2520  2013-02-12   78.60\n",
              "2521  2013-02-13   78.97\n",
              "2522  2013-02-14   78.84\n",
              "...          ...     ...\n",
              "3772  2018-02-01  117.29\n",
              "3773  2018-02-02  113.93\n",
              "3774  2018-02-05  109.86\n",
              "3775  2018-02-06  112.20\n",
              "3776  2018-02-07  109.93\n",
              "\n",
              "[1259 rows x 2 columns]"
            ]
          },
          "metadata": {
            "tags": []
          },
          "execution_count": 10
        }
      ]
    },
    {
      "cell_type": "code",
      "metadata": {
        "id": "0BlhSoZDHbb_",
        "colab_type": "code",
        "colab": {
          "base_uri": "https://localhost:8080/",
          "height": 282
        },
        "outputId": "ea8bb6cb-4cb9-4618-fa82-820e72ad6bb6"
      },
      "source": [
        "#line plot\n",
        "import matplotlib.pyplot as plt\n",
        "plt.plot(df['date'],df['close'])"
      ],
      "execution_count": 11,
      "outputs": [
        {
          "output_type": "execute_result",
          "data": {
            "text/plain": [
              "[<matplotlib.lines.Line2D at 0x7f6e2422c6d8>]"
            ]
          },
          "metadata": {
            "tags": []
          },
          "execution_count": 11
        },
        {
          "output_type": "display_data",
          "data": {
            "image/png": "[encoded data removed]",
            "text/plain": [
              "<Figure size 432x288 with 1 Axes>"
            ]
          },
          "metadata": {
            "tags": [],
            "needs_background": "light"
          }
        }
      ]
    },
    {
      "cell_type": "code",
      "metadata": {
        "id": "B2igFL3zHeXg",
        "colab_type": "code",
        "colab": {
          "base_uri": "https://localhost:8080/",
          "height": 204
        },
        "outputId": "9c445ad4-4273-4875-d607-8f7b9e7785f3"
      },
      "source": [
        "df.date[:10]"
      ],
      "execution_count": 12,
      "outputs": [
        {
          "output_type": "execute_result",
          "data": {
            "text/plain": [
              "2518    2013-02-08\n",
              "2519    2013-02-11\n",
              "2520    2013-02-12\n",
              "2521    2013-02-13\n",
              "2522    2013-02-14\n",
              "2523    2013-02-15\n",
              "2524    2013-02-19\n",
              "2525    2013-02-20\n",
              "2526    2013-02-21\n",
              "2527    2013-02-22\n",
              "Name: date, dtype: object"
            ]
          },
          "metadata": {
            "tags": []
          },
          "execution_count": 12
        }
      ]
    },
    {
      "cell_type": "code",
      "metadata": {
        "id": "WBI7x28jHi0R",
        "colab_type": "code",
        "colab": {
          "base_uri": "https://localhost:8080/",
          "height": 68
        },
        "outputId": "c3a7a0ad-269e-4bfd-90af-cb1e91dfaf93"
      },
      "source": [
        "### Missing values in the data\n",
        "df.isnull().sum()"
      ],
      "execution_count": 13,
      "outputs": [
        {
          "output_type": "execute_result",
          "data": {
            "text/plain": [
              "date     0\n",
              "close    0\n",
              "dtype: int64"
            ]
          },
          "metadata": {
            "tags": []
          },
          "execution_count": 13
        }
      ]
    },
    {
      "cell_type": "code",
      "metadata": {
        "id": "4VD4YFWFHlm5",
        "colab_type": "code",
        "colab": {
          "base_uri": "https://localhost:8080/",
          "height": 34
        },
        "outputId": "15ee76a9-02d0-4262-e90b-dc52b26e1edd"
      },
      "source": [
        "df.shape"
      ],
      "execution_count": 14,
      "outputs": [
        {
          "output_type": "execute_result",
          "data": {
            "text/plain": [
              "(1259, 2)"
            ]
          },
          "metadata": {
            "tags": []
          },
          "execution_count": 14
        }
      ]
    },
    {
      "cell_type": "code",
      "metadata": {
        "id": "JMN-NKI-HoO4",
        "colab_type": "code",
        "colab": {
          "base_uri": "https://localhost:8080/",
          "height": 272
        },
        "outputId": "86875393-eeed-414d-e9f1-ed4cf6244079"
      },
      "source": [
        "## Preparing the data\n",
        "## Features and target\n",
        "## Input and output\n",
        "## last 7 days data as input\n",
        "## X -- [[d1-d7],[d9,d15],[d17,23]....]\n",
        "## y -- [d8,d16,d24,...]\n",
        "\n",
        "## X = [[d1-d7],[d2-d8],]\n",
        "## y = [d8,d9]\n",
        "\n",
        "X = [] ## input\n",
        "y = [] ## ouput\n",
        "for i  in range(df.shape[0]-7-1):   \n",
        "  X.append(df['close'][i:i+7])# 0 -->[0:7], 1-->[1:8]\n",
        "  y.append(df['close'][i+2525])# 7,8,9\n",
        "print(X[:2])"
      ],
      "execution_count": 15,
      "outputs": [
        {
          "output_type": "stream",
          "text": [
            "[2518    78.90\n",
            "2519    78.39\n",
            "2520    78.60\n",
            "2521    78.97\n",
            "2522    78.84\n",
            "2523    79.00\n",
            "2524    80.72\n",
            "Name: close, dtype: float64, 2519    78.39\n",
            "2520    78.60\n",
            "2521    78.97\n",
            "2522    78.84\n",
            "2523    79.00\n",
            "2524    80.72\n",
            "2525    79.50\n",
            "Name: close, dtype: float64]\n"
          ],
          "name": "stdout"
        }
      ]
    },
    {
      "cell_type": "code",
      "metadata": {
        "id": "DG_MGSAEHtBZ",
        "colab_type": "code",
        "colab": {}
      },
      "source": [
        "import numpy as np\n",
        "X = np.array(X)"
      ],
      "execution_count": 16,
      "outputs": []
    },
    {
      "cell_type": "code",
      "metadata": {
        "id": "ub4qEoYAHvuA",
        "colab_type": "code",
        "colab": {
          "base_uri": "https://localhost:8080/",
          "height": 204
        },
        "outputId": "edfa1d54-2a2f-407c-9eb1-0934659975e7"
      },
      "source": [
        "df1 = pd.DataFrame(X,columns=['d1','d2','d3','d4','d5','d6','d7'])\n",
        "df1.head()"
      ],
      "execution_count": 17,
      "outputs": [
        {
          "output_type": "execute_result",
          "data": {
            "text/html": [
              "<div>\n",
              "<style scoped>\n",
              "    .dataframe tbody tr th:only-of-type {\n",
              "        vertical-align: middle;\n",
              "    }\n",
              "\n",
              "    .dataframe tbody tr th {\n",
              "        vertical-align: top;\n",
              "    }\n",
              "\n",
              "    .dataframe thead th {\n",
              "        text-align: right;\n",
              "    }\n",
              "</style>\n",
              "<table border=\"1\" class=\"dataframe\">\n",
              "  <thead>\n",
              "    <tr style=\"text-align: right;\">\n",
              "      <th></th>\n",
              "      <th>d1</th>\n",
              "      <th>d2</th>\n",
              "      <th>d3</th>\n",
              "      <th>d4</th>\n",
              "      <th>d5</th>\n",
              "      <th>d6</th>\n",
              "      <th>d7</th>\n",
              "    </tr>\n",
              "  </thead>\n",
              "  <tbody>\n",
              "    <tr>\n",
              "      <th>0</th>\n",
              "      <td>78.90</td>\n",
              "      <td>78.39</td>\n",
              "      <td>78.60</td>\n",
              "      <td>78.97</td>\n",
              "      <td>78.84</td>\n",
              "      <td>79.00</td>\n",
              "      <td>80.72</td>\n",
              "    </tr>\n",
              "    <tr>\n",
              "      <th>1</th>\n",
              "      <td>78.39</td>\n",
              "      <td>78.60</td>\n",
              "      <td>78.97</td>\n",
              "      <td>78.84</td>\n",
              "      <td>79.00</td>\n",
              "      <td>80.72</td>\n",
              "      <td>79.50</td>\n",
              "    </tr>\n",
              "    <tr>\n",
              "      <th>2</th>\n",
              "      <td>78.60</td>\n",
              "      <td>78.97</td>\n",
              "      <td>78.84</td>\n",
              "      <td>79.00</td>\n",
              "      <td>80.72</td>\n",
              "      <td>79.50</td>\n",
              "      <td>79.06</td>\n",
              "    </tr>\n",
              "    <tr>\n",
              "      <th>3</th>\n",
              "      <td>78.97</td>\n",
              "      <td>78.84</td>\n",
              "      <td>79.00</td>\n",
              "      <td>80.72</td>\n",
              "      <td>79.50</td>\n",
              "      <td>79.06</td>\n",
              "      <td>79.21</td>\n",
              "    </tr>\n",
              "    <tr>\n",
              "      <th>4</th>\n",
              "      <td>78.84</td>\n",
              "      <td>79.00</td>\n",
              "      <td>80.72</td>\n",
              "      <td>79.50</td>\n",
              "      <td>79.06</td>\n",
              "      <td>79.21</td>\n",
              "      <td>78.36</td>\n",
              "    </tr>\n",
              "  </tbody>\n",
              "</table>\n",
              "</div>"
            ],
            "text/plain": [
              "      d1     d2     d3     d4     d5     d6     d7\n",
              "0  78.90  78.39  78.60  78.97  78.84  79.00  80.72\n",
              "1  78.39  78.60  78.97  78.84  79.00  80.72  79.50\n",
              "2  78.60  78.97  78.84  79.00  80.72  79.50  79.06\n",
              "3  78.97  78.84  79.00  80.72  79.50  79.06  79.21\n",
              "4  78.84  79.00  80.72  79.50  79.06  79.21  78.36"
            ]
          },
          "metadata": {
            "tags": []
          },
          "execution_count": 17
        }
      ]
    },
    {
      "cell_type": "code",
      "metadata": {
        "id": "AF3N_-pJHzFY",
        "colab_type": "code",
        "colab": {
          "base_uri": "https://localhost:8080/",
          "height": 204
        },
        "outputId": "fe75d190-8d59-4ed5-d6ad-66a114591202"
      },
      "source": [
        "df1['d8'] = y\n",
        "df1.head()"
      ],
      "execution_count": 18,
      "outputs": [
        {
          "output_type": "execute_result",
          "data": {
            "text/html": [
              "<div>\n",
              "<style scoped>\n",
              "    .dataframe tbody tr th:only-of-type {\n",
              "        vertical-align: middle;\n",
              "    }\n",
              "\n",
              "    .dataframe tbody tr th {\n",
              "        vertical-align: top;\n",
              "    }\n",
              "\n",
              "    .dataframe thead th {\n",
              "        text-align: right;\n",
              "    }\n",
              "</style>\n",
              "<table border=\"1\" class=\"dataframe\">\n",
              "  <thead>\n",
              "    <tr style=\"text-align: right;\">\n",
              "      <th></th>\n",
              "      <th>d1</th>\n",
              "      <th>d2</th>\n",
              "      <th>d3</th>\n",
              "      <th>d4</th>\n",
              "      <th>d5</th>\n",
              "      <th>d6</th>\n",
              "      <th>d7</th>\n",
              "      <th>d8</th>\n",
              "    </tr>\n",
              "  </thead>\n",
              "  <tbody>\n",
              "    <tr>\n",
              "      <th>0</th>\n",
              "      <td>78.90</td>\n",
              "      <td>78.39</td>\n",
              "      <td>78.60</td>\n",
              "      <td>78.97</td>\n",
              "      <td>78.84</td>\n",
              "      <td>79.00</td>\n",
              "      <td>80.72</td>\n",
              "      <td>79.50</td>\n",
              "    </tr>\n",
              "    <tr>\n",
              "      <th>1</th>\n",
              "      <td>78.39</td>\n",
              "      <td>78.60</td>\n",
              "      <td>78.97</td>\n",
              "      <td>78.84</td>\n",
              "      <td>79.00</td>\n",
              "      <td>80.72</td>\n",
              "      <td>79.50</td>\n",
              "      <td>79.06</td>\n",
              "    </tr>\n",
              "    <tr>\n",
              "      <th>2</th>\n",
              "      <td>78.60</td>\n",
              "      <td>78.97</td>\n",
              "      <td>78.84</td>\n",
              "      <td>79.00</td>\n",
              "      <td>80.72</td>\n",
              "      <td>79.50</td>\n",
              "      <td>79.06</td>\n",
              "      <td>79.21</td>\n",
              "    </tr>\n",
              "    <tr>\n",
              "      <th>3</th>\n",
              "      <td>78.97</td>\n",
              "      <td>78.84</td>\n",
              "      <td>79.00</td>\n",
              "      <td>80.72</td>\n",
              "      <td>79.50</td>\n",
              "      <td>79.06</td>\n",
              "      <td>79.21</td>\n",
              "      <td>78.36</td>\n",
              "    </tr>\n",
              "    <tr>\n",
              "      <th>4</th>\n",
              "      <td>78.84</td>\n",
              "      <td>79.00</td>\n",
              "      <td>80.72</td>\n",
              "      <td>79.50</td>\n",
              "      <td>79.06</td>\n",
              "      <td>79.21</td>\n",
              "      <td>78.36</td>\n",
              "      <td>77.15</td>\n",
              "    </tr>\n",
              "  </tbody>\n",
              "</table>\n",
              "</div>"
            ],
            "text/plain": [
              "      d1     d2     d3     d4     d5     d6     d7     d8\n",
              "0  78.90  78.39  78.60  78.97  78.84  79.00  80.72  79.50\n",
              "1  78.39  78.60  78.97  78.84  79.00  80.72  79.50  79.06\n",
              "2  78.60  78.97  78.84  79.00  80.72  79.50  79.06  79.21\n",
              "3  78.97  78.84  79.00  80.72  79.50  79.06  79.21  78.36\n",
              "4  78.84  79.00  80.72  79.50  79.06  79.21  78.36  77.15"
            ]
          },
          "metadata": {
            "tags": []
          },
          "execution_count": 18
        }
      ]
    },
    {
      "cell_type": "code",
      "metadata": {
        "id": "PbMbV4UmH2Sf",
        "colab_type": "code",
        "colab": {
          "base_uri": "https://localhost:8080/",
          "height": 34
        },
        "outputId": "f505ffe7-dab9-41e5-b381-5dad355a09f5"
      },
      "source": [
        "df1.shape"
      ],
      "execution_count": 19,
      "outputs": [
        {
          "output_type": "execute_result",
          "data": {
            "text/plain": [
              "(1251, 8)"
            ]
          },
          "metadata": {
            "tags": []
          },
          "execution_count": 19
        }
      ]
    },
    {
      "cell_type": "code",
      "metadata": {
        "id": "UO9veeZgH583",
        "colab_type": "code",
        "colab": {
          "base_uri": "https://localhost:8080/",
          "height": 34
        },
        "outputId": "6d054092-5cb8-4ded-9684-16462af39118"
      },
      "source": [
        "1251 * 0.8"
      ],
      "execution_count": 20,
      "outputs": [
        {
          "output_type": "execute_result",
          "data": {
            "text/plain": [
              "1000.8000000000001"
            ]
          },
          "metadata": {
            "tags": []
          },
          "execution_count": 20
        }
      ]
    },
    {
      "cell_type": "code",
      "metadata": {
        "id": "tGiS96lcH6WZ",
        "colab_type": "code",
        "colab": {
          "base_uri": "https://localhost:8080/",
          "height": 85
        },
        "outputId": "67bfed6e-b8d0-4508-d9c0-b8e8ab05686d"
      },
      "source": [
        "## Train test split\n",
        "X_train = df1.iloc[0:1000,0:7]\n",
        "X_test = df1.iloc[1000:,0:7]\n",
        "y_train =  df1['d8'][:1000]\n",
        "y_test  = df1['d8'][1000:]\n",
        "print(X_train.shape)\n",
        "print(y_train.shape)\n",
        "print(X_test.shape)\n",
        "print(y_test.shape)"
      ],
      "execution_count": 21,
      "outputs": [
        {
          "output_type": "stream",
          "text": [
            "(1000, 7)\n",
            "(1000,)\n",
            "(251, 7)\n",
            "(251,)\n"
          ],
          "name": "stdout"
        }
      ]
    },
    {
      "cell_type": "code",
      "metadata": {
        "id": "uwFlEF57H_VE",
        "colab_type": "code",
        "colab": {
          "base_uri": "https://localhost:8080/",
          "height": 297
        },
        "outputId": "239b4c63-0b87-4040-a80b-2f7b66189321"
      },
      "source": [
        "## Sacling the data\n",
        "from sklearn.preprocessing import StandardScaler\n",
        "sc = StandardScaler()\n",
        "sc.fit(X_train)\n",
        "X_train_sc = pd.DataFrame(sc.transform(X_train),columns = X_train.columns)\n",
        "X_test_sc = pd.DataFrame(sc.transform(X_test),columns = X_train.columns)\n",
        "X_train_sc.describe()"
      ],
      "execution_count": 22,
      "outputs": [
        {
          "output_type": "execute_result",
          "data": {
            "text/html": [
              "<div>\n",
              "<style scoped>\n",
              "    .dataframe tbody tr th:only-of-type {\n",
              "        vertical-align: middle;\n",
              "    }\n",
              "\n",
              "    .dataframe tbody tr th {\n",
              "        vertical-align: top;\n",
              "    }\n",
              "\n",
              "    .dataframe thead th {\n",
              "        text-align: right;\n",
              "    }\n",
              "</style>\n",
              "<table border=\"1\" class=\"dataframe\">\n",
              "  <thead>\n",
              "    <tr style=\"text-align: right;\">\n",
              "      <th></th>\n",
              "      <th>d1</th>\n",
              "      <th>d2</th>\n",
              "      <th>d3</th>\n",
              "      <th>d4</th>\n",
              "      <th>d5</th>\n",
              "      <th>d6</th>\n",
              "      <th>d7</th>\n",
              "    </tr>\n",
              "  </thead>\n",
              "  <tbody>\n",
              "    <tr>\n",
              "      <th>count</th>\n",
              "      <td>1.000000e+03</td>\n",
              "      <td>1.000000e+03</td>\n",
              "      <td>1.000000e+03</td>\n",
              "      <td>1.000000e+03</td>\n",
              "      <td>1.000000e+03</td>\n",
              "      <td>1.000000e+03</td>\n",
              "      <td>1.000000e+03</td>\n",
              "    </tr>\n",
              "    <tr>\n",
              "      <th>mean</th>\n",
              "      <td>5.273559e-16</td>\n",
              "      <td>2.123857e-16</td>\n",
              "      <td>-3.332890e-16</td>\n",
              "      <td>4.530820e-16</td>\n",
              "      <td>-4.570788e-16</td>\n",
              "      <td>-3.183009e-16</td>\n",
              "      <td>-3.018696e-16</td>\n",
              "    </tr>\n",
              "    <tr>\n",
              "      <th>std</th>\n",
              "      <td>1.000500e+00</td>\n",
              "      <td>1.000500e+00</td>\n",
              "      <td>1.000500e+00</td>\n",
              "      <td>1.000500e+00</td>\n",
              "      <td>1.000500e+00</td>\n",
              "      <td>1.000500e+00</td>\n",
              "      <td>1.000500e+00</td>\n",
              "    </tr>\n",
              "    <tr>\n",
              "      <th>min</th>\n",
              "      <td>-1.890787e+00</td>\n",
              "      <td>-1.895818e+00</td>\n",
              "      <td>-1.900960e+00</td>\n",
              "      <td>-1.906169e+00</td>\n",
              "      <td>-1.911327e+00</td>\n",
              "      <td>-1.916526e+00</td>\n",
              "      <td>-1.921775e+00</td>\n",
              "    </tr>\n",
              "    <tr>\n",
              "      <th>25%</th>\n",
              "      <td>-5.749156e-01</td>\n",
              "      <td>-5.744587e-01</td>\n",
              "      <td>-5.743494e-01</td>\n",
              "      <td>-5.690188e-01</td>\n",
              "      <td>-5.657487e-01</td>\n",
              "      <td>-5.547025e-01</td>\n",
              "      <td>-5.467598e-01</td>\n",
              "    </tr>\n",
              "    <tr>\n",
              "      <th>50%</th>\n",
              "      <td>3.053054e-01</td>\n",
              "      <td>3.040761e-01</td>\n",
              "      <td>3.031716e-01</td>\n",
              "      <td>3.017810e-01</td>\n",
              "      <td>3.003257e-01</td>\n",
              "      <td>2.990099e-01</td>\n",
              "      <td>2.989073e-01</td>\n",
              "    </tr>\n",
              "    <tr>\n",
              "      <th>75%</th>\n",
              "      <td>7.257967e-01</td>\n",
              "      <td>7.253207e-01</td>\n",
              "      <td>7.266959e-01</td>\n",
              "      <td>7.267586e-01</td>\n",
              "      <td>7.253870e-01</td>\n",
              "      <td>7.247139e-01</td>\n",
              "      <td>7.234518e-01</td>\n",
              "    </tr>\n",
              "    <tr>\n",
              "      <th>max</th>\n",
              "      <td>2.031483e+00</td>\n",
              "      <td>2.031266e+00</td>\n",
              "      <td>2.031145e+00</td>\n",
              "      <td>2.031334e+00</td>\n",
              "      <td>2.031363e+00</td>\n",
              "      <td>2.031387e+00</td>\n",
              "      <td>2.031622e+00</td>\n",
              "    </tr>\n",
              "  </tbody>\n",
              "</table>\n",
              "</div>"
            ],
            "text/plain": [
              "                 d1            d2  ...            d6            d7\n",
              "count  1.000000e+03  1.000000e+03  ...  1.000000e+03  1.000000e+03\n",
              "mean   5.273559e-16  2.123857e-16  ... -3.183009e-16 -3.018696e-16\n",
              "std    1.000500e+00  1.000500e+00  ...  1.000500e+00  1.000500e+00\n",
              "min   -1.890787e+00 -1.895818e+00  ... -1.916526e+00 -1.921775e+00\n",
              "25%   -5.749156e-01 -5.744587e-01  ... -5.547025e-01 -5.467598e-01\n",
              "50%    3.053054e-01  3.040761e-01  ...  2.990099e-01  2.989073e-01\n",
              "75%    7.257967e-01  7.253207e-01  ...  7.247139e-01  7.234518e-01\n",
              "max    2.031483e+00  2.031266e+00  ...  2.031387e+00  2.031622e+00\n",
              "\n",
              "[8 rows x 7 columns]"
            ]
          },
          "metadata": {
            "tags": []
          },
          "execution_count": 22
        }
      ]
    },
    {
      "cell_type": "code",
      "metadata": {
        "id": "GEWCN9wTIB4K",
        "colab_type": "code",
        "colab": {
          "base_uri": "https://localhost:8080/",
          "height": 238
        },
        "outputId": "affaa0be-1c09-46cb-c531-e264ea741b73"
      },
      "source": [
        "from keras.models import Sequential\n",
        "from keras.layers import Dense,Dropout,LSTM\n",
        "model = Sequential()\n",
        "model.add(LSTM(256,input_shape=(7,1)))\n",
        "model.add(Dense(1))\n",
        "model.summary()"
      ],
      "execution_count": 23,
      "outputs": [
        {
          "output_type": "stream",
          "text": [
            "Using TensorFlow backend.\n"
          ],
          "name": "stderr"
        },
        {
          "output_type": "stream",
          "text": [
            "Model: \"sequential_1\"\n",
            "_________________________________________________________________\n",
            "Layer (type)                 Output Shape              Param #   \n",
            "=================================================================\n",
            "lstm_1 (LSTM)                (None, 256)               264192    \n",
            "_________________________________________________________________\n",
            "dense_1 (Dense)              (None, 1)                 257       \n",
            "=================================================================\n",
            "Total params: 264,449\n",
            "Trainable params: 264,449\n",
            "Non-trainable params: 0\n",
            "_________________________________________________________________\n"
          ],
          "name": "stdout"
        }
      ]
    },
    {
      "cell_type": "code",
      "metadata": {
        "id": "klvUqyM0IGB-",
        "colab_type": "code",
        "colab": {}
      },
      "source": [
        "model.compile(optimizer='adam',loss='mse')"
      ],
      "execution_count": 24,
      "outputs": []
    },
    {
      "cell_type": "code",
      "metadata": {
        "id": "W-gV06g1IJIx",
        "colab_type": "code",
        "colab": {
          "base_uri": "https://localhost:8080/",
          "height": 34
        },
        "outputId": "7055a01a-d100-4b84-81c2-d197c8310458"
      },
      "source": [
        "X_test.shape"
      ],
      "execution_count": 25,
      "outputs": [
        {
          "output_type": "execute_result",
          "data": {
            "text/plain": [
              "(251, 7)"
            ]
          },
          "metadata": {
            "tags": []
          },
          "execution_count": 25
        }
      ]
    },
    {
      "cell_type": "code",
      "metadata": {
        "id": "DjKNiuYCILMB",
        "colab_type": "code",
        "colab": {}
      },
      "source": [
        "# number of records , time steps,Features\n",
        "X_train_sc = X_train_sc.values.reshape(1000,7,1)\n",
        "X_test_sc = X_test_sc.values.reshape(251,7,1)"
      ],
      "execution_count": 26,
      "outputs": []
    },
    {
      "cell_type": "code",
      "metadata": {
        "id": "dvhvPxfCIOFC",
        "colab_type": "code",
        "colab": {
          "base_uri": "https://localhost:8080/",
          "height": 1000
        },
        "outputId": "30390633-1c79-4c5f-e7a0-373b566e9698"
      },
      "source": [
        "history = model.fit(X_train_sc,y_train,epochs=100,validation_data=(X_test_sc,y_test))"
      ],
      "execution_count": 27,
      "outputs": [
        {
          "output_type": "stream",
          "text": [
            "Train on 1000 samples, validate on 251 samples\n",
            "Epoch 1/100\n",
            "1000/1000 [==============================] - 2s 2ms/step - loss: 17790.5229 - val_loss: 11704.0702\n",
            "Epoch 2/100\n",
            "1000/1000 [==============================] - 1s 1ms/step - loss: 12737.8308 - val_loss: 7329.6459\n",
            "Epoch 3/100\n",
            "1000/1000 [==============================] - 1s 1ms/step - loss: 10372.2965 - val_loss: 5895.0834\n",
            "Epoch 4/100\n",
            "1000/1000 [==============================] - 1s 1ms/step - loss: 8759.9678 - val_loss: 4762.8806\n",
            "Epoch 5/100\n",
            "1000/1000 [==============================] - 1s 1ms/step - loss: 7428.6669 - val_loss: 3843.0118\n",
            "Epoch 6/100\n",
            "1000/1000 [==============================] - 1s 1ms/step - loss: 6306.0054 - val_loss: 3088.4037\n",
            "Epoch 7/100\n",
            "1000/1000 [==============================] - 1s 1ms/step - loss: 5355.4282 - val_loss: 2474.5994\n",
            "Epoch 8/100\n",
            "1000/1000 [==============================] - 1s 997us/step - loss: 4555.8377 - val_loss: 1982.7042\n",
            "Epoch 9/100\n",
            "1000/1000 [==============================] - 1s 1ms/step - loss: 3885.0000 - val_loss: 1593.8966\n",
            "Epoch 10/100\n",
            "1000/1000 [==============================] - 1s 999us/step - loss: 3322.6929 - val_loss: 1286.5332\n",
            "Epoch 11/100\n",
            "1000/1000 [==============================] - 1s 1ms/step - loss: 2850.4471 - val_loss: 1049.8153\n",
            "Epoch 12/100\n",
            "1000/1000 [==============================] - 1s 997us/step - loss: 2462.6228 - val_loss: 878.0394\n",
            "Epoch 13/100\n",
            "1000/1000 [==============================] - 1s 999us/step - loss: 2143.9883 - val_loss: 755.2406\n",
            "Epoch 14/100\n",
            "1000/1000 [==============================] - 1s 1ms/step - loss: 1885.1558 - val_loss: 673.1921\n",
            "Epoch 15/100\n",
            "1000/1000 [==============================] - 1s 1ms/step - loss: 1675.6120 - val_loss: 624.7682\n",
            "Epoch 16/100\n",
            "1000/1000 [==============================] - 1s 997us/step - loss: 1511.3810 - val_loss: 602.6214\n",
            "Epoch 17/100\n",
            "1000/1000 [==============================] - 1s 1ms/step - loss: 1382.9997 - val_loss: 599.2255\n",
            "Epoch 18/100\n",
            "1000/1000 [==============================] - 1s 1ms/step - loss: 1284.2559 - val_loss: 609.8209\n",
            "Epoch 19/100\n",
            "1000/1000 [==============================] - 1s 1ms/step - loss: 1205.5652 - val_loss: 629.4234\n",
            "Epoch 20/100\n",
            "1000/1000 [==============================] - 1s 1ms/step - loss: 1146.4880 - val_loss: 655.9509\n",
            "Epoch 21/100\n",
            "1000/1000 [==============================] - 1s 988us/step - loss: 1102.8149 - val_loss: 686.0480\n",
            "Epoch 22/100\n",
            "1000/1000 [==============================] - 1s 1ms/step - loss: 1068.1910 - val_loss: 717.8996\n",
            "Epoch 23/100\n",
            "1000/1000 [==============================] - 1s 1ms/step - loss: 1042.5682 - val_loss: 747.5051\n",
            "Epoch 24/100\n",
            "1000/1000 [==============================] - 1s 996us/step - loss: 1025.3874 - val_loss: 777.4657\n",
            "Epoch 25/100\n",
            "1000/1000 [==============================] - 1s 1ms/step - loss: 1009.1632 - val_loss: 783.1502\n",
            "Epoch 26/100\n",
            "1000/1000 [==============================] - 1s 1ms/step - loss: 982.6406 - val_loss: 745.0757\n",
            "Epoch 27/100\n",
            "1000/1000 [==============================] - 1s 1ms/step - loss: 672.6259 - val_loss: 139.2707\n",
            "Epoch 28/100\n",
            "1000/1000 [==============================] - 1s 994us/step - loss: 432.4433 - val_loss: 111.5181\n",
            "Epoch 29/100\n",
            "1000/1000 [==============================] - 1s 1ms/step - loss: 362.7672 - val_loss: 86.7756\n",
            "Epoch 30/100\n",
            "1000/1000 [==============================] - 1s 1ms/step - loss: 308.8478 - val_loss: 82.0949\n",
            "Epoch 31/100\n",
            "1000/1000 [==============================] - 1s 1ms/step - loss: 264.9564 - val_loss: 67.4624\n",
            "Epoch 32/100\n",
            "1000/1000 [==============================] - 1s 1ms/step - loss: 228.8950 - val_loss: 62.7689\n",
            "Epoch 33/100\n",
            "1000/1000 [==============================] - 1s 1ms/step - loss: 200.9486 - val_loss: 52.6957\n",
            "Epoch 34/100\n",
            "1000/1000 [==============================] - 1s 1ms/step - loss: 179.1977 - val_loss: 53.2035\n",
            "Epoch 35/100\n",
            "1000/1000 [==============================] - 1s 1ms/step - loss: 158.9678 - val_loss: 56.3768\n",
            "Epoch 36/100\n",
            "1000/1000 [==============================] - 1s 1ms/step - loss: 144.9166 - val_loss: 55.6501\n",
            "Epoch 37/100\n",
            "1000/1000 [==============================] - 1s 1ms/step - loss: 131.2356 - val_loss: 57.4612\n",
            "Epoch 38/100\n",
            "1000/1000 [==============================] - 1s 1ms/step - loss: 120.8076 - val_loss: 50.3641\n",
            "Epoch 39/100\n",
            "1000/1000 [==============================] - 1s 1ms/step - loss: 112.1498 - val_loss: 47.4624\n",
            "Epoch 40/100\n",
            "1000/1000 [==============================] - 1s 1ms/step - loss: 104.2519 - val_loss: 46.9760\n",
            "Epoch 41/100\n",
            "1000/1000 [==============================] - 1s 1ms/step - loss: 97.6215 - val_loss: 47.9427\n",
            "Epoch 42/100\n",
            "1000/1000 [==============================] - 1s 995us/step - loss: 91.5128 - val_loss: 43.2771\n",
            "Epoch 43/100\n",
            "1000/1000 [==============================] - 1s 1ms/step - loss: 86.0598 - val_loss: 48.8241\n",
            "Epoch 44/100\n",
            "1000/1000 [==============================] - 1s 1ms/step - loss: 82.4034 - val_loss: 45.9462\n",
            "Epoch 45/100\n",
            "1000/1000 [==============================] - 1s 1ms/step - loss: 78.5840 - val_loss: 50.1375\n",
            "Epoch 46/100\n",
            "1000/1000 [==============================] - 1s 1ms/step - loss: 74.7174 - val_loss: 42.4207\n",
            "Epoch 47/100\n",
            "1000/1000 [==============================] - 1s 1ms/step - loss: 70.3608 - val_loss: 44.7401\n",
            "Epoch 48/100\n",
            "1000/1000 [==============================] - 1s 1ms/step - loss: 68.1230 - val_loss: 38.9428\n",
            "Epoch 49/100\n",
            "1000/1000 [==============================] - 1s 1ms/step - loss: 65.1503 - val_loss: 38.0014\n",
            "Epoch 50/100\n",
            "1000/1000 [==============================] - 1s 1ms/step - loss: 61.5015 - val_loss: 40.5604\n",
            "Epoch 51/100\n",
            "1000/1000 [==============================] - 1s 1ms/step - loss: 58.8601 - val_loss: 40.5205\n",
            "Epoch 52/100\n",
            "1000/1000 [==============================] - 1s 1ms/step - loss: 56.3953 - val_loss: 45.0359\n",
            "Epoch 53/100\n",
            "1000/1000 [==============================] - 1s 1ms/step - loss: 55.8549 - val_loss: 56.3896\n",
            "Epoch 54/100\n",
            "1000/1000 [==============================] - 1s 1ms/step - loss: 55.0781 - val_loss: 41.7675\n",
            "Epoch 55/100\n",
            "1000/1000 [==============================] - 1s 1ms/step - loss: 51.0291 - val_loss: 45.5915\n",
            "Epoch 56/100\n",
            "1000/1000 [==============================] - 1s 1ms/step - loss: 49.8900 - val_loss: 42.1663\n",
            "Epoch 57/100\n",
            "1000/1000 [==============================] - 1s 1ms/step - loss: 48.3316 - val_loss: 39.6164\n",
            "Epoch 58/100\n",
            "1000/1000 [==============================] - 1s 1ms/step - loss: 47.6789 - val_loss: 38.6993\n",
            "Epoch 59/100\n",
            "1000/1000 [==============================] - 1s 1ms/step - loss: 45.7057 - val_loss: 39.8279\n",
            "Epoch 60/100\n",
            "1000/1000 [==============================] - 1s 1ms/step - loss: 44.2656 - val_loss: 45.9489\n",
            "Epoch 61/100\n",
            "1000/1000 [==============================] - 1s 1ms/step - loss: 43.3512 - val_loss: 40.5926\n",
            "Epoch 62/100\n",
            "1000/1000 [==============================] - 1s 1ms/step - loss: 43.9992 - val_loss: 36.3274\n",
            "Epoch 63/100\n",
            "1000/1000 [==============================] - 1s 1ms/step - loss: 41.2350 - val_loss: 42.0290\n",
            "Epoch 64/100\n",
            "1000/1000 [==============================] - 1s 1ms/step - loss: 39.9863 - val_loss: 39.9583\n",
            "Epoch 65/100\n",
            "1000/1000 [==============================] - 1s 1ms/step - loss: 39.2337 - val_loss: 36.8632\n",
            "Epoch 66/100\n",
            "1000/1000 [==============================] - 1s 1ms/step - loss: 37.6182 - val_loss: 39.9452\n",
            "Epoch 67/100\n",
            "1000/1000 [==============================] - 1s 1ms/step - loss: 36.9619 - val_loss: 42.7690\n",
            "Epoch 68/100\n",
            "1000/1000 [==============================] - 1s 999us/step - loss: 36.5185 - val_loss: 50.1821\n",
            "Epoch 69/100\n",
            "1000/1000 [==============================] - 1s 997us/step - loss: 37.0627 - val_loss: 36.5388\n",
            "Epoch 70/100\n",
            "1000/1000 [==============================] - 1s 1ms/step - loss: 37.3701 - val_loss: 39.6855\n",
            "Epoch 71/100\n",
            "1000/1000 [==============================] - 1s 994us/step - loss: 35.8086 - val_loss: 34.1265\n",
            "Epoch 72/100\n",
            "1000/1000 [==============================] - 1s 1ms/step - loss: 34.2182 - val_loss: 34.7966\n",
            "Epoch 73/100\n",
            "1000/1000 [==============================] - 1s 1ms/step - loss: 35.3906 - val_loss: 37.1891\n",
            "Epoch 74/100\n",
            "1000/1000 [==============================] - 1s 1ms/step - loss: 33.3032 - val_loss: 34.8007\n",
            "Epoch 75/100\n",
            "1000/1000 [==============================] - 1s 986us/step - loss: 32.7515 - val_loss: 43.9206\n",
            "Epoch 76/100\n",
            "1000/1000 [==============================] - 1s 1ms/step - loss: 31.7327 - val_loss: 34.8319\n",
            "Epoch 77/100\n",
            "1000/1000 [==============================] - 1s 1ms/step - loss: 32.3090 - val_loss: 52.0298\n",
            "Epoch 78/100\n",
            "1000/1000 [==============================] - 1s 1ms/step - loss: 32.2638 - val_loss: 37.5409\n",
            "Epoch 79/100\n",
            "1000/1000 [==============================] - 1s 1ms/step - loss: 30.6907 - val_loss: 36.9629\n",
            "Epoch 80/100\n",
            "1000/1000 [==============================] - 1s 988us/step - loss: 30.7236 - val_loss: 32.8432\n",
            "Epoch 81/100\n",
            "1000/1000 [==============================] - 1s 1ms/step - loss: 29.8443 - val_loss: 41.8378\n",
            "Epoch 82/100\n",
            "1000/1000 [==============================] - 1s 1ms/step - loss: 30.0141 - val_loss: 34.3552\n",
            "Epoch 83/100\n",
            "1000/1000 [==============================] - 1s 961us/step - loss: 29.8717 - val_loss: 33.0893\n",
            "Epoch 84/100\n",
            "1000/1000 [==============================] - 1s 1ms/step - loss: 29.6565 - val_loss: 35.2778\n",
            "Epoch 85/100\n",
            "1000/1000 [==============================] - 1s 1ms/step - loss: 29.0792 - val_loss: 30.1342\n",
            "Epoch 86/100\n",
            "1000/1000 [==============================] - 1s 999us/step - loss: 27.8998 - val_loss: 35.0255\n",
            "Epoch 87/100\n",
            "1000/1000 [==============================] - 1s 1ms/step - loss: 28.0224 - val_loss: 34.3063\n",
            "Epoch 88/100\n",
            "1000/1000 [==============================] - 1s 1000us/step - loss: 27.9938 - val_loss: 32.8368\n",
            "Epoch 89/100\n",
            "1000/1000 [==============================] - 1s 1ms/step - loss: 31.0399 - val_loss: 40.1833\n",
            "Epoch 90/100\n",
            "1000/1000 [==============================] - 1s 1ms/step - loss: 30.5390 - val_loss: 35.3728\n",
            "Epoch 91/100\n",
            "1000/1000 [==============================] - 1s 1ms/step - loss: 26.4963 - val_loss: 28.6531\n",
            "Epoch 92/100\n",
            "1000/1000 [==============================] - 1s 1ms/step - loss: 26.3456 - val_loss: 27.3887\n",
            "Epoch 93/100\n",
            "1000/1000 [==============================] - 1s 1ms/step - loss: 25.1761 - val_loss: 28.9839\n",
            "Epoch 94/100\n",
            "1000/1000 [==============================] - 1s 1000us/step - loss: 25.9066 - val_loss: 29.9603\n",
            "Epoch 95/100\n",
            "1000/1000 [==============================] - 1s 1ms/step - loss: 25.3246 - val_loss: 34.1235\n",
            "Epoch 96/100\n",
            "1000/1000 [==============================] - 1s 1ms/step - loss: 24.7236 - val_loss: 32.5948\n",
            "Epoch 97/100\n",
            "1000/1000 [==============================] - 1s 1000us/step - loss: 25.2489 - val_loss: 26.2553\n",
            "Epoch 98/100\n",
            "1000/1000 [==============================] - 1s 981us/step - loss: 23.7797 - val_loss: 22.9818\n",
            "Epoch 99/100\n",
            "1000/1000 [==============================] - 1s 1ms/step - loss: 24.5687 - val_loss: 39.4387\n",
            "Epoch 100/100\n",
            "1000/1000 [==============================] - 1s 1ms/step - loss: 24.6376 - val_loss: 25.2655\n"
          ],
          "name": "stdout"
        }
      ]
    },
    {
      "cell_type": "code",
      "metadata": {
        "id": "Exf2miqZIS7M",
        "colab_type": "code",
        "colab": {
          "base_uri": "https://localhost:8080/",
          "height": 282
        },
        "outputId": "5c9f0ab5-d125-4c99-c3b6-a366c64b1773"
      },
      "source": [
        "tr_loss = history.history['loss']\n",
        "val_loss = history.history['val_loss']\n",
        "ep = list(range(1,101))\n",
        "plt.plot(ep,tr_loss,color='r')\n",
        "plt.plot(ep,val_loss,color='b')"
      ],
      "execution_count": 28,
      "outputs": [
        {
          "output_type": "execute_result",
          "data": {
            "text/plain": [
              "[<matplotlib.lines.Line2D at 0x7f6dd0f015f8>]"
            ]
          },
          "metadata": {
            "tags": []
          },
          "execution_count": 28
        },
        {
          "output_type": "display_data",
          "data": {
            "image/png": "[encoded data removed]",
            "text/plain": [
              "<Figure size 432x288 with 1 Axes>"
            ]
          },
          "metadata": {
            "tags": [],
            "needs_background": "light"
          }
        }
      ]
    },
    {
      "cell_type": "code",
      "metadata": {
        "id": "XbRac-DfIVxf",
        "colab_type": "code",
        "colab": {
          "base_uri": "https://localhost:8080/",
          "height": 1000
        },
        "outputId": "44ad9550-1a6b-4791-8659-9cc56d01a96f"
      },
      "source": [
        "model.predict(X_test_sc)"
      ],
      "execution_count": 29,
      "outputs": [
        {
          "output_type": "execute_result",
          "data": {
            "text/plain": [
              "array([[160.61458 ],\n",
              "       [160.43468 ],\n",
              "       [160.29776 ],\n",
              "       [159.92383 ],\n",
              "       [160.10783 ],\n",
              "       [161.26355 ],\n",
              "       [162.17186 ],\n",
              "       [162.14687 ],\n",
              "       [161.87276 ],\n",
              "       [161.74411 ],\n",
              "       [161.15956 ],\n",
              "       [160.22113 ],\n",
              "       [159.50221 ],\n",
              "       [158.76805 ],\n",
              "       [157.80542 ],\n",
              "       [156.90196 ],\n",
              "       [156.39928 ],\n",
              "       [156.0684  ],\n",
              "       [155.85387 ],\n",
              "       [155.59149 ],\n",
              "       [155.23656 ],\n",
              "       [154.50468 ],\n",
              "       [153.79015 ],\n",
              "       [153.76845 ],\n",
              "       [154.12546 ],\n",
              "       [154.12967 ],\n",
              "       [153.8803  ],\n",
              "       [153.58583 ],\n",
              "       [153.28197 ],\n",
              "       [152.97179 ],\n",
              "       [152.70815 ],\n",
              "       [152.36165 ],\n",
              "       [151.91652 ],\n",
              "       [151.42635 ],\n",
              "       [150.99806 ],\n",
              "       [150.49    ],\n",
              "       [149.81544 ],\n",
              "       [149.48376 ],\n",
              "       [149.47607 ],\n",
              "       [149.24158 ],\n",
              "       [148.49492 ],\n",
              "       [147.20815 ],\n",
              "       [145.67195 ],\n",
              "       [144.62517 ],\n",
              "       [144.27553 ],\n",
              "       [144.15033 ],\n",
              "       [144.18639 ],\n",
              "       [144.17113 ],\n",
              "       [143.7137  ],\n",
              "       [143.12108 ],\n",
              "       [143.08838 ],\n",
              "       [143.6682  ],\n",
              "       [144.95229 ],\n",
              "       [146.52083 ],\n",
              "       [147.59262 ],\n",
              "       [147.70021 ],\n",
              "       [147.17336 ],\n",
              "       [146.33743 ],\n",
              "       [145.31508 ],\n",
              "       [144.21327 ],\n",
              "       [143.65337 ],\n",
              "       [144.01843 ],\n",
              "       [144.96806 ],\n",
              "       [145.94044 ],\n",
              "       [146.71294 ],\n",
              "       [147.32426 ],\n",
              "       [147.49268 ],\n",
              "       [147.4262  ],\n",
              "       [147.17757 ],\n",
              "       [146.92424 ],\n",
              "       [146.9875  ],\n",
              "       [147.25569 ],\n",
              "       [147.56688 ],\n",
              "       [148.22977 ],\n",
              "       [148.47415 ],\n",
              "       [146.97035 ],\n",
              "       [143.19618 ],\n",
              "       [137.89345 ],\n",
              "       [134.70009 ],\n",
              "       [134.62776 ],\n",
              "       [135.31425 ],\n",
              "       [136.16588 ],\n",
              "       [137.09294 ],\n",
              "       [137.34737 ],\n",
              "       [135.73026 ],\n",
              "       [133.29567 ],\n",
              "       [131.17162 ],\n",
              "       [129.89989 ],\n",
              "       [130.1668  ],\n",
              "       [131.30075 ],\n",
              "       [132.07407 ],\n",
              "       [132.07454 ],\n",
              "       [131.41512 ],\n",
              "       [130.26442 ],\n",
              "       [128.36076 ],\n",
              "       [125.62262 ],\n",
              "       [123.44864 ],\n",
              "       [122.40647 ],\n",
              "       [122.019165],\n",
              "       [121.90201 ],\n",
              "       [121.06799 ],\n",
              "       [119.76559 ],\n",
              "       [118.19914 ],\n",
              "       [116.74457 ],\n",
              "       [113.69145 ],\n",
              "       [109.397675],\n",
              "       [105.57854 ],\n",
              "       [102.96852 ],\n",
              "       [101.53098 ],\n",
              "       [101.34873 ],\n",
              "       [101.7121  ],\n",
              "       [101.92939 ],\n",
              "       [101.82916 ],\n",
              "       [101.60805 ],\n",
              "       [101.71973 ],\n",
              "       [102.37109 ],\n",
              "       [103.47298 ],\n",
              "       [104.41502 ],\n",
              "       [105.54043 ],\n",
              "       [106.94626 ],\n",
              "       [108.76361 ],\n",
              "       [110.671295],\n",
              "       [112.344574],\n",
              "       [113.629135],\n",
              "       [114.32414 ],\n",
              "       [113.94985 ],\n",
              "       [113.03929 ],\n",
              "       [112.060265],\n",
              "       [111.036285],\n",
              "       [110.221146],\n",
              "       [109.45995 ],\n",
              "       [107.52585 ],\n",
              "       [105.11496 ],\n",
              "       [100.1232  ],\n",
              "       [ 95.184555],\n",
              "       [ 92.892715],\n",
              "       [ 92.43034 ],\n",
              "       [ 93.136406],\n",
              "       [ 93.604996],\n",
              "       [ 93.689445],\n",
              "       [ 93.57057 ],\n",
              "       [ 93.70686 ],\n",
              "       [ 94.05559 ],\n",
              "       [ 94.655525],\n",
              "       [ 95.47619 ],\n",
              "       [ 96.17958 ],\n",
              "       [ 96.59444 ],\n",
              "       [ 96.30753 ],\n",
              "       [ 95.48949 ],\n",
              "       [ 94.47717 ],\n",
              "       [ 93.97738 ],\n",
              "       [ 94.37486 ],\n",
              "       [ 95.60445 ],\n",
              "       [ 97.26352 ],\n",
              "       [ 98.49141 ],\n",
              "       [ 98.73013 ],\n",
              "       [ 98.041   ],\n",
              "       [ 96.556046],\n",
              "       [ 95.193855],\n",
              "       [ 94.52557 ],\n",
              "       [ 94.69745 ],\n",
              "       [ 95.71028 ],\n",
              "       [ 96.82267 ],\n",
              "       [ 97.84719 ],\n",
              "       [ 98.54738 ],\n",
              "       [ 98.8466  ],\n",
              "       [ 98.63945 ],\n",
              "       [ 97.89842 ],\n",
              "       [ 96.54578 ],\n",
              "       [ 94.88997 ],\n",
              "       [ 93.471924],\n",
              "       [ 92.01138 ],\n",
              "       [ 90.64685 ],\n",
              "       [ 89.146164],\n",
              "       [ 87.57978 ],\n",
              "       [ 86.5432  ],\n",
              "       [ 86.08115 ],\n",
              "       [ 86.22223 ],\n",
              "       [ 86.514854],\n",
              "       [ 86.51488 ],\n",
              "       [ 86.1277  ],\n",
              "       [ 85.4158  ],\n",
              "       [ 84.81024 ],\n",
              "       [ 84.16316 ],\n",
              "       [ 83.699905],\n",
              "       [ 83.15222 ],\n",
              "       [ 82.5915  ],\n",
              "       [ 82.158905],\n",
              "       [ 81.79286 ],\n",
              "       [ 81.76628 ],\n",
              "       [ 81.598305],\n",
              "       [ 81.30558 ],\n",
              "       [ 80.99748 ],\n",
              "       [ 80.79008 ],\n",
              "       [ 80.95264 ],\n",
              "       [ 82.362595],\n",
              "       [ 84.41328 ],\n",
              "       [ 87.2322  ],\n",
              "       [ 89.28067 ],\n",
              "       [ 90.18651 ],\n",
              "       [ 90.058075],\n",
              "       [ 89.35819 ],\n",
              "       [ 89.01402 ],\n",
              "       [ 88.82132 ],\n",
              "       [ 88.98474 ],\n",
              "       [ 89.96678 ],\n",
              "       [ 92.08841 ],\n",
              "       [ 94.92521 ],\n",
              "       [ 97.89363 ],\n",
              "       [ 99.84918 ],\n",
              "       [100.891304],\n",
              "       [100.77982 ],\n",
              "       [ 99.89877 ],\n",
              "       [ 99.17412 ],\n",
              "       [ 99.31161 ],\n",
              "       [100.13206 ],\n",
              "       [101.14333 ],\n",
              "       [101.71852 ],\n",
              "       [101.676315],\n",
              "       [101.34285 ],\n",
              "       [101.064804],\n",
              "       [100.59532 ],\n",
              "       [100.0388  ],\n",
              "       [ 99.93417 ],\n",
              "       [100.071335],\n",
              "       [100.37851 ],\n",
              "       [100.38132 ],\n",
              "       [100.55769 ],\n",
              "       [101.31371 ],\n",
              "       [103.41264 ],\n",
              "       [106.24026 ],\n",
              "       [109.01916 ],\n",
              "       [111.154015],\n",
              "       [112.16817 ],\n",
              "       [112.52536 ],\n",
              "       [112.84631 ],\n",
              "       [113.50286 ],\n",
              "       [114.71125 ],\n",
              "       [115.67997 ],\n",
              "       [116.36389 ],\n",
              "       [116.999664],\n",
              "       [117.75108 ],\n",
              "       [118.76511 ],\n",
              "       [119.83287 ],\n",
              "       [121.05516 ],\n",
              "       [122.125626],\n",
              "       [122.90704 ],\n",
              "       [123.18619 ],\n",
              "       [122.51179 ],\n",
              "       [120.90958 ],\n",
              "       [119.09193 ]], dtype=float32)"
            ]
          },
          "metadata": {
            "tags": []
          },
          "execution_count": 29
        }
      ]
    },
    {
      "cell_type": "code",
      "metadata": {
        "id": "2c3OelS0IX9Q",
        "colab_type": "code",
        "colab": {
          "base_uri": "https://localhost:8080/",
          "height": 282
        },
        "outputId": "d2418d60-bcd1-4337-ed8a-3cb015db21b3"
      },
      "source": [
        "plt.plot(range(len(X_test_sc)),model.predict(X_test_sc).flat)\n",
        "plt.plot(range(len(X_test_sc)),y_test)"
      ],
      "execution_count": 30,
      "outputs": [
        {
          "output_type": "execute_result",
          "data": {
            "text/plain": [
              "[<matplotlib.lines.Line2D at 0x7f6dd0128908>]"
            ]
          },
          "metadata": {
            "tags": []
          },
          "execution_count": 30
        },
        {
          "output_type": "display_data",
          "data": {
            "image/png": "[encoded data removed]",
            "text/plain": [
              "<Figure size 432x288 with 1 Axes>"
            ]
          },
          "metadata": {
            "tags": [],
            "needs_background": "light"
          }
        }
      ]
    },
    {
      "cell_type": "markdown",
      "metadata": {
        "id": "QZ3EDCRUIe2M",
        "colab_type": "text"
      },
      "source": [
        "### Reshape the inputs"
      ]
    },
    {
      "cell_type": "code",
      "metadata": {
        "id": "O5Dx-qpdIfYe",
        "colab_type": "code",
        "colab": {
          "base_uri": "https://localhost:8080/",
          "height": 136
        },
        "outputId": "d4f3a3bf-5be9-4015-e35d-95656a4d9dc5"
      },
      "source": [
        "X_test_sc[0].reshape(1,7,1)"
      ],
      "execution_count": 31,
      "outputs": [
        {
          "output_type": "execute_result",
          "data": {
            "text/plain": [
              "array([[[0.9024883 ],\n",
              "        [0.88855397],\n",
              "        [0.77141492],\n",
              "        [0.82535467],\n",
              "        [0.83681087],\n",
              "        [0.75642114],\n",
              "        [0.72018917]]])"
            ]
          },
          "metadata": {
            "tags": []
          },
          "execution_count": 31
        }
      ]
    },
    {
      "cell_type": "code",
      "metadata": {
        "id": "tEMIuydkIjLA",
        "colab_type": "code",
        "colab": {
          "base_uri": "https://localhost:8080/",
          "height": 34
        },
        "outputId": "ba85b83a-8ede-46e2-f8ce-ebc37726931f"
      },
      "source": [
        "model.predict(X_test_sc[0].reshape(1,7,1))"
      ],
      "execution_count": 32,
      "outputs": [
        {
          "output_type": "execute_result",
          "data": {
            "text/plain": [
              "array([[160.61458]], dtype=float32)"
            ]
          },
          "metadata": {
            "tags": []
          },
          "execution_count": 32
        }
      ]
    },
    {
      "cell_type": "code",
      "metadata": {
        "id": "qRJIIaCbIni0",
        "colab_type": "code",
        "colab": {
          "base_uri": "https://localhost:8080/",
          "height": 34
        },
        "outputId": "6536bd44-7aaf-442d-c32d-4e4a44d7e67e"
      },
      "source": [
        "y_test[1000]"
      ],
      "execution_count": 33,
      "outputs": [
        {
          "output_type": "execute_result",
          "data": {
            "text/plain": [
              "162.73"
            ]
          },
          "metadata": {
            "tags": []
          },
          "execution_count": 33
        }
      ]
    },
    {
      "cell_type": "markdown",
      "metadata": {
        "id": "o6ijJZWRItpY",
        "colab_type": "text"
      },
      "source": [
        "### Create a Model"
      ]
    },
    {
      "cell_type": "code",
      "metadata": {
        "id": "7DpKMNYuIuGZ",
        "colab_type": "code",
        "colab": {
          "base_uri": "https://localhost:8080/",
          "height": 255
        },
        "outputId": "e4b37210-33e6-487a-905d-b59fbdefe901"
      },
      "source": [
        "from keras.models import Sequential\n",
        "from keras.layers import Dense,Dropout,LSTM\n",
        "model2 = Sequential()\n",
        "# 256 cels\n",
        "model2.add(LSTM(256,input_shape=(7,1)))\n",
        "model2.add(Dropout(0.3))\n",
        "# single neuron\n",
        "model2.add(Dense(1))\n",
        "model2.summary()"
      ],
      "execution_count": 34,
      "outputs": [
        {
          "output_type": "stream",
          "text": [
            "Model: \"sequential_2\"\n",
            "_________________________________________________________________\n",
            "Layer (type)                 Output Shape              Param #   \n",
            "=================================================================\n",
            "lstm_2 (LSTM)                (None, 256)               264192    \n",
            "_________________________________________________________________\n",
            "dropout_1 (Dropout)          (None, 256)               0         \n",
            "_________________________________________________________________\n",
            "dense_2 (Dense)              (None, 1)                 257       \n",
            "=================================================================\n",
            "Total params: 264,449\n",
            "Trainable params: 264,449\n",
            "Non-trainable params: 0\n",
            "_________________________________________________________________\n"
          ],
          "name": "stdout"
        }
      ]
    },
    {
      "cell_type": "markdown",
      "metadata": {
        "id": "YeZdCngPI4nq",
        "colab_type": "text"
      },
      "source": [
        "Compile the model with the proper optimizer and loss"
      ]
    },
    {
      "cell_type": "code",
      "metadata": {
        "id": "KvI97O9QI5LY",
        "colab_type": "code",
        "colab": {}
      },
      "source": [
        "model2.compile(optimizer='adam',loss='mse')"
      ],
      "execution_count": 35,
      "outputs": []
    },
    {
      "cell_type": "code",
      "metadata": {
        "id": "VA9JI7s8I95w",
        "colab_type": "code",
        "colab": {
          "base_uri": "https://localhost:8080/",
          "height": 1000
        },
        "outputId": "8f090c51-6390-4226-a64e-f36cd422913a"
      },
      "source": [
        "history2 = model2.fit(X_train_sc,y_train,epochs=100,validation_data=(X_test_sc,y_test))"
      ],
      "execution_count": 36,
      "outputs": [
        {
          "output_type": "stream",
          "text": [
            "Train on 1000 samples, validate on 251 samples\n",
            "Epoch 1/100\n",
            "1000/1000 [==============================] - 2s 2ms/step - loss: 17977.3962 - val_loss: 11710.9283\n",
            "Epoch 2/100\n",
            "1000/1000 [==============================] - 1s 1ms/step - loss: 12585.6627 - val_loss: 7211.4327\n",
            "Epoch 3/100\n",
            "1000/1000 [==============================] - 1s 1ms/step - loss: 10258.6468 - val_loss: 5812.2531\n",
            "Epoch 4/100\n",
            "1000/1000 [==============================] - 1s 1ms/step - loss: 8690.6722 - val_loss: 4712.0682\n",
            "Epoch 5/100\n",
            "1000/1000 [==============================] - 1s 1ms/step - loss: 7361.3802 - val_loss: 3813.7010\n",
            "Epoch 6/100\n",
            "1000/1000 [==============================] - 1s 1ms/step - loss: 6275.8408 - val_loss: 3083.8307\n",
            "Epoch 7/100\n",
            "1000/1000 [==============================] - 1s 1ms/step - loss: 5362.3578 - val_loss: 2483.2187\n",
            "Epoch 8/100\n",
            "1000/1000 [==============================] - 1s 1ms/step - loss: 4582.6026 - val_loss: 1994.6059\n",
            "Epoch 9/100\n",
            "1000/1000 [==============================] - 1s 1ms/step - loss: 3919.1211 - val_loss: 1609.2531\n",
            "Epoch 10/100\n",
            "1000/1000 [==============================] - 1s 1ms/step - loss: 3368.5729 - val_loss: 1305.5272\n",
            "Epoch 11/100\n",
            "1000/1000 [==============================] - 1s 1ms/step - loss: 2890.0444 - val_loss: 1069.0718\n",
            "Epoch 12/100\n",
            "1000/1000 [==============================] - 1s 1ms/step - loss: 2524.8638 - val_loss: 895.3524\n",
            "Epoch 13/100\n",
            "1000/1000 [==============================] - 1s 1ms/step - loss: 2201.3697 - val_loss: 771.0519\n",
            "Epoch 14/100\n",
            "1000/1000 [==============================] - 1s 1ms/step - loss: 1958.9174 - val_loss: 684.1619\n",
            "Epoch 15/100\n",
            "1000/1000 [==============================] - 1s 1ms/step - loss: 1752.4231 - val_loss: 633.0891\n",
            "Epoch 16/100\n",
            "1000/1000 [==============================] - 1s 1ms/step - loss: 1577.8228 - val_loss: 606.2650\n",
            "Epoch 17/100\n",
            "1000/1000 [==============================] - 1s 1ms/step - loss: 1432.8127 - val_loss: 598.6431\n",
            "Epoch 18/100\n",
            "1000/1000 [==============================] - 1s 1ms/step - loss: 1329.1791 - val_loss: 605.7250\n",
            "Epoch 19/100\n",
            "1000/1000 [==============================] - 1s 1ms/step - loss: 1252.5259 - val_loss: 624.2783\n",
            "Epoch 20/100\n",
            "1000/1000 [==============================] - 1s 1ms/step - loss: 1188.4420 - val_loss: 649.2426\n",
            "Epoch 21/100\n",
            "1000/1000 [==============================] - 1s 1ms/step - loss: 1144.4262 - val_loss: 677.9727\n",
            "Epoch 22/100\n",
            "1000/1000 [==============================] - 1s 1ms/step - loss: 1117.9985 - val_loss: 706.2361\n",
            "Epoch 23/100\n",
            "1000/1000 [==============================] - 1s 1ms/step - loss: 1080.4541 - val_loss: 734.4085\n",
            "Epoch 24/100\n",
            "1000/1000 [==============================] - 1s 1ms/step - loss: 1041.3105 - val_loss: 761.3798\n",
            "Epoch 25/100\n",
            "1000/1000 [==============================] - 1s 1ms/step - loss: 1054.6733 - val_loss: 775.7094\n",
            "Epoch 26/100\n",
            "1000/1000 [==============================] - 1s 1ms/step - loss: 993.5064 - val_loss: 542.7637\n",
            "Epoch 27/100\n",
            "1000/1000 [==============================] - 1s 1ms/step - loss: 559.8885 - val_loss: 145.0359\n",
            "Epoch 28/100\n",
            "1000/1000 [==============================] - 1s 1ms/step - loss: 455.1379 - val_loss: 106.3535\n",
            "Epoch 29/100\n",
            "1000/1000 [==============================] - 1s 1ms/step - loss: 385.1958 - val_loss: 88.5491\n",
            "Epoch 30/100\n",
            "1000/1000 [==============================] - 1s 1ms/step - loss: 341.2297 - val_loss: 73.7979\n",
            "Epoch 31/100\n",
            "1000/1000 [==============================] - 1s 1ms/step - loss: 296.2154 - val_loss: 64.5768\n",
            "Epoch 32/100\n",
            "1000/1000 [==============================] - 1s 1ms/step - loss: 256.8730 - val_loss: 64.1350\n",
            "Epoch 33/100\n",
            "1000/1000 [==============================] - 1s 1ms/step - loss: 237.2012 - val_loss: 56.6312\n",
            "Epoch 34/100\n",
            "1000/1000 [==============================] - 1s 1ms/step - loss: 192.0833 - val_loss: 60.8996\n",
            "Epoch 35/100\n",
            "1000/1000 [==============================] - 1s 1ms/step - loss: 198.4999 - val_loss: 54.2204\n",
            "Epoch 36/100\n",
            "1000/1000 [==============================] - 1s 1ms/step - loss: 172.6136 - val_loss: 55.7031\n",
            "Epoch 37/100\n",
            "1000/1000 [==============================] - 1s 1ms/step - loss: 164.0344 - val_loss: 58.9792\n",
            "Epoch 38/100\n",
            "1000/1000 [==============================] - 1s 1ms/step - loss: 157.2952 - val_loss: 67.7783\n",
            "Epoch 39/100\n",
            "1000/1000 [==============================] - 1s 1ms/step - loss: 144.0055 - val_loss: 58.0122\n",
            "Epoch 40/100\n",
            "1000/1000 [==============================] - 1s 1ms/step - loss: 144.6714 - val_loss: 55.6287\n",
            "Epoch 41/100\n",
            "1000/1000 [==============================] - 1s 1ms/step - loss: 139.0489 - val_loss: 47.0239\n",
            "Epoch 42/100\n",
            "1000/1000 [==============================] - 1s 1ms/step - loss: 126.3755 - val_loss: 58.2577\n",
            "Epoch 43/100\n",
            "1000/1000 [==============================] - 1s 1ms/step - loss: 117.2169 - val_loss: 57.5293\n",
            "Epoch 44/100\n",
            "1000/1000 [==============================] - 1s 1ms/step - loss: 113.5948 - val_loss: 48.9835\n",
            "Epoch 45/100\n",
            "1000/1000 [==============================] - 1s 1ms/step - loss: 119.0084 - val_loss: 45.4850\n",
            "Epoch 46/100\n",
            "1000/1000 [==============================] - 1s 1ms/step - loss: 107.1849 - val_loss: 47.2020\n",
            "Epoch 47/100\n",
            "1000/1000 [==============================] - 1s 1ms/step - loss: 104.3416 - val_loss: 50.8851\n",
            "Epoch 48/100\n",
            "1000/1000 [==============================] - 1s 1ms/step - loss: 105.4255 - val_loss: 51.3658\n",
            "Epoch 49/100\n",
            "1000/1000 [==============================] - 1s 1ms/step - loss: 95.3113 - val_loss: 46.2287\n",
            "Epoch 50/100\n",
            "1000/1000 [==============================] - 1s 1ms/step - loss: 92.1991 - val_loss: 65.7781\n",
            "Epoch 51/100\n",
            "1000/1000 [==============================] - 1s 1ms/step - loss: 102.6816 - val_loss: 53.5663\n",
            "Epoch 52/100\n",
            "1000/1000 [==============================] - 1s 1ms/step - loss: 92.7829 - val_loss: 48.7236\n",
            "Epoch 53/100\n",
            "1000/1000 [==============================] - 1s 1ms/step - loss: 99.0848 - val_loss: 41.8251\n",
            "Epoch 54/100\n",
            "1000/1000 [==============================] - 1s 1ms/step - loss: 91.0665 - val_loss: 49.2745\n",
            "Epoch 55/100\n",
            "1000/1000 [==============================] - 1s 1ms/step - loss: 91.2637 - val_loss: 46.1463\n",
            "Epoch 56/100\n",
            "1000/1000 [==============================] - 1s 1ms/step - loss: 84.3848 - val_loss: 41.5475\n",
            "Epoch 57/100\n",
            "1000/1000 [==============================] - 1s 1ms/step - loss: 89.5362 - val_loss: 43.4551\n",
            "Epoch 58/100\n",
            "1000/1000 [==============================] - 1s 1ms/step - loss: 86.7171 - val_loss: 43.8921\n",
            "Epoch 59/100\n",
            "1000/1000 [==============================] - 1s 1ms/step - loss: 83.0112 - val_loss: 41.9160\n",
            "Epoch 60/100\n",
            "1000/1000 [==============================] - 1s 1000us/step - loss: 89.8729 - val_loss: 45.4269\n",
            "Epoch 61/100\n",
            "1000/1000 [==============================] - 1s 1ms/step - loss: 87.1740 - val_loss: 40.7439\n",
            "Epoch 62/100\n",
            "1000/1000 [==============================] - 1s 1ms/step - loss: 79.4405 - val_loss: 45.7692\n",
            "Epoch 63/100\n",
            "1000/1000 [==============================] - 1s 1ms/step - loss: 74.9463 - val_loss: 46.9726\n",
            "Epoch 64/100\n",
            "1000/1000 [==============================] - 1s 1ms/step - loss: 83.1478 - val_loss: 41.9321\n",
            "Epoch 65/100\n",
            "1000/1000 [==============================] - 1s 1ms/step - loss: 79.7942 - val_loss: 51.4310\n",
            "Epoch 66/100\n",
            "1000/1000 [==============================] - 1s 1ms/step - loss: 81.5351 - val_loss: 50.6569\n",
            "Epoch 67/100\n",
            "1000/1000 [==============================] - 1s 1ms/step - loss: 74.0387 - val_loss: 49.3272\n",
            "Epoch 68/100\n",
            "1000/1000 [==============================] - 1s 1ms/step - loss: 83.2009 - val_loss: 40.2002\n",
            "Epoch 69/100\n",
            "1000/1000 [==============================] - 1s 1ms/step - loss: 77.4430 - val_loss: 47.1364\n",
            "Epoch 70/100\n",
            "1000/1000 [==============================] - 1s 1ms/step - loss: 73.9493 - val_loss: 45.1886\n",
            "Epoch 71/100\n",
            "1000/1000 [==============================] - 1s 1ms/step - loss: 75.3676 - val_loss: 35.6353\n",
            "Epoch 72/100\n",
            "1000/1000 [==============================] - 1s 1ms/step - loss: 74.9021 - val_loss: 42.0971\n",
            "Epoch 73/100\n",
            "1000/1000 [==============================] - 1s 1ms/step - loss: 70.9803 - val_loss: 40.4690\n",
            "Epoch 74/100\n",
            "1000/1000 [==============================] - 1s 1ms/step - loss: 74.2048 - val_loss: 48.4931\n",
            "Epoch 75/100\n",
            "1000/1000 [==============================] - 1s 1ms/step - loss: 69.6525 - val_loss: 34.4313\n",
            "Epoch 76/100\n",
            "1000/1000 [==============================] - 1s 1ms/step - loss: 69.7619 - val_loss: 42.3385\n",
            "Epoch 77/100\n",
            "1000/1000 [==============================] - 1s 1ms/step - loss: 71.1675 - val_loss: 43.6831\n",
            "Epoch 78/100\n",
            "1000/1000 [==============================] - 1s 1ms/step - loss: 75.2010 - val_loss: 31.8565\n",
            "Epoch 79/100\n",
            "1000/1000 [==============================] - 1s 1ms/step - loss: 75.9964 - val_loss: 35.1710\n",
            "Epoch 80/100\n",
            "1000/1000 [==============================] - 1s 1ms/step - loss: 70.8652 - val_loss: 37.3322\n",
            "Epoch 81/100\n",
            "1000/1000 [==============================] - 1s 1ms/step - loss: 69.9382 - val_loss: 34.2554\n",
            "Epoch 82/100\n",
            "1000/1000 [==============================] - 1s 1ms/step - loss: 66.5950 - val_loss: 34.8495\n",
            "Epoch 83/100\n",
            "1000/1000 [==============================] - 1s 1ms/step - loss: 67.1857 - val_loss: 40.7119\n",
            "Epoch 84/100\n",
            "1000/1000 [==============================] - 1s 1ms/step - loss: 68.4487 - val_loss: 51.4585\n",
            "Epoch 85/100\n",
            "1000/1000 [==============================] - 1s 1ms/step - loss: 67.0772 - val_loss: 43.9661\n",
            "Epoch 86/100\n",
            "1000/1000 [==============================] - 1s 1ms/step - loss: 70.8594 - val_loss: 32.9630\n",
            "Epoch 87/100\n",
            "1000/1000 [==============================] - 1s 1ms/step - loss: 74.0103 - val_loss: 44.9351\n",
            "Epoch 88/100\n",
            "1000/1000 [==============================] - 1s 1ms/step - loss: 70.9571 - val_loss: 34.1966\n",
            "Epoch 89/100\n",
            "1000/1000 [==============================] - 1s 1ms/step - loss: 71.6089 - val_loss: 57.5021\n",
            "Epoch 90/100\n",
            "1000/1000 [==============================] - 1s 1ms/step - loss: 70.3061 - val_loss: 37.4744\n",
            "Epoch 91/100\n",
            "1000/1000 [==============================] - 1s 1ms/step - loss: 68.3794 - val_loss: 37.3446\n",
            "Epoch 92/100\n",
            "1000/1000 [==============================] - 1s 1ms/step - loss: 70.7042 - val_loss: 29.8667\n",
            "Epoch 93/100\n",
            "1000/1000 [==============================] - 1s 1ms/step - loss: 73.9220 - val_loss: 37.3016\n",
            "Epoch 94/100\n",
            "1000/1000 [==============================] - 1s 1ms/step - loss: 68.0700 - val_loss: 30.2018\n",
            "Epoch 95/100\n",
            "1000/1000 [==============================] - 1s 1ms/step - loss: 67.2131 - val_loss: 29.8034\n",
            "Epoch 96/100\n",
            "1000/1000 [==============================] - 1s 1ms/step - loss: 71.9730 - val_loss: 44.9443\n",
            "Epoch 97/100\n",
            "1000/1000 [==============================] - 1s 1ms/step - loss: 64.9455 - val_loss: 38.0415\n",
            "Epoch 98/100\n",
            "1000/1000 [==============================] - 1s 1ms/step - loss: 69.8916 - val_loss: 31.3784\n",
            "Epoch 99/100\n",
            "1000/1000 [==============================] - 1s 1ms/step - loss: 69.8905 - val_loss: 40.2683\n",
            "Epoch 100/100\n",
            "1000/1000 [==============================] - 1s 1ms/step - loss: 63.3566 - val_loss: 48.3763\n"
          ],
          "name": "stdout"
        }
      ]
    },
    {
      "cell_type": "markdown",
      "metadata": {
        "id": "slGJViPxJGDP",
        "colab_type": "text"
      },
      "source": [
        "##Evaluate the model with test data"
      ]
    },
    {
      "cell_type": "code",
      "metadata": {
        "id": "RAZ8_06dJIh4",
        "colab_type": "code",
        "colab": {
          "base_uri": "https://localhost:8080/",
          "height": 282
        },
        "outputId": "47ce7f91-a823-4c30-a3bc-5101c34551cb"
      },
      "source": [
        "tr_loss = history2.history['loss']\n",
        "val_loss = history2.history['val_loss']\n",
        "ep = list(range(1,101))\n",
        "plt.plot(ep,tr_loss,color='r')\n",
        "plt.plot(ep,val_loss,color='b')"
      ],
      "execution_count": 37,
      "outputs": [
        {
          "output_type": "execute_result",
          "data": {
            "text/plain": [
              "[<matplotlib.lines.Line2D at 0x7f6dcfdd52e8>]"
            ]
          },
          "metadata": {
            "tags": []
          },
          "execution_count": 37
        },
        {
          "output_type": "display_data",
          "data": {
            "image/png": "[encoded data removed]",
            "text/plain": [
              "<Figure size 432x288 with 1 Axes>"
            ]
          },
          "metadata": {
            "tags": [],
            "needs_background": "light"
          }
        }
      ]
    },
    {
      "cell_type": "code",
      "metadata": {
        "id": "QJ30L_idJNdO",
        "colab_type": "code",
        "colab": {}
      },
      "source": [
        ""
      ],
      "execution_count": null,
      "outputs": []
    }
  ]
}