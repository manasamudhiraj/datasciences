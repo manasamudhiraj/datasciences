{
  "nbformat": 4,
  "nbformat_minor": 0,
  "metadata": {
    "colab": {
      "name": "assessment-4-(30-05-2020)",
      "provenance": []
    },
    "kernelspec": {
      "name": "python3",
      "display_name": "Python 3"
    }
  },
  "cells": [
    {
      "cell_type": "code",
      "metadata": {
        "id": "fjZowAdVTvUB",
        "colab_type": "code",
        "colab": {}
      },
      "source": [
        ""
      ],
      "execution_count": 0,
      "outputs": []
    },
    {
      "cell_type": "markdown",
      "metadata": {
        "id": "rzWMG266TxLS",
        "colab_type": "text"
      },
      "source": [
        "##CSE-221710313011-D.Manasa"
      ]
    },
    {
      "cell_type": "code",
      "metadata": {
        "id": "iMLNGarFT2_C",
        "colab_type": "code",
        "colab": {}
      },
      "source": [
        "f = open(\"sample.txt\",\"w\")\n",
        "f.write(\"Hello everyone\")\n",
        "f.close()\n"
      ],
      "execution_count": 0,
      "outputs": []
    },
    {
      "cell_type": "code",
      "metadata": {
        "id": "PmqF380rUNYu",
        "colab_type": "code",
        "colab": {}
      },
      "source": [
        "f=open(\"sample.txt\",\"a\")\n",
        "s=''' How are you doing?\n",
        "Stay safe please!!!'''\n",
        "f.write(s)\n",
        "f.close()"
      ],
      "execution_count": 0,
      "outputs": []
    },
    {
      "cell_type": "code",
      "metadata": {
        "id": "CFF9abvYUTK7",
        "colab_type": "code",
        "colab": {
          "base_uri": "https://localhost:8080/",
          "height": 68
        },
        "outputId": "f2dc6906-5be8-416f-f3d0-8b32b3f94a6e"
      },
      "source": [
        "#1. Count the no.of words,no.of letters,no.of lines available in your file\n",
        "file=open(\"sample.txt\",\"r\")\n",
        "c=file.read()\n",
        "list1=c.split(\"\\n\")\n",
        "list2=c.split()\n",
        "print(\"No.of lines in the file=\",len(list1))\n",
        "print(\"No.of words in the file=\",len(list2))\n",
        "print(\"No.of letters in the file=\",sum(len(word)for word in list2))"
      ],
      "execution_count": 3,
      "outputs": [
        {
          "output_type": "stream",
          "text": [
            "No.of lines in the file= 2\n",
            "No.of words in the file= 9\n",
            "No.of letters in the file= 45\n"
          ],
          "name": "stdout"
        }
      ]
    },
    {
      "cell_type": "code",
      "metadata": {
        "id": "6j7QauMaUfCt",
        "colab_type": "code",
        "colab": {}
      },
      "source": [
        "#2. Copy the content of one file to another\n",
        "with open(\"sample.txt\") as f:\n",
        "    with open(\"text.txt\",\"w\") as f1:\n",
        "        for line in f:\n",
        "            f1.write(line)"
      ],
      "execution_count": 0,
      "outputs": []
    },
    {
      "cell_type": "code",
      "metadata": {
        "id": "5NOuGPJZUmn8",
        "colab_type": "code",
        "colab": {
          "base_uri": "https://localhost:8080/",
          "height": 34
        },
        "outputId": "5d910f55-9f9c-4d17-bc3b-74bdc6b63eee"
      },
      "source": [
        "#3. Display the words starting with letter 'p'\n",
        "file=open(\"sample.txt\",\"r\")\n",
        "c=file.read()\n",
        "list1=c.split()\n",
        "for word in list1:\n",
        "    if word.startswith(\"p\"):\n",
        "        print(word)\n",
        "    continue"
      ],
      "execution_count": 5,
      "outputs": [
        {
          "output_type": "stream",
          "text": [
            "please!!!\n"
          ],
          "name": "stdout"
        }
      ]
    },
    {
      "cell_type": "code",
      "metadata": {
        "id": "-o4rFsimUyLp",
        "colab_type": "code",
        "colab": {}
      },
      "source": [
        "#4. Rename files\n",
        "import os\n",
        "os.rename(\"text.txt\",\"text1.txt\")"
      ],
      "execution_count": 0,
      "outputs": []
    },
    {
      "cell_type": "code",
      "metadata": {
        "id": "JbYBmix8VAXQ",
        "colab_type": "code",
        "colab": {}
      },
      "source": [
        "f = open(\"sample3.txt\",\"w\")\n",
        "f.write(\"Hello everyone\")\n",
        "f.close()"
      ],
      "execution_count": 0,
      "outputs": []
    },
    {
      "cell_type": "code",
      "metadata": {
        "id": "I3mKVOy9VP7c",
        "colab_type": "code",
        "colab": {}
      },
      "source": [
        "#4.Remove file\n",
        "import os\n",
        "os.remove(\"sample3.txt\")"
      ],
      "execution_count": 0,
      "outputs": []
    },
    {
      "cell_type": "code",
      "metadata": {
        "id": "VAIIJKo-VVK-",
        "colab_type": "code",
        "colab": {
          "base_uri": "https://localhost:8080/",
          "height": 119
        },
        "outputId": "107a7507-a97c-40c3-c7ab-ce25d3992103"
      },
      "source": [
        "#6.sum of list elements\n",
        "x=[]\n",
        "n=int(input(\"enter no. of elements in list:\"))\n",
        "for i in range(0,n):\n",
        "    element=int(input())\n",
        "    x.append(element)\n",
        "print(\"the list is:\",x)\n",
        "s=0\n",
        "for i in range(0,len(x)):\n",
        "    s=s+x[i]\n",
        "print(\"sum is:\",s)"
      ],
      "execution_count": 11,
      "outputs": [
        {
          "output_type": "stream",
          "text": [
            "enter no. of elements in list:3\n",
            "2\n",
            "6\n",
            "8\n",
            "the list is: [2, 6, 8]\n",
            "sum is: 16\n"
          ],
          "name": "stdout"
        }
      ]
    },
    {
      "cell_type": "code",
      "metadata": {
        "id": "4ofFehH7VdAj",
        "colab_type": "code",
        "colab": {
          "base_uri": "https://localhost:8080/",
          "height": 153
        },
        "outputId": "8a150320-abc4-4a2d-825a-427ed43b6368"
      },
      "source": [
        "#7.even numbers from the list\n",
        "x=[]\n",
        "n=int(input(\"enter no. of elements in list:\"))\n",
        "for i in range(0,n):\n",
        "    element=int(input())\n",
        "    x.append(element)\n",
        "print(\"the list is:\",x)\n",
        "print(\"the even numbers in list are:\")\n",
        "for i in range(0,len(x)):\n",
        "    if(x[i]%2==0):\n",
        "        print(x[i])"
      ],
      "execution_count": 12,
      "outputs": [
        {
          "output_type": "stream",
          "text": [
            "enter no. of elements in list:3\n",
            "2\n",
            "5\n",
            "8\n",
            "the list is: [2, 5, 8]\n",
            "the even numbers in list are:\n",
            "2\n",
            "8\n"
          ],
          "name": "stdout"
        }
      ]
    },
    {
      "cell_type": "code",
      "metadata": {
        "id": "niMSnn1hV0yd",
        "colab_type": "code",
        "colab": {
          "base_uri": "https://localhost:8080/",
          "height": 119
        },
        "outputId": "c4a8f8d0-57de-47e9-b326-3700d856cd7a"
      },
      "source": [
        "#8.smallest number and index of that number in list\n",
        "x=[]\n",
        "n=int(input(\"enter no. of elements in list:\"))\n",
        "for i in range(0,n):\n",
        "    element=int(input())\n",
        "    x.append(element)\n",
        "print(\"the list is:\",x)\n",
        "m=0\n",
        "t=x[0]\n",
        "for i in range(0,len(x)):\n",
        "    if(x[i]<t):\n",
        "        t=x[i]\n",
        "        m=i\n",
        "print(\"smallest number in list is \",t,\"at index \",m)"
      ],
      "execution_count": 13,
      "outputs": [
        {
          "output_type": "stream",
          "text": [
            "enter no. of elements in list:3\n",
            "1\n",
            "2\n",
            "3\n",
            "the list is: [1, 2, 3]\n",
            "smallest number in list is  1 at index  0\n"
          ],
          "name": "stdout"
        }
      ]
    },
    {
      "cell_type": "code",
      "metadata": {
        "id": "Ea-pt5o2WAx6",
        "colab_type": "code",
        "colab": {
          "base_uri": "https://localhost:8080/",
          "height": 119
        },
        "outputId": "c55c084c-4fc3-47e2-f8a5-7fff631ff5e1"
      },
      "source": [
        "#9.Longest string in list\n",
        "x=[]\n",
        "n=int(input(\"enter no. of elements in list:\"))\n",
        "for i in range(0,n):\n",
        "    e=input()\n",
        "    x.append(e)\n",
        "print(\"the list is:\",x)\n",
        "m=-1\n",
        "for i in x:\n",
        "    if len(i)>m:\n",
        "        m=len(i)\n",
        "        res=i\n",
        "print(res)"
      ],
      "execution_count": 14,
      "outputs": [
        {
          "output_type": "stream",
          "text": [
            "enter no. of elements in list:3\n",
            "1\n",
            "4\n",
            "7\n",
            "the list is: ['1', '4', '7']\n",
            "1\n"
          ],
          "name": "stdout"
        }
      ]
    },
    {
      "cell_type": "code",
      "metadata": {
        "id": "ZJY05iy7WKMf",
        "colab_type": "code",
        "colab": {}
      },
      "source": [
        ""
      ],
      "execution_count": 0,
      "outputs": []
    }
  ]
}