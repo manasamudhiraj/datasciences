{
  "nbformat": 4,
  "nbformat_minor": 0,
  "metadata": {
    "colab": {
      "name": "Assessment-6-(02-06-2020)",
      "provenance": []
    },
    "kernelspec": {
      "name": "python3",
      "display_name": "Python 3"
    }
  },
  "cells": [
    {
      "cell_type": "code",
      "metadata": {
        "id": "n8HLOlP52-do",
        "colab_type": "code",
        "colab": {}
      },
      "source": [
        ""
      ],
      "execution_count": 0,
      "outputs": []
    },
    {
      "cell_type": "markdown",
      "metadata": {
        "id": "tGy5n7zm3F4B",
        "colab_type": "text"
      },
      "source": [
        "##CES-221710313011-D.Manasa"
      ]
    },
    {
      "cell_type": "code",
      "metadata": {
        "id": "mSEkTYHY3M6O",
        "colab_type": "code",
        "colab": {}
      },
      "source": [
        ""
      ],
      "execution_count": 0,
      "outputs": []
    },
    {
      "cell_type": "code",
      "metadata": {
        "id": "RfaBqfjI3NmG",
        "colab_type": "code",
        "colab": {
          "base_uri": "https://localhost:8080/",
          "height": 1000
        },
        "outputId": "c9ddae67-8268-4256-fb3f-e336e1ea2145"
      },
      "source": [
        "import random\n",
        "\n",
        "response = True\n",
        "\n",
        "words = [\"pizza\", \"pasta\", \"maggi\",\"bread\",\"chips\"]\n",
        "\n",
        "correct_guess = False\n",
        "\n",
        "def update_clue(guessed_letter, secret_word, clue):\n",
        "    index = 0\n",
        "    while index < len(secret_word):\n",
        "        if guessed_letter == secret_word[index]:\n",
        "            clue[index] = guessed_letter\n",
        "        index+= 1\n",
        "\n",
        "while response == True:\n",
        "    lives = 9\n",
        "    secret_word = random.choice(words)\n",
        "    clue = list(\"?????\")\n",
        "    print(\"Type either a letter or  word!\\n\")\n",
        "\n",
        "    while lives > 0:\n",
        "        print(clue)\n",
        "        print(\"Lives left: \",lives)\n",
        "        guess = input(\"Guess a letter or word\\n\")\n",
        "\n",
        "        if guess == secret_word:\n",
        "            correct_guess = True\n",
        "            break\n",
        "\n",
        "        if guess in secret_word:\n",
        "            update_clue(guess, secret_word, clue)\n",
        "            print(\"Correct! Pick another letter...\\n\")\n",
        "\n",
        "        else:\n",
        "            print(\"Incorrect, You lost a life\")\n",
        "            lives-= 1\n",
        "            \n",
        "\n",
        "    if correct_guess:\n",
        "        print(\"You won! \")\n",
        "        break\n",
        "    else:\n",
        "            response = False"
      ],
      "execution_count": 2,
      "outputs": [
        {
          "output_type": "stream",
          "text": [
            "Type either a letter or  word!\n",
            "\n",
            "['?', '?', '?', '?', '?']\n",
            "Lives left:  9\n",
            "Guess a letter or word\n",
            "a\n",
            "Correct! Pick another letter...\n",
            "\n",
            "['?', 'a', '?', '?', '?']\n",
            "Lives left:  9\n",
            "Guess a letter or word\n",
            "t\n",
            "Incorrect, You lost a life\n",
            "['?', 'a', '?', '?', '?']\n",
            "Lives left:  8\n",
            "Guess a letter or word\n",
            "i\n",
            "Correct! Pick another letter...\n",
            "\n",
            "['?', 'a', '?', '?', 'i']\n",
            "Lives left:  8\n",
            "Guess a letter or word\n",
            "z\n",
            "Incorrect, You lost a life\n",
            "['?', 'a', '?', '?', 'i']\n",
            "Lives left:  7\n",
            "Guess a letter or word\n",
            "y\n",
            "Incorrect, You lost a life\n",
            "['?', 'a', '?', '?', 'i']\n",
            "Lives left:  6\n",
            "Guess a letter or word\n",
            "p\n",
            "Incorrect, You lost a life\n",
            "['?', 'a', '?', '?', 'i']\n",
            "Lives left:  5\n",
            "Guess a letter or word\n",
            "t\n",
            "Incorrect, You lost a life\n",
            "['?', 'a', '?', '?', 'i']\n",
            "Lives left:  4\n",
            "Guess a letter or word\n",
            "z\n",
            "Incorrect, You lost a life\n",
            "['?', 'a', '?', '?', 'i']\n",
            "Lives left:  3\n",
            "Guess a letter or word\n",
            "g\n",
            "Correct! Pick another letter...\n",
            "\n",
            "['?', 'a', 'g', 'g', 'i']\n",
            "Lives left:  3\n",
            "Guess a letter or word\n",
            "m\n",
            "Correct! Pick another letter...\n",
            "\n",
            "['m', 'a', 'g', 'g', 'i']\n",
            "Lives left:  3\n",
            "Guess a letter or word\n",
            "b\n",
            "Incorrect, You lost a life\n",
            "['m', 'a', 'g', 'g', 'i']\n",
            "Lives left:  2\n",
            "Guess a letter or word\n",
            "c\n",
            "Incorrect, You lost a life\n",
            "['m', 'a', 'g', 'g', 'i']\n",
            "Lives left:  1\n",
            "Guess a letter or word\n",
            "maggi\n",
            "You won! \n"
          ],
          "name": "stdout"
        }
      ]
    },
    {
      "cell_type": "code",
      "metadata": {
        "id": "jbBVRWYc3Zck",
        "colab_type": "code",
        "colab": {}
      },
      "source": [
        ""
      ],
      "execution_count": 0,
      "outputs": []
    }
  ]
}